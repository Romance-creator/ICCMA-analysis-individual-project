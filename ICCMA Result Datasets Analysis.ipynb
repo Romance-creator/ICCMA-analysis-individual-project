{
 "cells": [
  {
   "cell_type": "markdown",
   "id": "4fecdf47",
   "metadata": {},
   "source": [
    "# ICCMA analysis"
   ]
  },
  {
   "cell_type": "markdown",
   "id": "4b2f227c",
   "metadata": {},
   "source": [
    "## import"
   ]
  },
  {
   "cell_type": "code",
   "execution_count": 1,
   "id": "9ec11c07",
   "metadata": {},
   "outputs": [],
   "source": [
    "import numpy as np\n",
    "import pandas as pd\n",
    "import matplotlib.pyplot as plt \n",
    "import seaborn as sns"
   ]
  },
  {
   "cell_type": "code",
   "execution_count": 2,
   "id": "73b973f1",
   "metadata": {},
   "outputs": [],
   "source": [
    "# status define function Consistent with 2017,2019, 2021\n",
    "def function(s,t):\n",
    "    if 0<=s<=1 and t<600:\n",
    "        return 'completed'\n",
    "    elif s == 0:\n",
    "        if t < 600:\n",
    "            return 'out of memory'\n",
    "        elif t >= 600:\n",
    "            return 'timeout'\n",
    "    elif s == -5 and t < 600:\n",
    "            return 'incorrect solution'\n",
    "    else:\n",
    "        return 'crashed'"
   ]
  },
  {
   "cell_type": "code",
   "execution_count": 3,
   "id": "730e2e0f",
   "metadata": {},
   "outputs": [],
   "source": [
    "# status define function Consistent with 2017,2019, 2021\n",
    "def function_2015(j,c):\n",
    "    if j == 'correct' and 0 < c <= 600:\n",
    "        return 'completed'\n",
    "    elif j == 'incorrect' and 0 < c <= 600:\n",
    "            return 'incorrect solution'\n",
    "    else:\n",
    "        return 'timeout or crashed'"
   ]
  },
  {
   "cell_type": "markdown",
   "id": "418e05cf",
   "metadata": {},
   "source": [
    "## 2015 Classical Track"
   ]
  },
  {
   "cell_type": "markdown",
   "id": "906df173",
   "metadata": {},
   "source": [
    "### CO Track"
   ]
  },
  {
   "cell_type": "code",
   "execution_count": 4,
   "id": "eb291ac6",
   "metadata": {},
   "outputs": [],
   "source": [
    "df_2015_all = pd.read_csv('C:/Users/DELL/ICCMA/data/2015_all.csv')"
   ]
  },
  {
   "cell_type": "code",
   "execution_count": 5,
   "id": "9223e545",
   "metadata": {},
   "outputs": [
    {
     "name": "stdout",
     "output_type": "stream",
     "text": [
      "<class 'pandas.core.frame.DataFrame'>\n",
      "RangeIndex: 62592 entries, 0 to 62591\n",
      "Data columns (total 6 columns):\n",
      " #   Column     Non-Null Count  Dtype \n",
      "---  ------     --------------  ----- \n",
      " 0   year       62592 non-null  int64 \n",
      " 1   solver     62592 non-null  object\n",
      " 2   track      62592 non-null  object\n",
      " 3   instances  62592 non-null  object\n",
      " 4   judgment   62592 non-null  object\n",
      " 5   cpu-time   62592 non-null  int64 \n",
      "dtypes: int64(2), object(4)\n",
      "memory usage: 2.9+ MB\n"
     ]
    }
   ],
   "source": [
    "df_2015_all.info()"
   ]
  },
  {
   "cell_type": "code",
   "execution_count": 6,
   "id": "59374e3d",
   "metadata": {},
   "outputs": [
    {
     "data": {
      "text/plain": [
       "array(['12-ASGL', '11-GRIS', '03-ArgTools', '16-Carneades', '08-CoQuiAAS',\n",
       "       '02-ArgSemSAT', '15-DIAMOND', '01-LabSATSolver', '09-ASPARTIX-D',\n",
       "       '04-Cegartix', '06-ZJU-ARG.sh', '17-prefMaxSAT', '05-Dungell',\n",
       "       '07-ASPARTIX-V', '10-ConArg', '18-ASSA.sh', '14-ProGraph',\n",
       "       '13-LamatzSolver.sh'], dtype=object)"
      ]
     },
     "execution_count": 6,
     "metadata": {},
     "output_type": "execute_result"
    }
   ],
   "source": [
    "df_2015_all.solver.unique()"
   ]
  },
  {
   "cell_type": "code",
   "execution_count": 7,
   "id": "6b8628b7",
   "metadata": {},
   "outputs": [
    {
     "data": {
      "text/plain": [
       "array(['DC-GR', 'EE-PR', 'DC-ST', 'DC-PR', 'SE-CO', 'DC-CO', 'EE-GR',\n",
       "       'SE-GR', 'EE-CO', 'DS-PR', 'DS-ST', 'SE-ST', 'DS-GR', 'EE-ST',\n",
       "       'SE-PR', 'DS-CO'], dtype=object)"
      ]
     },
     "execution_count": 7,
     "metadata": {},
     "output_type": "execute_result"
    }
   ],
   "source": [
    "df_2015_all.track.unique()"
   ]
  },
  {
   "cell_type": "code",
   "execution_count": 8,
   "id": "f8762e14",
   "metadata": {},
   "outputs": [],
   "source": [
    "df_2015_all['cpu-time'] = df_2015_all['cpu-time']/1000"
   ]
  },
  {
   "cell_type": "code",
   "execution_count": 9,
   "id": "ab331aef",
   "metadata": {},
   "outputs": [],
   "source": [
    "df_2015_CO = df_2015_all.loc[df_2015_all['track'].str.contains('CO')]"
   ]
  },
  {
   "cell_type": "code",
   "execution_count": 10,
   "id": "8f3b9dce",
   "metadata": {},
   "outputs": [
    {
     "name": "stdout",
     "output_type": "stream",
     "text": [
      "<class 'pandas.core.frame.DataFrame'>\n",
      "Int64Index: 14208 entries, 2448 to 62591\n",
      "Data columns (total 6 columns):\n",
      " #   Column     Non-Null Count  Dtype  \n",
      "---  ------     --------------  -----  \n",
      " 0   year       14208 non-null  int64  \n",
      " 1   solver     14208 non-null  object \n",
      " 2   track      14208 non-null  object \n",
      " 3   instances  14208 non-null  object \n",
      " 4   judgment   14208 non-null  object \n",
      " 5   cpu-time   14208 non-null  float64\n",
      "dtypes: float64(1), int64(1), object(4)\n",
      "memory usage: 777.0+ KB\n"
     ]
    }
   ],
   "source": [
    "df_2015_CO.info()"
   ]
  },
  {
   "cell_type": "code",
   "execution_count": 11,
   "id": "36d25108",
   "metadata": {},
   "outputs": [
    {
     "data": {
      "text/html": [
       "<div>\n",
       "<style scoped>\n",
       "    .dataframe tbody tr th:only-of-type {\n",
       "        vertical-align: middle;\n",
       "    }\n",
       "\n",
       "    .dataframe tbody tr th {\n",
       "        vertical-align: top;\n",
       "    }\n",
       "\n",
       "    .dataframe thead th {\n",
       "        text-align: right;\n",
       "    }\n",
       "</style>\n",
       "<table border=\"1\" class=\"dataframe\">\n",
       "  <thead>\n",
       "    <tr style=\"text-align: right;\">\n",
       "      <th></th>\n",
       "      <th>year</th>\n",
       "      <th>solver</th>\n",
       "      <th>track</th>\n",
       "      <th>instances</th>\n",
       "      <th>judgment</th>\n",
       "      <th>cpu-time</th>\n",
       "    </tr>\n",
       "  </thead>\n",
       "  <tbody>\n",
       "    <tr>\n",
       "      <th>2448</th>\n",
       "      <td>2015</td>\n",
       "      <td>05-Dungell</td>\n",
       "      <td>SE-CO</td>\n",
       "      <td>2015/testset1_gr_small/g_101552__1909__1_1_1__...</td>\n",
       "      <td>incorrect</td>\n",
       "      <td>-0.001</td>\n",
       "    </tr>\n",
       "    <tr>\n",
       "      <th>2449</th>\n",
       "      <td>2015</td>\n",
       "      <td>12-ASGL</td>\n",
       "      <td>SE-CO</td>\n",
       "      <td>2015/testset1_gr_small/g_101552__1909__1_1_1__...</td>\n",
       "      <td>correct</td>\n",
       "      <td>0.370</td>\n",
       "    </tr>\n",
       "    <tr>\n",
       "      <th>2450</th>\n",
       "      <td>2015</td>\n",
       "      <td>03-ArgTools</td>\n",
       "      <td>SE-CO</td>\n",
       "      <td>2015/testset1_gr_small/g_101552__1909__1_1_1__...</td>\n",
       "      <td>correct</td>\n",
       "      <td>1.380</td>\n",
       "    </tr>\n",
       "    <tr>\n",
       "      <th>2451</th>\n",
       "      <td>2015</td>\n",
       "      <td>16-Carneades</td>\n",
       "      <td>SE-CO</td>\n",
       "      <td>2015/testset1_gr_small/g_101552__1909__1_1_1__...</td>\n",
       "      <td>incorrect</td>\n",
       "      <td>-0.001</td>\n",
       "    </tr>\n",
       "    <tr>\n",
       "      <th>2452</th>\n",
       "      <td>2015</td>\n",
       "      <td>08-CoQuiAAS</td>\n",
       "      <td>SE-CO</td>\n",
       "      <td>2015/testset1_gr_small/g_101552__1909__1_1_1__...</td>\n",
       "      <td>correct</td>\n",
       "      <td>0.040</td>\n",
       "    </tr>\n",
       "  </tbody>\n",
       "</table>\n",
       "</div>"
      ],
      "text/plain": [
       "      year        solver  track  \\\n",
       "2448  2015    05-Dungell  SE-CO   \n",
       "2449  2015       12-ASGL  SE-CO   \n",
       "2450  2015   03-ArgTools  SE-CO   \n",
       "2451  2015  16-Carneades  SE-CO   \n",
       "2452  2015   08-CoQuiAAS  SE-CO   \n",
       "\n",
       "                                              instances   judgment  cpu-time  \n",
       "2448  2015/testset1_gr_small/g_101552__1909__1_1_1__...  incorrect    -0.001  \n",
       "2449  2015/testset1_gr_small/g_101552__1909__1_1_1__...    correct     0.370  \n",
       "2450  2015/testset1_gr_small/g_101552__1909__1_1_1__...    correct     1.380  \n",
       "2451  2015/testset1_gr_small/g_101552__1909__1_1_1__...  incorrect    -0.001  \n",
       "2452  2015/testset1_gr_small/g_101552__1909__1_1_1__...    correct     0.040  "
      ]
     },
     "execution_count": 11,
     "metadata": {},
     "output_type": "execute_result"
    }
   ],
   "source": [
    "df_2015_CO.head()"
   ]
  },
  {
   "cell_type": "code",
   "execution_count": 12,
   "id": "b41f5ad3",
   "metadata": {},
   "outputs": [
    {
     "name": "stderr",
     "output_type": "stream",
     "text": [
      "<ipython-input-12-2e82ecb6b3f1>:1: SettingWithCopyWarning: \n",
      "A value is trying to be set on a copy of a slice from a DataFrame.\n",
      "Try using .loc[row_indexer,col_indexer] = value instead\n",
      "\n",
      "See the caveats in the documentation: https://pandas.pydata.org/pandas-docs/stable/user_guide/indexing.html#returning-a-view-versus-a-copy\n",
      "  df_2015_CO['status'] = df_2015_CO.apply(lambda x: function_2015(x['judgment'], x['cpu-time']), axis = 1)\n"
     ]
    }
   ],
   "source": [
    "df_2015_CO['status'] = df_2015_CO.apply(lambda x: function_2015(x['judgment'], x['cpu-time']), axis = 1)"
   ]
  },
  {
   "cell_type": "code",
   "execution_count": 13,
   "id": "9c1c1346",
   "metadata": {},
   "outputs": [
    {
     "data": {
      "text/html": [
       "<div>\n",
       "<style scoped>\n",
       "    .dataframe tbody tr th:only-of-type {\n",
       "        vertical-align: middle;\n",
       "    }\n",
       "\n",
       "    .dataframe tbody tr th {\n",
       "        vertical-align: top;\n",
       "    }\n",
       "\n",
       "    .dataframe thead th {\n",
       "        text-align: right;\n",
       "    }\n",
       "</style>\n",
       "<table border=\"1\" class=\"dataframe\">\n",
       "  <thead>\n",
       "    <tr style=\"text-align: right;\">\n",
       "      <th></th>\n",
       "      <th>year</th>\n",
       "      <th>solver</th>\n",
       "      <th>track</th>\n",
       "      <th>instances</th>\n",
       "      <th>judgment</th>\n",
       "      <th>cpu-time</th>\n",
       "      <th>status</th>\n",
       "    </tr>\n",
       "  </thead>\n",
       "  <tbody>\n",
       "    <tr>\n",
       "      <th>2448</th>\n",
       "      <td>2015</td>\n",
       "      <td>05-Dungell</td>\n",
       "      <td>SE-CO</td>\n",
       "      <td>2015/testset1_gr_small/g_101552__1909__1_1_1__...</td>\n",
       "      <td>incorrect</td>\n",
       "      <td>-0.001</td>\n",
       "      <td>timeout or crashed</td>\n",
       "    </tr>\n",
       "    <tr>\n",
       "      <th>2449</th>\n",
       "      <td>2015</td>\n",
       "      <td>12-ASGL</td>\n",
       "      <td>SE-CO</td>\n",
       "      <td>2015/testset1_gr_small/g_101552__1909__1_1_1__...</td>\n",
       "      <td>correct</td>\n",
       "      <td>0.370</td>\n",
       "      <td>completed</td>\n",
       "    </tr>\n",
       "    <tr>\n",
       "      <th>2450</th>\n",
       "      <td>2015</td>\n",
       "      <td>03-ArgTools</td>\n",
       "      <td>SE-CO</td>\n",
       "      <td>2015/testset1_gr_small/g_101552__1909__1_1_1__...</td>\n",
       "      <td>correct</td>\n",
       "      <td>1.380</td>\n",
       "      <td>completed</td>\n",
       "    </tr>\n",
       "    <tr>\n",
       "      <th>2451</th>\n",
       "      <td>2015</td>\n",
       "      <td>16-Carneades</td>\n",
       "      <td>SE-CO</td>\n",
       "      <td>2015/testset1_gr_small/g_101552__1909__1_1_1__...</td>\n",
       "      <td>incorrect</td>\n",
       "      <td>-0.001</td>\n",
       "      <td>timeout or crashed</td>\n",
       "    </tr>\n",
       "    <tr>\n",
       "      <th>2452</th>\n",
       "      <td>2015</td>\n",
       "      <td>08-CoQuiAAS</td>\n",
       "      <td>SE-CO</td>\n",
       "      <td>2015/testset1_gr_small/g_101552__1909__1_1_1__...</td>\n",
       "      <td>correct</td>\n",
       "      <td>0.040</td>\n",
       "      <td>completed</td>\n",
       "    </tr>\n",
       "  </tbody>\n",
       "</table>\n",
       "</div>"
      ],
      "text/plain": [
       "      year        solver  track  \\\n",
       "2448  2015    05-Dungell  SE-CO   \n",
       "2449  2015       12-ASGL  SE-CO   \n",
       "2450  2015   03-ArgTools  SE-CO   \n",
       "2451  2015  16-Carneades  SE-CO   \n",
       "2452  2015   08-CoQuiAAS  SE-CO   \n",
       "\n",
       "                                              instances   judgment  cpu-time  \\\n",
       "2448  2015/testset1_gr_small/g_101552__1909__1_1_1__...  incorrect    -0.001   \n",
       "2449  2015/testset1_gr_small/g_101552__1909__1_1_1__...    correct     0.370   \n",
       "2450  2015/testset1_gr_small/g_101552__1909__1_1_1__...    correct     1.380   \n",
       "2451  2015/testset1_gr_small/g_101552__1909__1_1_1__...  incorrect    -0.001   \n",
       "2452  2015/testset1_gr_small/g_101552__1909__1_1_1__...    correct     0.040   \n",
       "\n",
       "                  status  \n",
       "2448  timeout or crashed  \n",
       "2449           completed  \n",
       "2450           completed  \n",
       "2451  timeout or crashed  \n",
       "2452           completed  "
      ]
     },
     "execution_count": 13,
     "metadata": {},
     "output_type": "execute_result"
    }
   ],
   "source": [
    "df_2015_CO.head()"
   ]
  },
  {
   "cell_type": "code",
   "execution_count": 14,
   "id": "d71490d8",
   "metadata": {},
   "outputs": [],
   "source": [
    "def function_score(s):\n",
    "    if s =='completed':\n",
    "        return 1\n",
    "    elif s =='incorrect solution':\n",
    "        return -5\n",
    "    else:\n",
    "        return 0"
   ]
  },
  {
   "cell_type": "code",
   "execution_count": 15,
   "id": "10c5fc17",
   "metadata": {},
   "outputs": [
    {
     "name": "stderr",
     "output_type": "stream",
     "text": [
      "<ipython-input-15-f8016b49ba52>:1: SettingWithCopyWarning: \n",
      "A value is trying to be set on a copy of a slice from a DataFrame.\n",
      "Try using .loc[row_indexer,col_indexer] = value instead\n",
      "\n",
      "See the caveats in the documentation: https://pandas.pydata.org/pandas-docs/stable/user_guide/indexing.html#returning-a-view-versus-a-copy\n",
      "  df_2015_CO['score'] = df_2015_CO.apply(lambda x: function_score(x['status']), axis = 1)\n"
     ]
    }
   ],
   "source": [
    "df_2015_CO['score'] = df_2015_CO.apply(lambda x: function_score(x['status']), axis = 1)"
   ]
  },
  {
   "cell_type": "code",
   "execution_count": 16,
   "id": "4ff6327e",
   "metadata": {},
   "outputs": [
    {
     "data": {
      "text/html": [
       "<div>\n",
       "<style scoped>\n",
       "    .dataframe tbody tr th:only-of-type {\n",
       "        vertical-align: middle;\n",
       "    }\n",
       "\n",
       "    .dataframe tbody tr th {\n",
       "        vertical-align: top;\n",
       "    }\n",
       "\n",
       "    .dataframe thead th {\n",
       "        text-align: right;\n",
       "    }\n",
       "</style>\n",
       "<table border=\"1\" class=\"dataframe\">\n",
       "  <thead>\n",
       "    <tr style=\"text-align: right;\">\n",
       "      <th></th>\n",
       "      <th>year</th>\n",
       "      <th>solver</th>\n",
       "      <th>track</th>\n",
       "      <th>instances</th>\n",
       "      <th>judgment</th>\n",
       "      <th>cpu-time</th>\n",
       "      <th>status</th>\n",
       "      <th>score</th>\n",
       "    </tr>\n",
       "  </thead>\n",
       "  <tbody>\n",
       "    <tr>\n",
       "      <th>2448</th>\n",
       "      <td>2015</td>\n",
       "      <td>05-Dungell</td>\n",
       "      <td>SE-CO</td>\n",
       "      <td>2015/testset1_gr_small/g_101552__1909__1_1_1__...</td>\n",
       "      <td>incorrect</td>\n",
       "      <td>-0.001</td>\n",
       "      <td>timeout or crashed</td>\n",
       "      <td>0</td>\n",
       "    </tr>\n",
       "    <tr>\n",
       "      <th>2449</th>\n",
       "      <td>2015</td>\n",
       "      <td>12-ASGL</td>\n",
       "      <td>SE-CO</td>\n",
       "      <td>2015/testset1_gr_small/g_101552__1909__1_1_1__...</td>\n",
       "      <td>correct</td>\n",
       "      <td>0.370</td>\n",
       "      <td>completed</td>\n",
       "      <td>1</td>\n",
       "    </tr>\n",
       "    <tr>\n",
       "      <th>2450</th>\n",
       "      <td>2015</td>\n",
       "      <td>03-ArgTools</td>\n",
       "      <td>SE-CO</td>\n",
       "      <td>2015/testset1_gr_small/g_101552__1909__1_1_1__...</td>\n",
       "      <td>correct</td>\n",
       "      <td>1.380</td>\n",
       "      <td>completed</td>\n",
       "      <td>1</td>\n",
       "    </tr>\n",
       "    <tr>\n",
       "      <th>2451</th>\n",
       "      <td>2015</td>\n",
       "      <td>16-Carneades</td>\n",
       "      <td>SE-CO</td>\n",
       "      <td>2015/testset1_gr_small/g_101552__1909__1_1_1__...</td>\n",
       "      <td>incorrect</td>\n",
       "      <td>-0.001</td>\n",
       "      <td>timeout or crashed</td>\n",
       "      <td>0</td>\n",
       "    </tr>\n",
       "    <tr>\n",
       "      <th>2452</th>\n",
       "      <td>2015</td>\n",
       "      <td>08-CoQuiAAS</td>\n",
       "      <td>SE-CO</td>\n",
       "      <td>2015/testset1_gr_small/g_101552__1909__1_1_1__...</td>\n",
       "      <td>correct</td>\n",
       "      <td>0.040</td>\n",
       "      <td>completed</td>\n",
       "      <td>1</td>\n",
       "    </tr>\n",
       "  </tbody>\n",
       "</table>\n",
       "</div>"
      ],
      "text/plain": [
       "      year        solver  track  \\\n",
       "2448  2015    05-Dungell  SE-CO   \n",
       "2449  2015       12-ASGL  SE-CO   \n",
       "2450  2015   03-ArgTools  SE-CO   \n",
       "2451  2015  16-Carneades  SE-CO   \n",
       "2452  2015   08-CoQuiAAS  SE-CO   \n",
       "\n",
       "                                              instances   judgment  cpu-time  \\\n",
       "2448  2015/testset1_gr_small/g_101552__1909__1_1_1__...  incorrect    -0.001   \n",
       "2449  2015/testset1_gr_small/g_101552__1909__1_1_1__...    correct     0.370   \n",
       "2450  2015/testset1_gr_small/g_101552__1909__1_1_1__...    correct     1.380   \n",
       "2451  2015/testset1_gr_small/g_101552__1909__1_1_1__...  incorrect    -0.001   \n",
       "2452  2015/testset1_gr_small/g_101552__1909__1_1_1__...    correct     0.040   \n",
       "\n",
       "                  status  score  \n",
       "2448  timeout or crashed      0  \n",
       "2449           completed      1  \n",
       "2450           completed      1  \n",
       "2451  timeout or crashed      0  \n",
       "2452           completed      1  "
      ]
     },
     "execution_count": 16,
     "metadata": {},
     "output_type": "execute_result"
    }
   ],
   "source": [
    "df_2015_CO.head()"
   ]
  },
  {
   "cell_type": "code",
   "execution_count": 17,
   "id": "ae71bd64",
   "metadata": {},
   "outputs": [
    {
     "name": "stdout",
     "output_type": "stream",
     "text": [
      "<class 'pandas.core.frame.DataFrame'>\n",
      "Int64Index: 14208 entries, 2448 to 62591\n",
      "Data columns (total 8 columns):\n",
      " #   Column     Non-Null Count  Dtype  \n",
      "---  ------     --------------  -----  \n",
      " 0   year       14208 non-null  int64  \n",
      " 1   solver     14208 non-null  object \n",
      " 2   track      14208 non-null  object \n",
      " 3   instances  14208 non-null  object \n",
      " 4   judgment   14208 non-null  object \n",
      " 5   cpu-time   14208 non-null  float64\n",
      " 6   status     14208 non-null  object \n",
      " 7   score      14208 non-null  int64  \n",
      "dtypes: float64(1), int64(2), object(5)\n",
      "memory usage: 999.0+ KB\n"
     ]
    }
   ],
   "source": [
    "df_2015_CO.info()"
   ]
  },
  {
   "cell_type": "code",
   "execution_count": 18,
   "id": "daf32fe7",
   "metadata": {},
   "outputs": [
    {
     "data": {
      "text/html": [
       "<div>\n",
       "<style scoped>\n",
       "    .dataframe tbody tr th:only-of-type {\n",
       "        vertical-align: middle;\n",
       "    }\n",
       "\n",
       "    .dataframe tbody tr th {\n",
       "        vertical-align: top;\n",
       "    }\n",
       "\n",
       "    .dataframe thead th {\n",
       "        text-align: right;\n",
       "    }\n",
       "</style>\n",
       "<table border=\"1\" class=\"dataframe\">\n",
       "  <thead>\n",
       "    <tr style=\"text-align: right;\">\n",
       "      <th></th>\n",
       "      <th></th>\n",
       "      <th>year</th>\n",
       "      <th>solver</th>\n",
       "      <th>instances</th>\n",
       "      <th>judgment</th>\n",
       "      <th>cpu-time</th>\n",
       "      <th>score</th>\n",
       "    </tr>\n",
       "    <tr>\n",
       "      <th>track</th>\n",
       "      <th>status</th>\n",
       "      <th></th>\n",
       "      <th></th>\n",
       "      <th></th>\n",
       "      <th></th>\n",
       "      <th></th>\n",
       "      <th></th>\n",
       "    </tr>\n",
       "  </thead>\n",
       "  <tbody>\n",
       "    <tr>\n",
       "      <th rowspan=\"3\" valign=\"top\">DC-CO</th>\n",
       "      <th>completed</th>\n",
       "      <td>4239</td>\n",
       "      <td>4239</td>\n",
       "      <td>4239</td>\n",
       "      <td>4239</td>\n",
       "      <td>4239</td>\n",
       "      <td>4239</td>\n",
       "    </tr>\n",
       "    <tr>\n",
       "      <th>incorrect solution</th>\n",
       "      <td>5</td>\n",
       "      <td>5</td>\n",
       "      <td>5</td>\n",
       "      <td>5</td>\n",
       "      <td>5</td>\n",
       "      <td>5</td>\n",
       "    </tr>\n",
       "    <tr>\n",
       "      <th>timeout or crashed</th>\n",
       "      <td>940</td>\n",
       "      <td>940</td>\n",
       "      <td>940</td>\n",
       "      <td>940</td>\n",
       "      <td>940</td>\n",
       "      <td>940</td>\n",
       "    </tr>\n",
       "    <tr>\n",
       "      <th rowspan=\"3\" valign=\"top\">DS-CO</th>\n",
       "      <th>completed</th>\n",
       "      <td>4269</td>\n",
       "      <td>4269</td>\n",
       "      <td>4269</td>\n",
       "      <td>4269</td>\n",
       "      <td>4269</td>\n",
       "      <td>4269</td>\n",
       "    </tr>\n",
       "    <tr>\n",
       "      <th>incorrect solution</th>\n",
       "      <td>5</td>\n",
       "      <td>5</td>\n",
       "      <td>5</td>\n",
       "      <td>5</td>\n",
       "      <td>5</td>\n",
       "      <td>5</td>\n",
       "    </tr>\n",
       "    <tr>\n",
       "      <th>timeout or crashed</th>\n",
       "      <td>910</td>\n",
       "      <td>910</td>\n",
       "      <td>910</td>\n",
       "      <td>910</td>\n",
       "      <td>910</td>\n",
       "      <td>910</td>\n",
       "    </tr>\n",
       "    <tr>\n",
       "      <th rowspan=\"3\" valign=\"top\">EE-CO</th>\n",
       "      <th>completed</th>\n",
       "      <td>1285</td>\n",
       "      <td>1285</td>\n",
       "      <td>1285</td>\n",
       "      <td>1285</td>\n",
       "      <td>1285</td>\n",
       "      <td>1285</td>\n",
       "    </tr>\n",
       "    <tr>\n",
       "      <th>incorrect solution</th>\n",
       "      <td>40</td>\n",
       "      <td>40</td>\n",
       "      <td>40</td>\n",
       "      <td>40</td>\n",
       "      <td>40</td>\n",
       "      <td>40</td>\n",
       "    </tr>\n",
       "    <tr>\n",
       "      <th>timeout or crashed</th>\n",
       "      <td>595</td>\n",
       "      <td>595</td>\n",
       "      <td>595</td>\n",
       "      <td>595</td>\n",
       "      <td>595</td>\n",
       "      <td>595</td>\n",
       "    </tr>\n",
       "    <tr>\n",
       "      <th rowspan=\"3\" valign=\"top\">SE-CO</th>\n",
       "      <th>completed</th>\n",
       "      <td>1517</td>\n",
       "      <td>1517</td>\n",
       "      <td>1517</td>\n",
       "      <td>1517</td>\n",
       "      <td>1517</td>\n",
       "      <td>1517</td>\n",
       "    </tr>\n",
       "    <tr>\n",
       "      <th>incorrect solution</th>\n",
       "      <td>28</td>\n",
       "      <td>28</td>\n",
       "      <td>28</td>\n",
       "      <td>28</td>\n",
       "      <td>28</td>\n",
       "      <td>28</td>\n",
       "    </tr>\n",
       "    <tr>\n",
       "      <th>timeout or crashed</th>\n",
       "      <td>375</td>\n",
       "      <td>375</td>\n",
       "      <td>375</td>\n",
       "      <td>375</td>\n",
       "      <td>375</td>\n",
       "      <td>375</td>\n",
       "    </tr>\n",
       "  </tbody>\n",
       "</table>\n",
       "</div>"
      ],
      "text/plain": [
       "                          year  solver  instances  judgment  cpu-time  score\n",
       "track status                                                                \n",
       "DC-CO completed           4239    4239       4239      4239      4239   4239\n",
       "      incorrect solution     5       5          5         5         5      5\n",
       "      timeout or crashed   940     940        940       940       940    940\n",
       "DS-CO completed           4269    4269       4269      4269      4269   4269\n",
       "      incorrect solution     5       5          5         5         5      5\n",
       "      timeout or crashed   910     910        910       910       910    910\n",
       "EE-CO completed           1285    1285       1285      1285      1285   1285\n",
       "      incorrect solution    40      40         40        40        40     40\n",
       "      timeout or crashed   595     595        595       595       595    595\n",
       "SE-CO completed           1517    1517       1517      1517      1517   1517\n",
       "      incorrect solution    28      28         28        28        28     28\n",
       "      timeout or crashed   375     375        375       375       375    375"
      ]
     },
     "execution_count": 18,
     "metadata": {},
     "output_type": "execute_result"
    }
   ],
   "source": [
    "df_2015_CO.groupby(['track','status']).count()"
   ]
  },
  {
   "cell_type": "code",
   "execution_count": 19,
   "id": "43f19b1f",
   "metadata": {},
   "outputs": [
    {
     "data": {
      "text/plain": [
       "<matplotlib.legend.Legend at 0x21b07a14040>"
      ]
     },
     "execution_count": 19,
     "metadata": {},
     "output_type": "execute_result"
    },
    {
     "data": {
      "image/png": "[encoded data removed]",
      "text/plain": [
       "<Figure size 400x320 with 1 Axes>"
      ]
     },
     "metadata": {
      "needs_background": "light"
     },
     "output_type": "display_data"
    }
   ],
   "source": [
    "fig, ax = plt.subplots(figsize=(5, 4), dpi=80)\n",
    "p = sns.countplot(data=df_2015_CO,y='track', hue='status',ax=ax)\n",
    "plt.xlabel('solvers count')\n",
    "plt.ylabel('track')\n",
    "plt.title('status count compared between classical CO track in 2015')\n",
    "plt.legend(loc='center left', bbox_to_anchor=(1, 0.5))"
   ]
  },
  {
   "cell_type": "code",
   "execution_count": 20,
   "id": "c096f335",
   "metadata": {},
   "outputs": [
    {
     "data": {
      "text/plain": [
       "track  judgment \n",
       "DC-CO  correct      4448\n",
       "       incorrect     736\n",
       "DS-CO  correct      4558\n",
       "       incorrect     626\n",
       "EE-CO  correct      1300\n",
       "       incorrect     620\n",
       "SE-CO  correct      1602\n",
       "       incorrect     318\n",
       "Name: solver, dtype: int64"
      ]
     },
     "execution_count": 20,
     "metadata": {},
     "output_type": "execute_result"
    }
   ],
   "source": [
    "df_2015_CO.groupby(['track','judgment'])['solver'].count()"
   ]
  },
  {
   "cell_type": "code",
   "execution_count": 21,
   "id": "817495bf",
   "metadata": {},
   "outputs": [],
   "source": [
    "df_2015_CO_correct = df_2015_CO[df_2015_CO['score'] == 1]"
   ]
  },
  {
   "cell_type": "code",
   "execution_count": 22,
   "id": "f0a93628",
   "metadata": {},
   "outputs": [
    {
     "data": {
      "text/plain": [
       "26.719937743190698"
      ]
     },
     "execution_count": 22,
     "metadata": {},
     "output_type": "execute_result"
    }
   ],
   "source": [
    "df_2015_CO_correct.loc[df_2015_CO_correct['track'] == 'EE-CO']['cpu-time'].mean()"
   ]
  },
  {
   "cell_type": "code",
   "execution_count": 23,
   "id": "7fa36a16",
   "metadata": {},
   "outputs": [
    {
     "data": {
      "image/png": "[encoded data removed]",
      "text/plain": [
       "<Figure size 400x320 with 1 Axes>"
      ]
     },
     "metadata": {
      "needs_background": "light"
     },
     "output_type": "display_data"
    }
   ],
   "source": [
    "fig, ax = plt.subplots(figsize=(5, 4), dpi=80)\n",
    "ax = sns.barplot(x='track', y='cpu-time', data=df_2015_CO_correct )\n",
    "plt.title('average cpu-time compared between classical CO track in 2015 (just score 1)', y=1.05, fontsize = 12)\n",
    "for p in ax.patches:\n",
    "    ax.annotate(format(p.get_height(), '.1f'), \n",
    "                   (p.get_x() + p.get_width() / 2., p.get_height()), \n",
    "                   ha = 'center', va = 'center', \n",
    "                   xytext = (0, 9), \n",
    "                   textcoords = 'offset points')"
   ]
  },
  {
   "cell_type": "code",
   "execution_count": 24,
   "id": "a0be1e75",
   "metadata": {},
   "outputs": [
    {
     "data": {
      "text/plain": [
       "Text(0.5, 1.0, 'all solvers')"
      ]
     },
     "execution_count": 24,
     "metadata": {},
     "output_type": "execute_result"
    },
    {
     "data": {
      "image/png": "[encoded data removed]",
      "text/plain": [
       "<Figure size 1080x360 with 2 Axes>"
      ]
     },
     "metadata": {
      "needs_background": "light"
     },
     "output_type": "display_data"
    }
   ],
   "source": [
    "fig, axes = plt.subplots(1, 2, figsize=(15, 5))\n",
    "fig.suptitle('CPU-time compared between classical CO semantics in 2015')\n",
    "\n",
    "sns.barplot(ax=axes[0], x='track', y='cpu-time', data=df_2015_CO_correct)\n",
    "axes[0].set_title('just score 1 solvers')\n",
    "\n",
    "sns.barplot(ax=axes[1], x='track', y='cpu-time', data=df_2015_CO)\n",
    "axes[1].set_title('all solvers')"
   ]
  },
  {
   "cell_type": "markdown",
   "id": "d79b4d79",
   "metadata": {},
   "source": [
    "### PR Track"
   ]
  },
  {
   "cell_type": "code",
   "execution_count": 25,
   "id": "0941e2f4",
   "metadata": {},
   "outputs": [],
   "source": [
    "df_2015_PR = df_2015_all.loc[df_2015_all['track'].str.contains('PR')]"
   ]
  },
  {
   "cell_type": "code",
   "execution_count": 26,
   "id": "160f096b",
   "metadata": {},
   "outputs": [],
   "source": [
    "df_2015_PR_correct = df_2015_PR[df_2015_PR['judgment'] == 'correct']"
   ]
  },
  {
   "cell_type": "code",
   "execution_count": 27,
   "id": "ddd2b38d",
   "metadata": {},
   "outputs": [
    {
     "name": "stderr",
     "output_type": "stream",
     "text": [
      "<ipython-input-27-f1a2e9e041c8>:1: SettingWithCopyWarning: \n",
      "A value is trying to be set on a copy of a slice from a DataFrame.\n",
      "Try using .loc[row_indexer,col_indexer] = value instead\n",
      "\n",
      "See the caveats in the documentation: https://pandas.pydata.org/pandas-docs/stable/user_guide/indexing.html#returning-a-view-versus-a-copy\n",
      "  df_2015_PR['status'] = df_2015_PR.apply(lambda x: function_2015(x['judgment'], x['cpu-time']), axis = 1)\n"
     ]
    }
   ],
   "source": [
    "df_2015_PR['status'] = df_2015_PR.apply(lambda x: function_2015(x['judgment'], x['cpu-time']), axis = 1)"
   ]
  },
  {
   "cell_type": "code",
   "execution_count": 28,
   "id": "b6c305c0",
   "metadata": {},
   "outputs": [
    {
     "name": "stderr",
     "output_type": "stream",
     "text": [
      "<ipython-input-28-a345c7df6faf>:1: SettingWithCopyWarning: \n",
      "A value is trying to be set on a copy of a slice from a DataFrame.\n",
      "Try using .loc[row_indexer,col_indexer] = value instead\n",
      "\n",
      "See the caveats in the documentation: https://pandas.pydata.org/pandas-docs/stable/user_guide/indexing.html#returning-a-view-versus-a-copy\n",
      "  df_2015_PR['score'] = df_2015_PR.apply(lambda x: function_score(x['status']), axis = 1)\n"
     ]
    }
   ],
   "source": [
    "df_2015_PR['score'] = df_2015_PR.apply(lambda x: function_score(x['status']), axis = 1)"
   ]
  },
  {
   "cell_type": "code",
   "execution_count": 29,
   "id": "a6eed489",
   "metadata": {},
   "outputs": [
    {
     "data": {
      "text/html": [
       "<div>\n",
       "<style scoped>\n",
       "    .dataframe tbody tr th:only-of-type {\n",
       "        vertical-align: middle;\n",
       "    }\n",
       "\n",
       "    .dataframe tbody tr th {\n",
       "        vertical-align: top;\n",
       "    }\n",
       "\n",
       "    .dataframe thead th {\n",
       "        text-align: right;\n",
       "    }\n",
       "</style>\n",
       "<table border=\"1\" class=\"dataframe\">\n",
       "  <thead>\n",
       "    <tr style=\"text-align: right;\">\n",
       "      <th></th>\n",
       "      <th>year</th>\n",
       "      <th>solver</th>\n",
       "      <th>track</th>\n",
       "      <th>instances</th>\n",
       "      <th>judgment</th>\n",
       "      <th>cpu-time</th>\n",
       "      <th>status</th>\n",
       "      <th>score</th>\n",
       "    </tr>\n",
       "  </thead>\n",
       "  <tbody>\n",
       "    <tr>\n",
       "      <th>648</th>\n",
       "      <td>2015</td>\n",
       "      <td>04-Cegartix</td>\n",
       "      <td>EE-PR</td>\n",
       "      <td>2015/testset1_gr_small/g_101552__1909__1_1_1__...</td>\n",
       "      <td>correct</td>\n",
       "      <td>0.94</td>\n",
       "      <td>completed</td>\n",
       "      <td>1</td>\n",
       "    </tr>\n",
       "    <tr>\n",
       "      <th>649</th>\n",
       "      <td>2015</td>\n",
       "      <td>11-GRIS</td>\n",
       "      <td>EE-PR</td>\n",
       "      <td>2015/testset1_gr_small/g_101552__1909__1_1_1__...</td>\n",
       "      <td>correct</td>\n",
       "      <td>7.86</td>\n",
       "      <td>completed</td>\n",
       "      <td>1</td>\n",
       "    </tr>\n",
       "    <tr>\n",
       "      <th>650</th>\n",
       "      <td>2015</td>\n",
       "      <td>08-CoQuiAAS</td>\n",
       "      <td>EE-PR</td>\n",
       "      <td>2015/testset1_gr_small/g_101552__1909__1_1_1__...</td>\n",
       "      <td>correct</td>\n",
       "      <td>0.03</td>\n",
       "      <td>completed</td>\n",
       "      <td>1</td>\n",
       "    </tr>\n",
       "    <tr>\n",
       "      <th>651</th>\n",
       "      <td>2015</td>\n",
       "      <td>02-ArgSemSAT</td>\n",
       "      <td>EE-PR</td>\n",
       "      <td>2015/testset1_gr_small/g_101552__1909__1_1_1__...</td>\n",
       "      <td>correct</td>\n",
       "      <td>0.96</td>\n",
       "      <td>completed</td>\n",
       "      <td>1</td>\n",
       "    </tr>\n",
       "    <tr>\n",
       "      <th>652</th>\n",
       "      <td>2015</td>\n",
       "      <td>06-ZJU-ARG.sh</td>\n",
       "      <td>EE-PR</td>\n",
       "      <td>2015/testset1_gr_small/g_101552__1909__1_1_1__...</td>\n",
       "      <td>correct</td>\n",
       "      <td>1.98</td>\n",
       "      <td>completed</td>\n",
       "      <td>1</td>\n",
       "    </tr>\n",
       "  </tbody>\n",
       "</table>\n",
       "</div>"
      ],
      "text/plain": [
       "     year         solver  track  \\\n",
       "648  2015    04-Cegartix  EE-PR   \n",
       "649  2015        11-GRIS  EE-PR   \n",
       "650  2015    08-CoQuiAAS  EE-PR   \n",
       "651  2015   02-ArgSemSAT  EE-PR   \n",
       "652  2015  06-ZJU-ARG.sh  EE-PR   \n",
       "\n",
       "                                             instances judgment  cpu-time  \\\n",
       "648  2015/testset1_gr_small/g_101552__1909__1_1_1__...  correct      0.94   \n",
       "649  2015/testset1_gr_small/g_101552__1909__1_1_1__...  correct      7.86   \n",
       "650  2015/testset1_gr_small/g_101552__1909__1_1_1__...  correct      0.03   \n",
       "651  2015/testset1_gr_small/g_101552__1909__1_1_1__...  correct      0.96   \n",
       "652  2015/testset1_gr_small/g_101552__1909__1_1_1__...  correct      1.98   \n",
       "\n",
       "        status  score  \n",
       "648  completed      1  \n",
       "649  completed      1  \n",
       "650  completed      1  \n",
       "651  completed      1  \n",
       "652  completed      1  "
      ]
     },
     "execution_count": 29,
     "metadata": {},
     "output_type": "execute_result"
    }
   ],
   "source": [
    "df_2015_PR.head()"
   ]
  },
  {
   "cell_type": "code",
   "execution_count": 30,
   "id": "b3004767",
   "metadata": {},
   "outputs": [
    {
     "name": "stdout",
     "output_type": "stream",
     "text": [
      "<class 'pandas.core.frame.DataFrame'>\n",
      "Int64Index: 16896 entries, 648 to 61943\n",
      "Data columns (total 8 columns):\n",
      " #   Column     Non-Null Count  Dtype  \n",
      "---  ------     --------------  -----  \n",
      " 0   year       16896 non-null  int64  \n",
      " 1   solver     16896 non-null  object \n",
      " 2   track      16896 non-null  object \n",
      " 3   instances  16896 non-null  object \n",
      " 4   judgment   16896 non-null  object \n",
      " 5   cpu-time   16896 non-null  float64\n",
      " 6   status     16896 non-null  object \n",
      " 7   score      16896 non-null  int64  \n",
      "dtypes: float64(1), int64(2), object(5)\n",
      "memory usage: 1.2+ MB\n"
     ]
    }
   ],
   "source": [
    "df_2015_PR.info()"
   ]
  },
  {
   "cell_type": "code",
   "execution_count": 31,
   "id": "3e68b402",
   "metadata": {},
   "outputs": [
    {
     "data": {
      "text/plain": [
       "42.54387163953031"
      ]
     },
     "execution_count": 31,
     "metadata": {},
     "output_type": "execute_result"
    }
   ],
   "source": [
    "df_2015_PR_correct.loc[df_2015_PR_correct['track'] == 'DS-PR']['cpu-time'].mean()"
   ]
  },
  {
   "cell_type": "code",
   "execution_count": 32,
   "id": "03bffafe",
   "metadata": {},
   "outputs": [
    {
     "data": {
      "text/html": [
       "<div>\n",
       "<style scoped>\n",
       "    .dataframe tbody tr th:only-of-type {\n",
       "        vertical-align: middle;\n",
       "    }\n",
       "\n",
       "    .dataframe tbody tr th {\n",
       "        vertical-align: top;\n",
       "    }\n",
       "\n",
       "    .dataframe thead th {\n",
       "        text-align: right;\n",
       "    }\n",
       "</style>\n",
       "<table border=\"1\" class=\"dataframe\">\n",
       "  <thead>\n",
       "    <tr style=\"text-align: right;\">\n",
       "      <th></th>\n",
       "      <th></th>\n",
       "      <th>year</th>\n",
       "      <th>solver</th>\n",
       "      <th>instances</th>\n",
       "      <th>judgment</th>\n",
       "      <th>cpu-time</th>\n",
       "      <th>score</th>\n",
       "    </tr>\n",
       "    <tr>\n",
       "      <th>track</th>\n",
       "      <th>status</th>\n",
       "      <th></th>\n",
       "      <th></th>\n",
       "      <th></th>\n",
       "      <th></th>\n",
       "      <th></th>\n",
       "      <th></th>\n",
       "    </tr>\n",
       "  </thead>\n",
       "  <tbody>\n",
       "    <tr>\n",
       "      <th rowspan=\"3\" valign=\"top\">DC-PR</th>\n",
       "      <th>completed</th>\n",
       "      <td>4060</td>\n",
       "      <td>4060</td>\n",
       "      <td>4060</td>\n",
       "      <td>4060</td>\n",
       "      <td>4060</td>\n",
       "      <td>4060</td>\n",
       "    </tr>\n",
       "    <tr>\n",
       "      <th>incorrect solution</th>\n",
       "      <td>58</td>\n",
       "      <td>58</td>\n",
       "      <td>58</td>\n",
       "      <td>58</td>\n",
       "      <td>58</td>\n",
       "      <td>58</td>\n",
       "    </tr>\n",
       "    <tr>\n",
       "      <th>timeout or crashed</th>\n",
       "      <td>1066</td>\n",
       "      <td>1066</td>\n",
       "      <td>1066</td>\n",
       "      <td>1066</td>\n",
       "      <td>1066</td>\n",
       "      <td>1066</td>\n",
       "    </tr>\n",
       "    <tr>\n",
       "      <th rowspan=\"3\" valign=\"top\">DS-PR</th>\n",
       "      <th>completed</th>\n",
       "      <td>5155</td>\n",
       "      <td>5155</td>\n",
       "      <td>5155</td>\n",
       "      <td>5155</td>\n",
       "      <td>5155</td>\n",
       "      <td>5155</td>\n",
       "    </tr>\n",
       "    <tr>\n",
       "      <th>incorrect solution</th>\n",
       "      <td>57</td>\n",
       "      <td>57</td>\n",
       "      <td>57</td>\n",
       "      <td>57</td>\n",
       "      <td>57</td>\n",
       "      <td>57</td>\n",
       "    </tr>\n",
       "    <tr>\n",
       "      <th>timeout or crashed</th>\n",
       "      <td>1124</td>\n",
       "      <td>1124</td>\n",
       "      <td>1124</td>\n",
       "      <td>1124</td>\n",
       "      <td>1124</td>\n",
       "      <td>1124</td>\n",
       "    </tr>\n",
       "    <tr>\n",
       "      <th rowspan=\"3\" valign=\"top\">EE-PR</th>\n",
       "      <th>completed</th>\n",
       "      <td>1865</td>\n",
       "      <td>1865</td>\n",
       "      <td>1865</td>\n",
       "      <td>1865</td>\n",
       "      <td>1865</td>\n",
       "      <td>1865</td>\n",
       "    </tr>\n",
       "    <tr>\n",
       "      <th>incorrect solution</th>\n",
       "      <td>264</td>\n",
       "      <td>264</td>\n",
       "      <td>264</td>\n",
       "      <td>264</td>\n",
       "      <td>264</td>\n",
       "      <td>264</td>\n",
       "    </tr>\n",
       "    <tr>\n",
       "      <th>timeout or crashed</th>\n",
       "      <td>751</td>\n",
       "      <td>751</td>\n",
       "      <td>751</td>\n",
       "      <td>751</td>\n",
       "      <td>751</td>\n",
       "      <td>751</td>\n",
       "    </tr>\n",
       "    <tr>\n",
       "      <th rowspan=\"3\" valign=\"top\">SE-PR</th>\n",
       "      <th>completed</th>\n",
       "      <td>1665</td>\n",
       "      <td>1665</td>\n",
       "      <td>1665</td>\n",
       "      <td>1665</td>\n",
       "      <td>1665</td>\n",
       "      <td>1665</td>\n",
       "    </tr>\n",
       "    <tr>\n",
       "      <th>incorrect solution</th>\n",
       "      <td>239</td>\n",
       "      <td>239</td>\n",
       "      <td>239</td>\n",
       "      <td>239</td>\n",
       "      <td>239</td>\n",
       "      <td>239</td>\n",
       "    </tr>\n",
       "    <tr>\n",
       "      <th>timeout or crashed</th>\n",
       "      <td>592</td>\n",
       "      <td>592</td>\n",
       "      <td>592</td>\n",
       "      <td>592</td>\n",
       "      <td>592</td>\n",
       "      <td>592</td>\n",
       "    </tr>\n",
       "  </tbody>\n",
       "</table>\n",
       "</div>"
      ],
      "text/plain": [
       "                          year  solver  instances  judgment  cpu-time  score\n",
       "track status                                                                \n",
       "DC-PR completed           4060    4060       4060      4060      4060   4060\n",
       "      incorrect solution    58      58         58        58        58     58\n",
       "      timeout or crashed  1066    1066       1066      1066      1066   1066\n",
       "DS-PR completed           5155    5155       5155      5155      5155   5155\n",
       "      incorrect solution    57      57         57        57        57     57\n",
       "      timeout or crashed  1124    1124       1124      1124      1124   1124\n",
       "EE-PR completed           1865    1865       1865      1865      1865   1865\n",
       "      incorrect solution   264     264        264       264       264    264\n",
       "      timeout or crashed   751     751        751       751       751    751\n",
       "SE-PR completed           1665    1665       1665      1665      1665   1665\n",
       "      incorrect solution   239     239        239       239       239    239\n",
       "      timeout or crashed   592     592        592       592       592    592"
      ]
     },
     "execution_count": 32,
     "metadata": {},
     "output_type": "execute_result"
    }
   ],
   "source": [
    "df_2015_PR.groupby(['track','status']).count()"
   ]
  },
  {
   "cell_type": "code",
   "execution_count": 33,
   "id": "b4922c0f",
   "metadata": {},
   "outputs": [
    {
     "data": {
      "text/plain": [
       "<matplotlib.legend.Legend at 0x21b07d241c0>"
      ]
     },
     "execution_count": 33,
     "metadata": {},
     "output_type": "execute_result"
    },
    {
     "data": {
      "image/png": "[encoded data removed]",
      "text/plain": [
       "<Figure size 400x320 with 1 Axes>"
      ]
     },
     "metadata": {
      "needs_background": "light"
     },
     "output_type": "display_data"
    }
   ],
   "source": [
    "fig, ax = plt.subplots(figsize=(5, 4), dpi=80)\n",
    "p = sns.countplot(data=df_2015_PR,y='track', hue='status',ax=ax)\n",
    "plt.xlabel('solvers count')\n",
    "plt.ylabel('track')\n",
    "plt.title('status count compared between classical PR track in 2015')\n",
    "plt.legend(loc='center left', bbox_to_anchor=(1, 0.5))"
   ]
  },
  {
   "cell_type": "code",
   "execution_count": 34,
   "id": "81afe42b",
   "metadata": {},
   "outputs": [
    {
     "data": {
      "text/plain": [
       "Text(0.5, 1.05, 'cpu-time compared between classical PR track in 2015')"
      ]
     },
     "execution_count": 34,
     "metadata": {},
     "output_type": "execute_result"
    },
    {
     "data": {
      "image/png": "[encoded data removed]",
      "text/plain": [
       "<Figure size 400x320 with 1 Axes>"
      ]
     },
     "metadata": {
      "needs_background": "light"
     },
     "output_type": "display_data"
    }
   ],
   "source": [
    "fig, ax = plt.subplots(figsize=(5, 4), dpi=80)\n",
    "ax = sns.barplot(x='track', y='cpu-time', data=df_2015_PR_correct, )\n",
    "plt.title('cpu-time compared between classical PR track in 2015', y=1.05, fontsize = 12)"
   ]
  },
  {
   "cell_type": "code",
   "execution_count": 35,
   "id": "cb011a73",
   "metadata": {},
   "outputs": [
    {
     "data": {
      "text/plain": [
       "track  judgment \n",
       "DC-PR  correct      4256\n",
       "       incorrect     928\n",
       "DS-PR  correct      5282\n",
       "       incorrect    1054\n",
       "EE-PR  correct      1888\n",
       "       incorrect     992\n",
       "SE-PR  correct      1709\n",
       "       incorrect     787\n",
       "Name: solver, dtype: int64"
      ]
     },
     "execution_count": 35,
     "metadata": {},
     "output_type": "execute_result"
    }
   ],
   "source": [
    "df_2015_PR.groupby(['track','judgment'])['solver'].count()"
   ]
  },
  {
   "cell_type": "code",
   "execution_count": 36,
   "id": "1a8d1050",
   "metadata": {},
   "outputs": [],
   "source": [
    "df_2015_PR_correct = df_2015_PR.loc[df_2015_PR['score'] ==1]"
   ]
  },
  {
   "cell_type": "code",
   "execution_count": 37,
   "id": "b401e061",
   "metadata": {},
   "outputs": [
    {
     "data": {
      "text/plain": [
       "Text(0.5, 1.0, 'all solvers')"
      ]
     },
     "execution_count": 37,
     "metadata": {},
     "output_type": "execute_result"
    },
    {
     "data": {
      "image/png": "[encoded data removed]",
      "text/plain": [
       "<Figure size 1080x360 with 2 Axes>"
      ]
     },
     "metadata": {
      "needs_background": "light"
     },
     "output_type": "display_data"
    }
   ],
   "source": [
    "fig, axes = plt.subplots(1, 2, figsize=(15, 5))\n",
    "fig.suptitle('CPU-time compared between classical PR semantics in 2015')\n",
    "\n",
    "sns.barplot(ax=axes[0], x='track', y='cpu-time', data=df_2015_PR_correct)\n",
    "axes[0].set_title('just score 1 solvers')\n",
    "\n",
    "sns.barplot(ax=axes[1], x='track', y='cpu-time', data=df_2015_PR)\n",
    "axes[1].set_title('all solvers')"
   ]
  },
  {
   "cell_type": "code",
   "execution_count": 38,
   "id": "2eeb10dc",
   "metadata": {},
   "outputs": [
    {
     "data": {
      "text/plain": [
       "<matplotlib.legend.Legend at 0x21b07f02040>"
      ]
     },
     "execution_count": 38,
     "metadata": {},
     "output_type": "execute_result"
    },
    {
     "data": {
      "image/png": "[encoded data removed]",
      "text/plain": [
       "<Figure size 400x320 with 1 Axes>"
      ]
     },
     "metadata": {
      "needs_background": "light"
     },
     "output_type": "display_data"
    }
   ],
   "source": [
    "fig, ax = plt.subplots(figsize=(5, 4), dpi=80)\n",
    "p = sns.countplot(data=df_2015_PR,y='track', hue='status',ax=ax)\n",
    "plt.xlabel('solvers count')\n",
    "plt.ylabel('track')\n",
    "plt.title('status count compared between classical PR track in 2015')\n",
    "plt.legend(loc='center left', bbox_to_anchor=(1, 0.5))"
   ]
  },
  {
   "cell_type": "code",
   "execution_count": 39,
   "id": "ee3f1158",
   "metadata": {},
   "outputs": [
    {
     "data": {
      "text/plain": [
       "<matplotlib.legend.Legend at 0x21b092dcbb0>"
      ]
     },
     "execution_count": 39,
     "metadata": {},
     "output_type": "execute_result"
    },
    {
     "data": {
      "image/png": "[encoded data removed]",
      "text/plain": [
       "<Figure size 1080x360 with 2 Axes>"
      ]
     },
     "metadata": {
      "needs_background": "light"
     },
     "output_type": "display_data"
    }
   ],
   "source": [
    "fig, axes = plt.subplots(1, 2, figsize=(15, 5))\n",
    "fig.suptitle('status count compared between classical track in 2015')\n",
    "\n",
    "sns.countplot(ax=axes[0], data=df_2015_CO, y='track', hue='status')\n",
    "axes[0].set_title('CO track')\n",
    "\n",
    "sns.countplot(ax=axes[1], data=df_2015_PR, y='track', hue='status')\n",
    "axes[1].set_title('PR track')\n",
    "plt.legend(loc='center left', bbox_to_anchor=(1, 0.5))"
   ]
  },
  {
   "cell_type": "markdown",
   "id": "ebf59b87",
   "metadata": {},
   "source": [
    "## 2017 Classical Track"
   ]
  },
  {
   "cell_type": "markdown",
   "id": "9dfd08ae",
   "metadata": {},
   "source": [
    "### CO Track"
   ]
  },
  {
   "cell_type": "code",
   "execution_count": 40,
   "id": "05f289c9",
   "metadata": {},
   "outputs": [],
   "source": [
    "df_2017_CO = pd.read_csv('C:/Users/DELL/ICCMA/data/2017-CO.csv')"
   ]
  },
  {
   "cell_type": "code",
   "execution_count": 41,
   "id": "0643cbe4",
   "metadata": {},
   "outputs": [
    {
     "data": {
      "text/plain": [
       "array(['argmat-clpb', 'argmat-dvisat', 'argmat-mpg', 'argmat-sat',\n",
       "       'ArgSemSAT', 'ArgTools', 'cegartix', 'conarg', 'CoQuiAAS',\n",
       "       'EqArgSolver', 'gg-sts', 'goDIAMOND', 'heureka', 'pyglaf'],\n",
       "      dtype=object)"
      ]
     },
     "execution_count": 41,
     "metadata": {},
     "output_type": "execute_result"
    }
   ],
   "source": [
    "df_2017_CO['solver'].unique()"
   ]
  },
  {
   "cell_type": "code",
   "execution_count": 42,
   "id": "ae16c835",
   "metadata": {},
   "outputs": [
    {
     "name": "stdout",
     "output_type": "stream",
     "text": [
      "<class 'pandas.core.frame.DataFrame'>\n",
      "RangeIndex: 19600 entries, 0 to 19599\n",
      "Data columns (total 7 columns):\n",
      " #   Column     Non-Null Count  Dtype  \n",
      "---  ------     --------------  -----  \n",
      " 0   year       19600 non-null  int64  \n",
      " 1   solver     19600 non-null  object \n",
      " 2   track      19600 non-null  object \n",
      " 3   instances  19600 non-null  object \n",
      " 4   answer     9800 non-null   object \n",
      " 5   cpu-time   19600 non-null  float64\n",
      " 6   score      19600 non-null  int64  \n",
      "dtypes: float64(1), int64(2), object(4)\n",
      "memory usage: 1.0+ MB\n"
     ]
    }
   ],
   "source": [
    "df_2017_CO.info()"
   ]
  },
  {
   "cell_type": "markdown",
   "id": "c83ae517",
   "metadata": {},
   "source": [
    "Usolved problem"
   ]
  },
  {
   "cell_type": "code",
   "execution_count": 43,
   "id": "f7abbb11",
   "metadata": {},
   "outputs": [
    {
     "data": {
      "text/plain": [
       "instances\n",
       "C/4/admbuster_2500000.tgf    34\n",
       "B/5/ER_400_20_4.tgf          26\n",
       "B/5/ER_400_20_7.tgf          26\n",
       "B/5/ER_500_10_1.tgf          26\n",
       "B/5/ER_500_10_2.tgf          26\n",
       "B/5/ER_500_10_5.tgf          26\n",
       "B/5/ER_500_20_4.tgf          26\n",
       "B/5/WS_400_24_70_10.tgf      26\n",
       "B/5/WS_400_24_90_10.tgf      26\n",
       "B/5/WS_400_32_90_10.tgf      26\n",
       "Name: solver, dtype: int64"
      ]
     },
     "execution_count": 43,
     "metadata": {},
     "output_type": "execute_result"
    }
   ],
   "source": [
    "df_2017_CO_un = df_2017_CO[df_2017_CO['score']==0]\n",
    "df_2017_CO_un.head()\n",
    "df_2017_CO_un.groupby('instances')['solver'].count().nlargest(10)"
   ]
  },
  {
   "cell_type": "code",
   "execution_count": 44,
   "id": "424036da",
   "metadata": {},
   "outputs": [
    {
     "data": {
      "text/html": [
       "<div>\n",
       "<style scoped>\n",
       "    .dataframe tbody tr th:only-of-type {\n",
       "        vertical-align: middle;\n",
       "    }\n",
       "\n",
       "    .dataframe tbody tr th {\n",
       "        vertical-align: top;\n",
       "    }\n",
       "\n",
       "    .dataframe thead th {\n",
       "        text-align: right;\n",
       "    }\n",
       "</style>\n",
       "<table border=\"1\" class=\"dataframe\">\n",
       "  <thead>\n",
       "    <tr style=\"text-align: right;\">\n",
       "      <th></th>\n",
       "      <th>year</th>\n",
       "      <th>cpu-time</th>\n",
       "      <th>score</th>\n",
       "    </tr>\n",
       "  </thead>\n",
       "  <tbody>\n",
       "    <tr>\n",
       "      <th>count</th>\n",
       "      <td>19600.0</td>\n",
       "      <td>19600.000000</td>\n",
       "      <td>19600.000000</td>\n",
       "    </tr>\n",
       "    <tr>\n",
       "      <th>mean</th>\n",
       "      <td>2017.0</td>\n",
       "      <td>336.026403</td>\n",
       "      <td>0.575714</td>\n",
       "    </tr>\n",
       "    <tr>\n",
       "      <th>std</th>\n",
       "      <td>0.0</td>\n",
       "      <td>647.798861</td>\n",
       "      <td>0.933736</td>\n",
       "    </tr>\n",
       "    <tr>\n",
       "      <th>min</th>\n",
       "      <td>2017.0</td>\n",
       "      <td>0.000000</td>\n",
       "      <td>-5.000000</td>\n",
       "    </tr>\n",
       "    <tr>\n",
       "      <th>25%</th>\n",
       "      <td>2017.0</td>\n",
       "      <td>0.020000</td>\n",
       "      <td>0.000000</td>\n",
       "    </tr>\n",
       "    <tr>\n",
       "      <th>50%</th>\n",
       "      <td>2017.0</td>\n",
       "      <td>3.395000</td>\n",
       "      <td>1.000000</td>\n",
       "    </tr>\n",
       "    <tr>\n",
       "      <th>75%</th>\n",
       "      <td>2017.0</td>\n",
       "      <td>124.647500</td>\n",
       "      <td>1.000000</td>\n",
       "    </tr>\n",
       "    <tr>\n",
       "      <th>max</th>\n",
       "      <td>2017.0</td>\n",
       "      <td>3270.150000</td>\n",
       "      <td>1.000000</td>\n",
       "    </tr>\n",
       "  </tbody>\n",
       "</table>\n",
       "</div>"
      ],
      "text/plain": [
       "          year      cpu-time         score\n",
       "count  19600.0  19600.000000  19600.000000\n",
       "mean    2017.0    336.026403      0.575714\n",
       "std        0.0    647.798861      0.933736\n",
       "min     2017.0      0.000000     -5.000000\n",
       "25%     2017.0      0.020000      0.000000\n",
       "50%     2017.0      3.395000      1.000000\n",
       "75%     2017.0    124.647500      1.000000\n",
       "max     2017.0   3270.150000      1.000000"
      ]
     },
     "execution_count": 44,
     "metadata": {},
     "output_type": "execute_result"
    }
   ],
   "source": [
    "df_2017_CO.describe()"
   ]
  },
  {
   "cell_type": "markdown",
   "id": "9789acd9",
   "metadata": {},
   "source": [
    "- status distribution\n",
    "    - if 0<=score<=1 and time<600 then status = completed\n",
    "    - if score = 0 and time >= 600 thenstatus = timeout\n",
    "    - if score == -5 and time <600 then status = incorrect solution\n",
    "    - if socre == 0 and time <600 then status = out of memory\n",
    "    - else: crashed"
   ]
  },
  {
   "cell_type": "code",
   "execution_count": 45,
   "id": "cf17a41c",
   "metadata": {},
   "outputs": [],
   "source": [
    "df_2017_CO['status'] = None"
   ]
  },
  {
   "cell_type": "code",
   "execution_count": 46,
   "id": "7bf74e3b",
   "metadata": {},
   "outputs": [],
   "source": [
    "df_2017_CO['status'] = df_2017_CO.apply(lambda x: function(x['score'], x['cpu-time']), axis = 1)"
   ]
  },
  {
   "cell_type": "code",
   "execution_count": 47,
   "id": "4fc14e42",
   "metadata": {},
   "outputs": [
    {
     "data": {
      "text/html": [
       "<div>\n",
       "<style scoped>\n",
       "    .dataframe tbody tr th:only-of-type {\n",
       "        vertical-align: middle;\n",
       "    }\n",
       "\n",
       "    .dataframe tbody tr th {\n",
       "        vertical-align: top;\n",
       "    }\n",
       "\n",
       "    .dataframe thead th {\n",
       "        text-align: right;\n",
       "    }\n",
       "</style>\n",
       "<table border=\"1\" class=\"dataframe\">\n",
       "  <thead>\n",
       "    <tr style=\"text-align: right;\">\n",
       "      <th></th>\n",
       "      <th>year</th>\n",
       "      <th>solver</th>\n",
       "      <th>track</th>\n",
       "      <th>instances</th>\n",
       "      <th>answer</th>\n",
       "      <th>cpu-time</th>\n",
       "      <th>score</th>\n",
       "      <th>status</th>\n",
       "    </tr>\n",
       "  </thead>\n",
       "  <tbody>\n",
       "    <tr>\n",
       "      <th>0</th>\n",
       "      <td>2017</td>\n",
       "      <td>argmat-clpb</td>\n",
       "      <td>DS-CO</td>\n",
       "      <td>C/2/ER_300_10_6.tgf</td>\n",
       "      <td>none</td>\n",
       "      <td>1199.98</td>\n",
       "      <td>0</td>\n",
       "      <td>timeout</td>\n",
       "    </tr>\n",
       "    <tr>\n",
       "      <th>1</th>\n",
       "      <td>2017</td>\n",
       "      <td>argmat-clpb</td>\n",
       "      <td>DS-CO</td>\n",
       "      <td>C/2/ER_300_20_7.tgf</td>\n",
       "      <td>none</td>\n",
       "      <td>1201.00</td>\n",
       "      <td>0</td>\n",
       "      <td>timeout</td>\n",
       "    </tr>\n",
       "    <tr>\n",
       "      <th>2</th>\n",
       "      <td>2017</td>\n",
       "      <td>argmat-clpb</td>\n",
       "      <td>DS-CO</td>\n",
       "      <td>C/2/ER_400_20_8.tgf</td>\n",
       "      <td>none</td>\n",
       "      <td>1200.85</td>\n",
       "      <td>0</td>\n",
       "      <td>timeout</td>\n",
       "    </tr>\n",
       "    <tr>\n",
       "      <th>3</th>\n",
       "      <td>2017</td>\n",
       "      <td>argmat-clpb</td>\n",
       "      <td>DS-CO</td>\n",
       "      <td>C/2/ER_500_100_2.tgf</td>\n",
       "      <td>none</td>\n",
       "      <td>1200.76</td>\n",
       "      <td>0</td>\n",
       "      <td>timeout</td>\n",
       "    </tr>\n",
       "    <tr>\n",
       "      <th>4</th>\n",
       "      <td>2017</td>\n",
       "      <td>argmat-clpb</td>\n",
       "      <td>DS-CO</td>\n",
       "      <td>C/2/ER_500_20_4.tgf</td>\n",
       "      <td>none</td>\n",
       "      <td>1200.71</td>\n",
       "      <td>0</td>\n",
       "      <td>timeout</td>\n",
       "    </tr>\n",
       "  </tbody>\n",
       "</table>\n",
       "</div>"
      ],
      "text/plain": [
       "   year       solver  track             instances answer  cpu-time  score  \\\n",
       "0  2017  argmat-clpb  DS-CO   C/2/ER_300_10_6.tgf   none   1199.98      0   \n",
       "1  2017  argmat-clpb  DS-CO   C/2/ER_300_20_7.tgf   none   1201.00      0   \n",
       "2  2017  argmat-clpb  DS-CO   C/2/ER_400_20_8.tgf   none   1200.85      0   \n",
       "3  2017  argmat-clpb  DS-CO  C/2/ER_500_100_2.tgf   none   1200.76      0   \n",
       "4  2017  argmat-clpb  DS-CO   C/2/ER_500_20_4.tgf   none   1200.71      0   \n",
       "\n",
       "    status  \n",
       "0  timeout  \n",
       "1  timeout  \n",
       "2  timeout  \n",
       "3  timeout  \n",
       "4  timeout  "
      ]
     },
     "execution_count": 47,
     "metadata": {},
     "output_type": "execute_result"
    }
   ],
   "source": [
    "df_2017_CO.head()"
   ]
  },
  {
   "cell_type": "code",
   "execution_count": 48,
   "id": "416327b7",
   "metadata": {},
   "outputs": [
    {
     "name": "stdout",
     "output_type": "stream",
     "text": [
      "<class 'pandas.core.frame.DataFrame'>\n",
      "RangeIndex: 19600 entries, 0 to 19599\n",
      "Data columns (total 8 columns):\n",
      " #   Column     Non-Null Count  Dtype  \n",
      "---  ------     --------------  -----  \n",
      " 0   year       19600 non-null  int64  \n",
      " 1   solver     19600 non-null  object \n",
      " 2   track      19600 non-null  object \n",
      " 3   instances  19600 non-null  object \n",
      " 4   answer     9800 non-null   object \n",
      " 5   cpu-time   19600 non-null  float64\n",
      " 6   score      19600 non-null  int64  \n",
      " 7   status     19600 non-null  object \n",
      "dtypes: float64(1), int64(2), object(5)\n",
      "memory usage: 1.2+ MB\n"
     ]
    }
   ],
   "source": [
    "df_2017_CO.info()"
   ]
  },
  {
   "cell_type": "code",
   "execution_count": 49,
   "id": "cd6bd565",
   "metadata": {},
   "outputs": [],
   "source": [
    "df_2017_CO_correct = df_2017_CO.loc[df_2017_CO['score']==1]"
   ]
  },
  {
   "cell_type": "code",
   "execution_count": 50,
   "id": "882514f3",
   "metadata": {},
   "outputs": [
    {
     "data": {
      "text/plain": [
       "58.35088247595151"
      ]
     },
     "execution_count": 50,
     "metadata": {},
     "output_type": "execute_result"
    }
   ],
   "source": [
    "df_2017_CO_correct.loc[df_2017_CO_correct['track'] == 'EE-CO']['cpu-time'].mean()"
   ]
  },
  {
   "cell_type": "code",
   "execution_count": 51,
   "id": "309e0099",
   "metadata": {},
   "outputs": [
    {
     "data": {
      "text/plain": [
       "Text(0.5, 1.05, 'cpu-time compared between classical CO track in 2017')"
      ]
     },
     "execution_count": 51,
     "metadata": {},
     "output_type": "execute_result"
    },
    {
     "data": {
      "image/png": "[encoded data removed]",
      "text/plain": [
       "<Figure size 400x320 with 1 Axes>"
      ]
     },
     "metadata": {
      "needs_background": "light"
     },
     "output_type": "display_data"
    }
   ],
   "source": [
    "fig, ax = plt.subplots(figsize=(5, 4), dpi=80)\n",
    "ax = sns.barplot(x='track', y='cpu-time', data=df_2017_CO)\n",
    "plt.title('cpu-time compared between classical CO track in 2017', y=1.05, fontsize = 12)"
   ]
  },
  {
   "cell_type": "code",
   "execution_count": 52,
   "id": "d1f1f4f4",
   "metadata": {},
   "outputs": [
    {
     "data": {
      "text/plain": [
       "Text(0.5, 1.0, 'all solvers')"
      ]
     },
     "execution_count": 52,
     "metadata": {},
     "output_type": "execute_result"
    },
    {
     "data": {
      "image/png": "[encoded data removed]",
      "text/plain": [
       "<Figure size 1080x360 with 2 Axes>"
      ]
     },
     "metadata": {
      "needs_background": "light"
     },
     "output_type": "display_data"
    }
   ],
   "source": [
    "fig, axes = plt.subplots(1, 2, figsize=(15, 5))\n",
    "fig.suptitle('CPU-time compared between classical CO semantics in 2017')\n",
    "\n",
    "sns.barplot(ax=axes[0], x='track', y='cpu-time', data=df_2017_CO_correct)\n",
    "axes[0].set_title('just score 1 solvers')\n",
    "\n",
    "sns.barplot(ax=axes[1], x='track', y='cpu-time', data=df_2017_CO)\n",
    "axes[1].set_title('all solvers')"
   ]
  },
  {
   "cell_type": "code",
   "execution_count": 53,
   "id": "5bebb2d4",
   "metadata": {},
   "outputs": [
    {
     "data": {
      "text/html": [
       "<div>\n",
       "<style scoped>\n",
       "    .dataframe tbody tr th:only-of-type {\n",
       "        vertical-align: middle;\n",
       "    }\n",
       "\n",
       "    .dataframe tbody tr th {\n",
       "        vertical-align: top;\n",
       "    }\n",
       "\n",
       "    .dataframe thead th {\n",
       "        text-align: right;\n",
       "    }\n",
       "</style>\n",
       "<table border=\"1\" class=\"dataframe\">\n",
       "  <thead>\n",
       "    <tr style=\"text-align: right;\">\n",
       "      <th></th>\n",
       "      <th></th>\n",
       "      <th>year</th>\n",
       "      <th>solver</th>\n",
       "      <th>instances</th>\n",
       "      <th>answer</th>\n",
       "      <th>cpu-time</th>\n",
       "      <th>score</th>\n",
       "    </tr>\n",
       "    <tr>\n",
       "      <th>track</th>\n",
       "      <th>status</th>\n",
       "      <th></th>\n",
       "      <th></th>\n",
       "      <th></th>\n",
       "      <th></th>\n",
       "      <th></th>\n",
       "      <th></th>\n",
       "    </tr>\n",
       "  </thead>\n",
       "  <tbody>\n",
       "    <tr>\n",
       "      <th rowspan=\"3\" valign=\"top\">DC-CO</th>\n",
       "      <th>completed</th>\n",
       "      <td>3532</td>\n",
       "      <td>3532</td>\n",
       "      <td>3532</td>\n",
       "      <td>3532</td>\n",
       "      <td>3532</td>\n",
       "      <td>3532</td>\n",
       "    </tr>\n",
       "    <tr>\n",
       "      <th>incorrect solution</th>\n",
       "      <td>206</td>\n",
       "      <td>206</td>\n",
       "      <td>206</td>\n",
       "      <td>206</td>\n",
       "      <td>206</td>\n",
       "      <td>206</td>\n",
       "    </tr>\n",
       "    <tr>\n",
       "      <th>timeout</th>\n",
       "      <td>1162</td>\n",
       "      <td>1162</td>\n",
       "      <td>1162</td>\n",
       "      <td>1162</td>\n",
       "      <td>1162</td>\n",
       "      <td>1162</td>\n",
       "    </tr>\n",
       "    <tr>\n",
       "      <th rowspan=\"3\" valign=\"top\">DS-CO</th>\n",
       "      <th>completed</th>\n",
       "      <td>4532</td>\n",
       "      <td>4532</td>\n",
       "      <td>4532</td>\n",
       "      <td>4532</td>\n",
       "      <td>4532</td>\n",
       "      <td>4532</td>\n",
       "    </tr>\n",
       "    <tr>\n",
       "      <th>incorrect solution</th>\n",
       "      <td>15</td>\n",
       "      <td>15</td>\n",
       "      <td>15</td>\n",
       "      <td>15</td>\n",
       "      <td>15</td>\n",
       "      <td>15</td>\n",
       "    </tr>\n",
       "    <tr>\n",
       "      <th>timeout</th>\n",
       "      <td>353</td>\n",
       "      <td>353</td>\n",
       "      <td>353</td>\n",
       "      <td>353</td>\n",
       "      <td>353</td>\n",
       "      <td>353</td>\n",
       "    </tr>\n",
       "    <tr>\n",
       "      <th rowspan=\"3\" valign=\"top\">EE-CO</th>\n",
       "      <th>completed</th>\n",
       "      <td>3151</td>\n",
       "      <td>3151</td>\n",
       "      <td>3151</td>\n",
       "      <td>0</td>\n",
       "      <td>3151</td>\n",
       "      <td>3151</td>\n",
       "    </tr>\n",
       "    <tr>\n",
       "      <th>incorrect solution</th>\n",
       "      <td>91</td>\n",
       "      <td>91</td>\n",
       "      <td>91</td>\n",
       "      <td>0</td>\n",
       "      <td>91</td>\n",
       "      <td>91</td>\n",
       "    </tr>\n",
       "    <tr>\n",
       "      <th>timeout</th>\n",
       "      <td>1658</td>\n",
       "      <td>1658</td>\n",
       "      <td>1658</td>\n",
       "      <td>0</td>\n",
       "      <td>1658</td>\n",
       "      <td>1658</td>\n",
       "    </tr>\n",
       "    <tr>\n",
       "      <th rowspan=\"3\" valign=\"top\">SE-CO</th>\n",
       "      <th>completed</th>\n",
       "      <td>4125</td>\n",
       "      <td>4125</td>\n",
       "      <td>4125</td>\n",
       "      <td>0</td>\n",
       "      <td>4125</td>\n",
       "      <td>4125</td>\n",
       "    </tr>\n",
       "    <tr>\n",
       "      <th>incorrect solution</th>\n",
       "      <td>98</td>\n",
       "      <td>98</td>\n",
       "      <td>98</td>\n",
       "      <td>0</td>\n",
       "      <td>98</td>\n",
       "      <td>98</td>\n",
       "    </tr>\n",
       "    <tr>\n",
       "      <th>timeout</th>\n",
       "      <td>677</td>\n",
       "      <td>677</td>\n",
       "      <td>677</td>\n",
       "      <td>0</td>\n",
       "      <td>677</td>\n",
       "      <td>677</td>\n",
       "    </tr>\n",
       "  </tbody>\n",
       "</table>\n",
       "</div>"
      ],
      "text/plain": [
       "                          year  solver  instances  answer  cpu-time  score\n",
       "track status                                                              \n",
       "DC-CO completed           3532    3532       3532    3532      3532   3532\n",
       "      incorrect solution   206     206        206     206       206    206\n",
       "      timeout             1162    1162       1162    1162      1162   1162\n",
       "DS-CO completed           4532    4532       4532    4532      4532   4532\n",
       "      incorrect solution    15      15         15      15        15     15\n",
       "      timeout              353     353        353     353       353    353\n",
       "EE-CO completed           3151    3151       3151       0      3151   3151\n",
       "      incorrect solution    91      91         91       0        91     91\n",
       "      timeout             1658    1658       1658       0      1658   1658\n",
       "SE-CO completed           4125    4125       4125       0      4125   4125\n",
       "      incorrect solution    98      98         98       0        98     98\n",
       "      timeout              677     677        677       0       677    677"
      ]
     },
     "execution_count": 53,
     "metadata": {},
     "output_type": "execute_result"
    }
   ],
   "source": [
    "df_2017_CO.groupby(['track','status']).count()"
   ]
  },
  {
   "cell_type": "code",
   "execution_count": 54,
   "id": "db04d427",
   "metadata": {},
   "outputs": [
    {
     "data": {
      "text/plain": [
       "<matplotlib.legend.Legend at 0x21b097f2d00>"
      ]
     },
     "execution_count": 54,
     "metadata": {},
     "output_type": "execute_result"
    },
    {
     "data": {
      "image/png": "[encoded data removed]",
      "text/plain": [
       "<Figure size 400x320 with 1 Axes>"
      ]
     },
     "metadata": {
      "needs_background": "light"
     },
     "output_type": "display_data"
    }
   ],
   "source": [
    "fig, ax = plt.subplots(figsize=(5, 4), dpi=80)\n",
    "p = sns.countplot(data=df_2017_CO,y='track', hue='status',ax=ax)\n",
    "plt.xlabel('solvers count')\n",
    "plt.ylabel('track')\n",
    "plt.title('status count compared between classical CO track in 2017')\n",
    "plt.legend(loc='center left', bbox_to_anchor=(1, 0.5))"
   ]
  },
  {
   "cell_type": "markdown",
   "id": "ba481199",
   "metadata": {},
   "source": [
    "### PR Track"
   ]
  },
  {
   "cell_type": "code",
   "execution_count": 55,
   "id": "143b2ba7",
   "metadata": {},
   "outputs": [],
   "source": [
    "df_2017_PR = pd.read_csv('C:/Users/DELL/ICCMA/data/2017-PR.csv')"
   ]
  },
  {
   "cell_type": "code",
   "execution_count": 56,
   "id": "75f57d84",
   "metadata": {},
   "outputs": [
    {
     "name": "stdout",
     "output_type": "stream",
     "text": [
      "<class 'pandas.core.frame.DataFrame'>\n",
      "RangeIndex: 18900 entries, 0 to 18899\n",
      "Data columns (total 7 columns):\n",
      " #   Column     Non-Null Count  Dtype  \n",
      "---  ------     --------------  -----  \n",
      " 0   year       18900 non-null  int64  \n",
      " 1   solver     18900 non-null  object \n",
      " 2   track      18900 non-null  object \n",
      " 3   instances  18900 non-null  object \n",
      " 4   answer     9100 non-null   object \n",
      " 5   cpu-time   18900 non-null  float64\n",
      " 6   score      18899 non-null  float64\n",
      "dtypes: float64(2), int64(1), object(4)\n",
      "memory usage: 1.0+ MB\n"
     ]
    }
   ],
   "source": [
    "df_2017_PR.info()"
   ]
  },
  {
   "cell_type": "code",
   "execution_count": 57,
   "id": "b8509879",
   "metadata": {},
   "outputs": [
    {
     "data": {
      "text/html": [
       "<div>\n",
       "<style scoped>\n",
       "    .dataframe tbody tr th:only-of-type {\n",
       "        vertical-align: middle;\n",
       "    }\n",
       "\n",
       "    .dataframe tbody tr th {\n",
       "        vertical-align: top;\n",
       "    }\n",
       "\n",
       "    .dataframe thead th {\n",
       "        text-align: right;\n",
       "    }\n",
       "</style>\n",
       "<table border=\"1\" class=\"dataframe\">\n",
       "  <thead>\n",
       "    <tr style=\"text-align: right;\">\n",
       "      <th></th>\n",
       "      <th>year</th>\n",
       "      <th>cpu-time</th>\n",
       "      <th>score</th>\n",
       "    </tr>\n",
       "  </thead>\n",
       "  <tbody>\n",
       "    <tr>\n",
       "      <th>count</th>\n",
       "      <td>18900.0</td>\n",
       "      <td>18900.000000</td>\n",
       "      <td>18899.000000</td>\n",
       "    </tr>\n",
       "    <tr>\n",
       "      <th>mean</th>\n",
       "      <td>2017.0</td>\n",
       "      <td>365.322334</td>\n",
       "      <td>0.465051</td>\n",
       "    </tr>\n",
       "    <tr>\n",
       "      <th>std</th>\n",
       "      <td>0.0</td>\n",
       "      <td>610.384354</td>\n",
       "      <td>1.138649</td>\n",
       "    </tr>\n",
       "    <tr>\n",
       "      <th>min</th>\n",
       "      <td>2017.0</td>\n",
       "      <td>0.000000</td>\n",
       "      <td>-5.000000</td>\n",
       "    </tr>\n",
       "    <tr>\n",
       "      <th>25%</th>\n",
       "      <td>2017.0</td>\n",
       "      <td>0.130000</td>\n",
       "      <td>0.000000</td>\n",
       "    </tr>\n",
       "    <tr>\n",
       "      <th>50%</th>\n",
       "      <td>2017.0</td>\n",
       "      <td>11.995000</td>\n",
       "      <td>1.000000</td>\n",
       "    </tr>\n",
       "    <tr>\n",
       "      <th>75%</th>\n",
       "      <td>2017.0</td>\n",
       "      <td>445.360000</td>\n",
       "      <td>1.000000</td>\n",
       "    </tr>\n",
       "    <tr>\n",
       "      <th>max</th>\n",
       "      <td>2017.0</td>\n",
       "      <td>2837.460000</td>\n",
       "      <td>1.000000</td>\n",
       "    </tr>\n",
       "  </tbody>\n",
       "</table>\n",
       "</div>"
      ],
      "text/plain": [
       "          year      cpu-time         score\n",
       "count  18900.0  18900.000000  18899.000000\n",
       "mean    2017.0    365.322334      0.465051\n",
       "std        0.0    610.384354      1.138649\n",
       "min     2017.0      0.000000     -5.000000\n",
       "25%     2017.0      0.130000      0.000000\n",
       "50%     2017.0     11.995000      1.000000\n",
       "75%     2017.0    445.360000      1.000000\n",
       "max     2017.0   2837.460000      1.000000"
      ]
     },
     "execution_count": 57,
     "metadata": {},
     "output_type": "execute_result"
    }
   ],
   "source": [
    "df_2017_PR.describe()"
   ]
  },
  {
   "cell_type": "markdown",
   "id": "2a0bb6e0",
   "metadata": {},
   "source": [
    "- status distribution\n",
    "    - if 0<=score<=1 and time<600 then status = completed\n",
    "    - if score = 0 and time >= 600 then status = timeout\n",
    "    - if score == -5 and time <600 then status = incorrect solution\n",
    "    - if socre == 0 and time <600 then status = out of memory\n",
    "    - else: crashed"
   ]
  },
  {
   "cell_type": "code",
   "execution_count": 58,
   "id": "654ebfbf",
   "metadata": {},
   "outputs": [],
   "source": [
    "df_2017_PR['status'] = None"
   ]
  },
  {
   "cell_type": "code",
   "execution_count": 59,
   "id": "af51c12f",
   "metadata": {},
   "outputs": [],
   "source": [
    "df_2017_PR['status'] = df_2017_PR.apply(lambda x: function(x['score'], x['cpu-time']), axis = 1)"
   ]
  },
  {
   "cell_type": "code",
   "execution_count": 60,
   "id": "1eb6faee",
   "metadata": {},
   "outputs": [
    {
     "data": {
      "text/html": [
       "<div>\n",
       "<style scoped>\n",
       "    .dataframe tbody tr th:only-of-type {\n",
       "        vertical-align: middle;\n",
       "    }\n",
       "\n",
       "    .dataframe tbody tr th {\n",
       "        vertical-align: top;\n",
       "    }\n",
       "\n",
       "    .dataframe thead th {\n",
       "        text-align: right;\n",
       "    }\n",
       "</style>\n",
       "<table border=\"1\" class=\"dataframe\">\n",
       "  <thead>\n",
       "    <tr style=\"text-align: right;\">\n",
       "      <th></th>\n",
       "      <th>year</th>\n",
       "      <th>solver</th>\n",
       "      <th>track</th>\n",
       "      <th>instances</th>\n",
       "      <th>answer</th>\n",
       "      <th>cpu-time</th>\n",
       "      <th>score</th>\n",
       "      <th>status</th>\n",
       "    </tr>\n",
       "  </thead>\n",
       "  <tbody>\n",
       "    <tr>\n",
       "      <th>0</th>\n",
       "      <td>2017</td>\n",
       "      <td>argmat-dvisat</td>\n",
       "      <td>DS-PR</td>\n",
       "      <td>A/2/BA_160_20_3.apx</td>\n",
       "      <td>yes</td>\n",
       "      <td>0.00</td>\n",
       "      <td>1.0</td>\n",
       "      <td>completed</td>\n",
       "    </tr>\n",
       "    <tr>\n",
       "      <th>1</th>\n",
       "      <td>2017</td>\n",
       "      <td>argmat-dvisat</td>\n",
       "      <td>DS-PR</td>\n",
       "      <td>A/2/BA_180_20_1.apx</td>\n",
       "      <td>yes</td>\n",
       "      <td>0.00</td>\n",
       "      <td>1.0</td>\n",
       "      <td>completed</td>\n",
       "    </tr>\n",
       "    <tr>\n",
       "      <th>2</th>\n",
       "      <td>2017</td>\n",
       "      <td>argmat-dvisat</td>\n",
       "      <td>DS-PR</td>\n",
       "      <td>A/2/BA_200_30_2.apx</td>\n",
       "      <td>yes</td>\n",
       "      <td>0.00</td>\n",
       "      <td>1.0</td>\n",
       "      <td>completed</td>\n",
       "    </tr>\n",
       "    <tr>\n",
       "      <th>3</th>\n",
       "      <td>2017</td>\n",
       "      <td>argmat-dvisat</td>\n",
       "      <td>DS-PR</td>\n",
       "      <td>A/2/BA_60_60_3.apx</td>\n",
       "      <td>no</td>\n",
       "      <td>2.38</td>\n",
       "      <td>1.0</td>\n",
       "      <td>completed</td>\n",
       "    </tr>\n",
       "    <tr>\n",
       "      <th>4</th>\n",
       "      <td>2017</td>\n",
       "      <td>argmat-dvisat</td>\n",
       "      <td>DS-PR</td>\n",
       "      <td>A/2/BA_80_50_1.apx</td>\n",
       "      <td>no</td>\n",
       "      <td>0.00</td>\n",
       "      <td>1.0</td>\n",
       "      <td>completed</td>\n",
       "    </tr>\n",
       "  </tbody>\n",
       "</table>\n",
       "</div>"
      ],
      "text/plain": [
       "   year         solver  track            instances answer  cpu-time  score  \\\n",
       "0  2017  argmat-dvisat  DS-PR  A/2/BA_160_20_3.apx    yes      0.00    1.0   \n",
       "1  2017  argmat-dvisat  DS-PR  A/2/BA_180_20_1.apx    yes      0.00    1.0   \n",
       "2  2017  argmat-dvisat  DS-PR  A/2/BA_200_30_2.apx    yes      0.00    1.0   \n",
       "3  2017  argmat-dvisat  DS-PR   A/2/BA_60_60_3.apx     no      2.38    1.0   \n",
       "4  2017  argmat-dvisat  DS-PR   A/2/BA_80_50_1.apx     no      0.00    1.0   \n",
       "\n",
       "      status  \n",
       "0  completed  \n",
       "1  completed  \n",
       "2  completed  \n",
       "3  completed  \n",
       "4  completed  "
      ]
     },
     "execution_count": 60,
     "metadata": {},
     "output_type": "execute_result"
    }
   ],
   "source": [
    "df_2017_PR.head()"
   ]
  },
  {
   "cell_type": "code",
   "execution_count": 61,
   "id": "426a0792",
   "metadata": {},
   "outputs": [
    {
     "data": {
      "text/plain": [
       "Text(0.5, 1.05, 'cpu-time compared between classical PR track in 2017')"
      ]
     },
     "execution_count": 61,
     "metadata": {},
     "output_type": "execute_result"
    },
    {
     "data": {
      "image/png": "[encoded data removed]",
      "text/plain": [
       "<Figure size 400x320 with 1 Axes>"
      ]
     },
     "metadata": {
      "needs_background": "light"
     },
     "output_type": "display_data"
    }
   ],
   "source": [
    "fig, ax = plt.subplots(figsize=(5, 4), dpi=80)\n",
    "ax = sns.barplot(x='track', y='cpu-time', data=df_2017_PR)\n",
    "plt.title('cpu-time compared between classical PR track in 2017', y=1.05, fontsize = 12)"
   ]
  },
  {
   "cell_type": "code",
   "execution_count": 62,
   "id": "bd696f0e",
   "metadata": {},
   "outputs": [],
   "source": [
    "df_2017_PR_correct = df_2017_PR.loc[df_2017_PR['score']==1]"
   ]
  },
  {
   "cell_type": "code",
   "execution_count": 63,
   "id": "449f29e1",
   "metadata": {},
   "outputs": [
    {
     "data": {
      "text/plain": [
       "Text(0.5, 1.0, 'all solvers')"
      ]
     },
     "execution_count": 63,
     "metadata": {},
     "output_type": "execute_result"
    },
    {
     "data": {
      "image/png": "[encoded data removed]",
      "text/plain": [
       "<Figure size 1080x360 with 2 Axes>"
      ]
     },
     "metadata": {
      "needs_background": "light"
     },
     "output_type": "display_data"
    }
   ],
   "source": [
    "fig, axes = plt.subplots(1, 2, figsize=(15, 5))\n",
    "fig.suptitle('CPU-time compared between classical PR semantics in 2017')\n",
    "\n",
    "sns.barplot(ax=axes[0], x='track', y='cpu-time', data=df_2017_PR_correct)\n",
    "axes[0].set_title('just score 1 solvers')\n",
    "\n",
    "sns.barplot(ax=axes[1], x='track', y='cpu-time', data=df_2017_PR)\n",
    "axes[1].set_title('all solvers')"
   ]
  },
  {
   "cell_type": "code",
   "execution_count": 64,
   "id": "a356ee59",
   "metadata": {},
   "outputs": [
    {
     "data": {
      "text/html": [
       "<div>\n",
       "<style scoped>\n",
       "    .dataframe tbody tr th:only-of-type {\n",
       "        vertical-align: middle;\n",
       "    }\n",
       "\n",
       "    .dataframe tbody tr th {\n",
       "        vertical-align: top;\n",
       "    }\n",
       "\n",
       "    .dataframe thead th {\n",
       "        text-align: right;\n",
       "    }\n",
       "</style>\n",
       "<table border=\"1\" class=\"dataframe\">\n",
       "  <thead>\n",
       "    <tr style=\"text-align: right;\">\n",
       "      <th></th>\n",
       "      <th></th>\n",
       "      <th>year</th>\n",
       "      <th>solver</th>\n",
       "      <th>instances</th>\n",
       "      <th>answer</th>\n",
       "      <th>cpu-time</th>\n",
       "      <th>score</th>\n",
       "    </tr>\n",
       "    <tr>\n",
       "      <th>track</th>\n",
       "      <th>status</th>\n",
       "      <th></th>\n",
       "      <th></th>\n",
       "      <th></th>\n",
       "      <th></th>\n",
       "      <th></th>\n",
       "      <th></th>\n",
       "    </tr>\n",
       "  </thead>\n",
       "  <tbody>\n",
       "    <tr>\n",
       "      <th rowspan=\"4\" valign=\"top\">DC-PR</th>\n",
       "      <th>completed</th>\n",
       "      <td>3457</td>\n",
       "      <td>3457</td>\n",
       "      <td>3457</td>\n",
       "      <td>3457</td>\n",
       "      <td>3457</td>\n",
       "      <td>3457</td>\n",
       "    </tr>\n",
       "    <tr>\n",
       "      <th>crashed</th>\n",
       "      <td>1</td>\n",
       "      <td>1</td>\n",
       "      <td>1</td>\n",
       "      <td>1</td>\n",
       "      <td>1</td>\n",
       "      <td>0</td>\n",
       "    </tr>\n",
       "    <tr>\n",
       "      <th>incorrect solution</th>\n",
       "      <td>161</td>\n",
       "      <td>161</td>\n",
       "      <td>161</td>\n",
       "      <td>161</td>\n",
       "      <td>161</td>\n",
       "      <td>161</td>\n",
       "    </tr>\n",
       "    <tr>\n",
       "      <th>timeout</th>\n",
       "      <td>931</td>\n",
       "      <td>931</td>\n",
       "      <td>931</td>\n",
       "      <td>931</td>\n",
       "      <td>931</td>\n",
       "      <td>931</td>\n",
       "    </tr>\n",
       "    <tr>\n",
       "      <th rowspan=\"3\" valign=\"top\">DS-PR</th>\n",
       "      <th>completed</th>\n",
       "      <td>3355</td>\n",
       "      <td>3355</td>\n",
       "      <td>3355</td>\n",
       "      <td>3355</td>\n",
       "      <td>3355</td>\n",
       "      <td>3355</td>\n",
       "    </tr>\n",
       "    <tr>\n",
       "      <th>incorrect solution</th>\n",
       "      <td>42</td>\n",
       "      <td>42</td>\n",
       "      <td>42</td>\n",
       "      <td>42</td>\n",
       "      <td>42</td>\n",
       "      <td>42</td>\n",
       "    </tr>\n",
       "    <tr>\n",
       "      <th>timeout</th>\n",
       "      <td>1153</td>\n",
       "      <td>1153</td>\n",
       "      <td>1153</td>\n",
       "      <td>1153</td>\n",
       "      <td>1153</td>\n",
       "      <td>1153</td>\n",
       "    </tr>\n",
       "    <tr>\n",
       "      <th rowspan=\"3\" valign=\"top\">EE-PR</th>\n",
       "      <th>completed</th>\n",
       "      <td>3569</td>\n",
       "      <td>3569</td>\n",
       "      <td>3569</td>\n",
       "      <td>0</td>\n",
       "      <td>3569</td>\n",
       "      <td>3569</td>\n",
       "    </tr>\n",
       "    <tr>\n",
       "      <th>incorrect solution</th>\n",
       "      <td>238</td>\n",
       "      <td>238</td>\n",
       "      <td>238</td>\n",
       "      <td>0</td>\n",
       "      <td>238</td>\n",
       "      <td>238</td>\n",
       "    </tr>\n",
       "    <tr>\n",
       "      <th>timeout</th>\n",
       "      <td>1443</td>\n",
       "      <td>1443</td>\n",
       "      <td>1443</td>\n",
       "      <td>0</td>\n",
       "      <td>1443</td>\n",
       "      <td>1443</td>\n",
       "    </tr>\n",
       "    <tr>\n",
       "      <th rowspan=\"4\" valign=\"top\">SE-PR</th>\n",
       "      <th>completed</th>\n",
       "      <td>3442</td>\n",
       "      <td>3442</td>\n",
       "      <td>3442</td>\n",
       "      <td>0</td>\n",
       "      <td>3442</td>\n",
       "      <td>3442</td>\n",
       "    </tr>\n",
       "    <tr>\n",
       "      <th>crashed</th>\n",
       "      <td>7</td>\n",
       "      <td>7</td>\n",
       "      <td>7</td>\n",
       "      <td>0</td>\n",
       "      <td>7</td>\n",
       "      <td>7</td>\n",
       "    </tr>\n",
       "    <tr>\n",
       "      <th>incorrect solution</th>\n",
       "      <td>212</td>\n",
       "      <td>212</td>\n",
       "      <td>212</td>\n",
       "      <td>0</td>\n",
       "      <td>212</td>\n",
       "      <td>212</td>\n",
       "    </tr>\n",
       "    <tr>\n",
       "      <th>timeout</th>\n",
       "      <td>889</td>\n",
       "      <td>889</td>\n",
       "      <td>889</td>\n",
       "      <td>0</td>\n",
       "      <td>889</td>\n",
       "      <td>889</td>\n",
       "    </tr>\n",
       "  </tbody>\n",
       "</table>\n",
       "</div>"
      ],
      "text/plain": [
       "                          year  solver  instances  answer  cpu-time  score\n",
       "track status                                                              \n",
       "DC-PR completed           3457    3457       3457    3457      3457   3457\n",
       "      crashed                1       1          1       1         1      0\n",
       "      incorrect solution   161     161        161     161       161    161\n",
       "      timeout              931     931        931     931       931    931\n",
       "DS-PR completed           3355    3355       3355    3355      3355   3355\n",
       "      incorrect solution    42      42         42      42        42     42\n",
       "      timeout             1153    1153       1153    1153      1153   1153\n",
       "EE-PR completed           3569    3569       3569       0      3569   3569\n",
       "      incorrect solution   238     238        238       0       238    238\n",
       "      timeout             1443    1443       1443       0      1443   1443\n",
       "SE-PR completed           3442    3442       3442       0      3442   3442\n",
       "      crashed                7       7          7       0         7      7\n",
       "      incorrect solution   212     212        212       0       212    212\n",
       "      timeout              889     889        889       0       889    889"
      ]
     },
     "execution_count": 64,
     "metadata": {},
     "output_type": "execute_result"
    }
   ],
   "source": [
    "df_2017_PR.groupby(['track','status']).count()"
   ]
  },
  {
   "cell_type": "code",
   "execution_count": 65,
   "id": "6189ec75",
   "metadata": {},
   "outputs": [
    {
     "data": {
      "text/plain": [
       "<matplotlib.legend.Legend at 0x21b099da2b0>"
      ]
     },
     "execution_count": 65,
     "metadata": {},
     "output_type": "execute_result"
    },
    {
     "data": {
      "image/png": "[encoded data removed]",
      "text/plain": [
       "<Figure size 400x320 with 1 Axes>"
      ]
     },
     "metadata": {
      "needs_background": "light"
     },
     "output_type": "display_data"
    }
   ],
   "source": [
    "fig, ax = plt.subplots(figsize=(5, 4), dpi=80)\n",
    "p = sns.countplot(data=df_2017_PR,y='track', hue='status',ax=ax)\n",
    "plt.xlabel('solvers count')\n",
    "plt.ylabel('track')\n",
    "plt.title('status count compared between classical PR track in 2017')\n",
    "plt.legend(loc='center left', bbox_to_anchor=(1, 0.5))"
   ]
  },
  {
   "cell_type": "code",
   "execution_count": 66,
   "id": "4f8cdca2",
   "metadata": {},
   "outputs": [
    {
     "data": {
      "text/plain": [
       "<matplotlib.legend.Legend at 0x21b098d6b50>"
      ]
     },
     "execution_count": 66,
     "metadata": {},
     "output_type": "execute_result"
    },
    {
     "data": {
      "image/png": "[encoded data removed]",
      "text/plain": [
       "<Figure size 1080x360 with 2 Axes>"
      ]
     },
     "metadata": {
      "needs_background": "light"
     },
     "output_type": "display_data"
    }
   ],
   "source": [
    "fig, axes = plt.subplots(1, 2, figsize=(15, 5))\n",
    "fig.suptitle('status count compared between classical track in 2017')\n",
    "\n",
    "sns.countplot(ax=axes[0], data=df_2017_CO, y='track', hue='status')\n",
    "axes[0].set_title('CO track')\n",
    "\n",
    "sns.countplot(ax=axes[1], data=df_2017_PR, y='track', hue='status')\n",
    "axes[1].set_title('PR track')\n",
    "plt.legend(loc='center left', bbox_to_anchor=(1, 0.5))"
   ]
  },
  {
   "cell_type": "markdown",
   "id": "ddf62411",
   "metadata": {},
   "source": [
    "## 2019 Classical Track"
   ]
  },
  {
   "cell_type": "markdown",
   "id": "f0befa86",
   "metadata": {},
   "source": [
    "### CO Track"
   ]
  },
  {
   "cell_type": "code",
   "execution_count": 67,
   "id": "fd6070be",
   "metadata": {},
   "outputs": [],
   "source": [
    "df_2019_CO = pd.read_csv('C:/Users/DELL/ICCMA/data/2019-CO.csv')"
   ]
  },
  {
   "cell_type": "code",
   "execution_count": 68,
   "id": "4a451896",
   "metadata": {},
   "outputs": [
    {
     "data": {
      "text/plain": [
       "array(['COMPLETED', 'TIMEOUT', 'incorrect-solution', 'crashed',\n",
       "       'OUT_OF_MEMORY'], dtype=object)"
      ]
     },
     "execution_count": 68,
     "metadata": {},
     "output_type": "execute_result"
    }
   ],
   "source": [
    "df_2019_CO.status.unique()"
   ]
  },
  {
   "cell_type": "code",
   "execution_count": 69,
   "id": "66972aa4",
   "metadata": {},
   "outputs": [
    {
     "data": {
      "text/plain": [
       "array([ 1,  0, -5], dtype=int64)"
      ]
     },
     "execution_count": 69,
     "metadata": {},
     "output_type": "execute_result"
    }
   ],
   "source": [
    "df_2019_CO.score.unique()"
   ]
  },
  {
   "cell_type": "code",
   "execution_count": 70,
   "id": "8603967e",
   "metadata": {},
   "outputs": [
    {
     "data": {
      "text/html": [
       "<div>\n",
       "<style scoped>\n",
       "    .dataframe tbody tr th:only-of-type {\n",
       "        vertical-align: middle;\n",
       "    }\n",
       "\n",
       "    .dataframe tbody tr th {\n",
       "        vertical-align: top;\n",
       "    }\n",
       "\n",
       "    .dataframe thead th {\n",
       "        text-align: right;\n",
       "    }\n",
       "</style>\n",
       "<table border=\"1\" class=\"dataframe\">\n",
       "  <thead>\n",
       "    <tr style=\"text-align: right;\">\n",
       "      <th></th>\n",
       "      <th>year</th>\n",
       "      <th>cpu-time</th>\n",
       "      <th>memory</th>\n",
       "      <th>score</th>\n",
       "    </tr>\n",
       "  </thead>\n",
       "  <tbody>\n",
       "    <tr>\n",
       "      <th>count</th>\n",
       "      <td>10106.0</td>\n",
       "      <td>10106.000000</td>\n",
       "      <td>1.010600e+04</td>\n",
       "      <td>10106.000000</td>\n",
       "    </tr>\n",
       "    <tr>\n",
       "      <th>mean</th>\n",
       "      <td>2019.0</td>\n",
       "      <td>44.300540</td>\n",
       "      <td>8.925755e+08</td>\n",
       "      <td>0.811300</td>\n",
       "    </tr>\n",
       "    <tr>\n",
       "      <th>std</th>\n",
       "      <td>0.0</td>\n",
       "      <td>149.951781</td>\n",
       "      <td>1.088751e+10</td>\n",
       "      <td>0.869356</td>\n",
       "    </tr>\n",
       "    <tr>\n",
       "      <th>min</th>\n",
       "      <td>2019.0</td>\n",
       "      <td>0.230000</td>\n",
       "      <td>2.875392e+06</td>\n",
       "      <td>-5.000000</td>\n",
       "    </tr>\n",
       "    <tr>\n",
       "      <th>25%</th>\n",
       "      <td>2019.0</td>\n",
       "      <td>0.311000</td>\n",
       "      <td>2.883584e+06</td>\n",
       "      <td>1.000000</td>\n",
       "    </tr>\n",
       "    <tr>\n",
       "      <th>50%</th>\n",
       "      <td>2019.0</td>\n",
       "      <td>0.483000</td>\n",
       "      <td>2.887680e+06</td>\n",
       "      <td>1.000000</td>\n",
       "    </tr>\n",
       "    <tr>\n",
       "      <th>75%</th>\n",
       "      <td>2019.0</td>\n",
       "      <td>4.075250</td>\n",
       "      <td>2.891776e+06</td>\n",
       "      <td>1.000000</td>\n",
       "    </tr>\n",
       "    <tr>\n",
       "      <th>max</th>\n",
       "      <td>2019.0</td>\n",
       "      <td>663.142000</td>\n",
       "      <td>4.760000e+11</td>\n",
       "      <td>1.000000</td>\n",
       "    </tr>\n",
       "  </tbody>\n",
       "</table>\n",
       "</div>"
      ],
      "text/plain": [
       "          year      cpu-time        memory         score\n",
       "count  10106.0  10106.000000  1.010600e+04  10106.000000\n",
       "mean    2019.0     44.300540  8.925755e+08      0.811300\n",
       "std        0.0    149.951781  1.088751e+10      0.869356\n",
       "min     2019.0      0.230000  2.875392e+06     -5.000000\n",
       "25%     2019.0      0.311000  2.883584e+06      1.000000\n",
       "50%     2019.0      0.483000  2.887680e+06      1.000000\n",
       "75%     2019.0      4.075250  2.891776e+06      1.000000\n",
       "max     2019.0    663.142000  4.760000e+11      1.000000"
      ]
     },
     "execution_count": 70,
     "metadata": {},
     "output_type": "execute_result"
    }
   ],
   "source": [
    "df_2019_CO.describe()"
   ]
  },
  {
   "cell_type": "code",
   "execution_count": 71,
   "id": "6e4ab24b",
   "metadata": {},
   "outputs": [
    {
     "name": "stdout",
     "output_type": "stream",
     "text": [
      "<class 'pandas.core.frame.DataFrame'>\n",
      "RangeIndex: 10106 entries, 0 to 10105\n",
      "Data columns (total 8 columns):\n",
      " #   Column     Non-Null Count  Dtype  \n",
      "---  ------     --------------  -----  \n",
      " 0   year       10106 non-null  int64  \n",
      " 1   solver     10106 non-null  object \n",
      " 2   instances  10106 non-null  object \n",
      " 3   track      10106 non-null  object \n",
      " 4   cpu-time   10106 non-null  float64\n",
      " 5   memory     10106 non-null  float64\n",
      " 6   status     10106 non-null  object \n",
      " 7   score      10106 non-null  int64  \n",
      "dtypes: float64(2), int64(2), object(4)\n",
      "memory usage: 631.8+ KB\n"
     ]
    }
   ],
   "source": [
    "df_2019_CO.info()"
   ]
  },
  {
   "cell_type": "code",
   "execution_count": 72,
   "id": "4c8f146c",
   "metadata": {},
   "outputs": [
    {
     "data": {
      "text/html": [
       "<div>\n",
       "<style scoped>\n",
       "    .dataframe tbody tr th:only-of-type {\n",
       "        vertical-align: middle;\n",
       "    }\n",
       "\n",
       "    .dataframe tbody tr th {\n",
       "        vertical-align: top;\n",
       "    }\n",
       "\n",
       "    .dataframe thead th {\n",
       "        text-align: right;\n",
       "    }\n",
       "</style>\n",
       "<table border=\"1\" class=\"dataframe\">\n",
       "  <thead>\n",
       "    <tr style=\"text-align: right;\">\n",
       "      <th></th>\n",
       "      <th></th>\n",
       "      <th>year</th>\n",
       "      <th>solver</th>\n",
       "      <th>instances</th>\n",
       "      <th>cpu-time</th>\n",
       "      <th>memory</th>\n",
       "      <th>score</th>\n",
       "    </tr>\n",
       "    <tr>\n",
       "      <th>track</th>\n",
       "      <th>status</th>\n",
       "      <th></th>\n",
       "      <th></th>\n",
       "      <th></th>\n",
       "      <th></th>\n",
       "      <th></th>\n",
       "      <th></th>\n",
       "    </tr>\n",
       "  </thead>\n",
       "  <tbody>\n",
       "    <tr>\n",
       "      <th rowspan=\"5\" valign=\"top\">DC-CO</th>\n",
       "      <th>COMPLETED</th>\n",
       "      <td>2431</td>\n",
       "      <td>2431</td>\n",
       "      <td>2431</td>\n",
       "      <td>2431</td>\n",
       "      <td>2431</td>\n",
       "      <td>2431</td>\n",
       "    </tr>\n",
       "    <tr>\n",
       "      <th>OUT_OF_MEMORY</th>\n",
       "      <td>11</td>\n",
       "      <td>11</td>\n",
       "      <td>11</td>\n",
       "      <td>11</td>\n",
       "      <td>11</td>\n",
       "      <td>11</td>\n",
       "    </tr>\n",
       "    <tr>\n",
       "      <th>TIMEOUT</th>\n",
       "      <td>115</td>\n",
       "      <td>115</td>\n",
       "      <td>115</td>\n",
       "      <td>115</td>\n",
       "      <td>115</td>\n",
       "      <td>115</td>\n",
       "    </tr>\n",
       "    <tr>\n",
       "      <th>crashed</th>\n",
       "      <td>1</td>\n",
       "      <td>1</td>\n",
       "      <td>1</td>\n",
       "      <td>1</td>\n",
       "      <td>1</td>\n",
       "      <td>1</td>\n",
       "    </tr>\n",
       "    <tr>\n",
       "      <th>incorrect-solution</th>\n",
       "      <td>50</td>\n",
       "      <td>50</td>\n",
       "      <td>50</td>\n",
       "      <td>50</td>\n",
       "      <td>50</td>\n",
       "      <td>50</td>\n",
       "    </tr>\n",
       "    <tr>\n",
       "      <th rowspan=\"3\" valign=\"top\">DS-CO</th>\n",
       "      <th>COMPLETED</th>\n",
       "      <td>2570</td>\n",
       "      <td>2570</td>\n",
       "      <td>2570</td>\n",
       "      <td>2570</td>\n",
       "      <td>2570</td>\n",
       "      <td>2570</td>\n",
       "    </tr>\n",
       "    <tr>\n",
       "      <th>TIMEOUT</th>\n",
       "      <td>33</td>\n",
       "      <td>33</td>\n",
       "      <td>33</td>\n",
       "      <td>33</td>\n",
       "      <td>33</td>\n",
       "      <td>33</td>\n",
       "    </tr>\n",
       "    <tr>\n",
       "      <th>incorrect-solution</th>\n",
       "      <td>5</td>\n",
       "      <td>5</td>\n",
       "      <td>5</td>\n",
       "      <td>5</td>\n",
       "      <td>5</td>\n",
       "      <td>5</td>\n",
       "    </tr>\n",
       "    <tr>\n",
       "      <th rowspan=\"5\" valign=\"top\">EE-CO</th>\n",
       "      <th>COMPLETED</th>\n",
       "      <td>2117</td>\n",
       "      <td>2117</td>\n",
       "      <td>2117</td>\n",
       "      <td>2117</td>\n",
       "      <td>2117</td>\n",
       "      <td>2117</td>\n",
       "    </tr>\n",
       "    <tr>\n",
       "      <th>OUT_OF_MEMORY</th>\n",
       "      <td>7</td>\n",
       "      <td>7</td>\n",
       "      <td>7</td>\n",
       "      <td>7</td>\n",
       "      <td>7</td>\n",
       "      <td>7</td>\n",
       "    </tr>\n",
       "    <tr>\n",
       "      <th>TIMEOUT</th>\n",
       "      <td>146</td>\n",
       "      <td>146</td>\n",
       "      <td>146</td>\n",
       "      <td>146</td>\n",
       "      <td>146</td>\n",
       "      <td>146</td>\n",
       "    </tr>\n",
       "    <tr>\n",
       "      <th>crashed</th>\n",
       "      <td>9</td>\n",
       "      <td>9</td>\n",
       "      <td>9</td>\n",
       "      <td>9</td>\n",
       "      <td>9</td>\n",
       "      <td>9</td>\n",
       "    </tr>\n",
       "    <tr>\n",
       "      <th>incorrect-solution</th>\n",
       "      <td>3</td>\n",
       "      <td>3</td>\n",
       "      <td>3</td>\n",
       "      <td>3</td>\n",
       "      <td>3</td>\n",
       "      <td>3</td>\n",
       "    </tr>\n",
       "    <tr>\n",
       "      <th rowspan=\"3\" valign=\"top\">SE-CO</th>\n",
       "      <th>COMPLETED</th>\n",
       "      <td>2427</td>\n",
       "      <td>2427</td>\n",
       "      <td>2427</td>\n",
       "      <td>2427</td>\n",
       "      <td>2427</td>\n",
       "      <td>2427</td>\n",
       "    </tr>\n",
       "    <tr>\n",
       "      <th>TIMEOUT</th>\n",
       "      <td>36</td>\n",
       "      <td>36</td>\n",
       "      <td>36</td>\n",
       "      <td>36</td>\n",
       "      <td>36</td>\n",
       "      <td>36</td>\n",
       "    </tr>\n",
       "    <tr>\n",
       "      <th>incorrect-solution</th>\n",
       "      <td>145</td>\n",
       "      <td>145</td>\n",
       "      <td>145</td>\n",
       "      <td>145</td>\n",
       "      <td>145</td>\n",
       "      <td>145</td>\n",
       "    </tr>\n",
       "  </tbody>\n",
       "</table>\n",
       "</div>"
      ],
      "text/plain": [
       "                          year  solver  instances  cpu-time  memory  score\n",
       "track status                                                              \n",
       "DC-CO COMPLETED           2431    2431       2431      2431    2431   2431\n",
       "      OUT_OF_MEMORY         11      11         11        11      11     11\n",
       "      TIMEOUT              115     115        115       115     115    115\n",
       "      crashed                1       1          1         1       1      1\n",
       "      incorrect-solution    50      50         50        50      50     50\n",
       "DS-CO COMPLETED           2570    2570       2570      2570    2570   2570\n",
       "      TIMEOUT               33      33         33        33      33     33\n",
       "      incorrect-solution     5       5          5         5       5      5\n",
       "EE-CO COMPLETED           2117    2117       2117      2117    2117   2117\n",
       "      OUT_OF_MEMORY          7       7          7         7       7      7\n",
       "      TIMEOUT              146     146        146       146     146    146\n",
       "      crashed                9       9          9         9       9      9\n",
       "      incorrect-solution     3       3          3         3       3      3\n",
       "SE-CO COMPLETED           2427    2427       2427      2427    2427   2427\n",
       "      TIMEOUT               36      36         36        36      36     36\n",
       "      incorrect-solution   145     145        145       145     145    145"
      ]
     },
     "execution_count": 72,
     "metadata": {},
     "output_type": "execute_result"
    }
   ],
   "source": [
    "df_2019_CO.groupby(['track','status']).count()"
   ]
  },
  {
   "cell_type": "code",
   "execution_count": 73,
   "id": "d454d8e9",
   "metadata": {},
   "outputs": [
    {
     "data": {
      "text/plain": [
       "track\n",
       "DC-CO     97441.606\n",
       "DS-CO     34676.877\n",
       "EE-CO    278745.346\n",
       "SE-CO     36837.429\n",
       "Name: cpu-time, dtype: float64"
      ]
     },
     "execution_count": 73,
     "metadata": {},
     "output_type": "execute_result"
    }
   ],
   "source": [
    "df_2019_CO.groupby('track')['cpu-time'].sum()"
   ]
  },
  {
   "cell_type": "code",
   "execution_count": 74,
   "id": "2f9b2fab",
   "metadata": {},
   "outputs": [
    {
     "data": {
      "text/html": [
       "<div>\n",
       "<style scoped>\n",
       "    .dataframe tbody tr th:only-of-type {\n",
       "        vertical-align: middle;\n",
       "    }\n",
       "\n",
       "    .dataframe tbody tr th {\n",
       "        vertical-align: top;\n",
       "    }\n",
       "\n",
       "    .dataframe thead th {\n",
       "        text-align: right;\n",
       "    }\n",
       "</style>\n",
       "<table border=\"1\" class=\"dataframe\">\n",
       "  <thead>\n",
       "    <tr style=\"text-align: right;\">\n",
       "      <th></th>\n",
       "      <th>year</th>\n",
       "      <th>solver</th>\n",
       "      <th>instances</th>\n",
       "      <th>track</th>\n",
       "      <th>cpu-time</th>\n",
       "      <th>memory</th>\n",
       "      <th>status</th>\n",
       "      <th>score</th>\n",
       "    </tr>\n",
       "  </thead>\n",
       "  <tbody>\n",
       "    <tr>\n",
       "      <th>0</th>\n",
       "      <td>2019</td>\n",
       "      <td>aspartix19</td>\n",
       "      <td>A-1-admbuster_1000.tgf</td>\n",
       "      <td>SE-CO</td>\n",
       "      <td>0.469</td>\n",
       "      <td>2904064.0</td>\n",
       "      <td>COMPLETED</td>\n",
       "      <td>1</td>\n",
       "    </tr>\n",
       "    <tr>\n",
       "      <th>1</th>\n",
       "      <td>2019</td>\n",
       "      <td>aspartix19</td>\n",
       "      <td>A-1-admbuster_2000.tgf</td>\n",
       "      <td>SE-CO</td>\n",
       "      <td>0.399</td>\n",
       "      <td>2908160.0</td>\n",
       "      <td>COMPLETED</td>\n",
       "      <td>1</td>\n",
       "    </tr>\n",
       "    <tr>\n",
       "      <th>2</th>\n",
       "      <td>2019</td>\n",
       "      <td>aspartix19</td>\n",
       "      <td>A-1-admbuster_4000.tgf</td>\n",
       "      <td>SE-CO</td>\n",
       "      <td>0.465</td>\n",
       "      <td>2912256.0</td>\n",
       "      <td>COMPLETED</td>\n",
       "      <td>1</td>\n",
       "    </tr>\n",
       "    <tr>\n",
       "      <th>3</th>\n",
       "      <td>2019</td>\n",
       "      <td>aspartix19</td>\n",
       "      <td>A-1-admbuster_6000.tgf</td>\n",
       "      <td>SE-CO</td>\n",
       "      <td>0.530</td>\n",
       "      <td>2912256.0</td>\n",
       "      <td>COMPLETED</td>\n",
       "      <td>1</td>\n",
       "    </tr>\n",
       "    <tr>\n",
       "      <th>4</th>\n",
       "      <td>2019</td>\n",
       "      <td>aspartix19</td>\n",
       "      <td>A-1-afinput_exp_acyclic_depvary_step3_batch_yy...</td>\n",
       "      <td>SE-CO</td>\n",
       "      <td>0.375</td>\n",
       "      <td>2908160.0</td>\n",
       "      <td>COMPLETED</td>\n",
       "      <td>1</td>\n",
       "    </tr>\n",
       "  </tbody>\n",
       "</table>\n",
       "</div>"
      ],
      "text/plain": [
       "   year      solver                                          instances  track  \\\n",
       "0  2019  aspartix19                             A-1-admbuster_1000.tgf  SE-CO   \n",
       "1  2019  aspartix19                             A-1-admbuster_2000.tgf  SE-CO   \n",
       "2  2019  aspartix19                             A-1-admbuster_4000.tgf  SE-CO   \n",
       "3  2019  aspartix19                             A-1-admbuster_6000.tgf  SE-CO   \n",
       "4  2019  aspartix19  A-1-afinput_exp_acyclic_depvary_step3_batch_yy...  SE-CO   \n",
       "\n",
       "   cpu-time     memory     status  score  \n",
       "0     0.469  2904064.0  COMPLETED      1  \n",
       "1     0.399  2908160.0  COMPLETED      1  \n",
       "2     0.465  2912256.0  COMPLETED      1  \n",
       "3     0.530  2912256.0  COMPLETED      1  \n",
       "4     0.375  2908160.0  COMPLETED      1  "
      ]
     },
     "execution_count": 74,
     "metadata": {},
     "output_type": "execute_result"
    }
   ],
   "source": [
    "df_2019_CO.head()"
   ]
  },
  {
   "cell_type": "code",
   "execution_count": 76,
   "id": "e7f83100",
   "metadata": {},
   "outputs": [],
   "source": [
    "df_2019_CO_correct = df_2019_CO.loc[df_2019_CO['score']==1]"
   ]
  },
  {
   "cell_type": "code",
   "execution_count": 77,
   "id": "6fa84182",
   "metadata": {},
   "outputs": [
    {
     "data": {
      "text/plain": [
       "track\n",
       "DC-CO     8.406799\n",
       "DS-CO     5.033449\n",
       "EE-CO    37.153333\n",
       "SE-CO     5.385802\n",
       "Name: cpu-time, dtype: float64"
      ]
     },
     "execution_count": 77,
     "metadata": {},
     "output_type": "execute_result"
    }
   ],
   "source": [
    "df_2019_CO_correct.groupby('track')['cpu-time'].mean()"
   ]
  },
  {
   "cell_type": "code",
   "execution_count": 78,
   "id": "31fe5754",
   "metadata": {},
   "outputs": [
    {
     "data": {
      "text/plain": [
       "Text(0.5, 1.0, 'all solvers')"
      ]
     },
     "execution_count": 78,
     "metadata": {},
     "output_type": "execute_result"
    },
    {
     "data": {
      "image/png": "[encoded data removed]",
      "text/plain": [
       "<Figure size 1080x360 with 2 Axes>"
      ]
     },
     "metadata": {
      "needs_background": "light"
     },
     "output_type": "display_data"
    }
   ],
   "source": [
    "fig, axes = plt.subplots(1, 2, figsize=(15, 5))\n",
    "fig.suptitle('CPU-time compared between classical CO semantics in 2019')\n",
    "\n",
    "sns.barplot(ax=axes[0], x='track', y='cpu-time', data=df_2019_CO_correct)\n",
    "axes[0].set_title('just score 1 solvers')\n",
    "\n",
    "sns.barplot(ax=axes[1], x='track', y='cpu-time', data=df_2019_CO)\n",
    "axes[1].set_title('all solvers')"
   ]
  },
  {
   "cell_type": "code",
   "execution_count": 79,
   "id": "a4b79c34",
   "metadata": {},
   "outputs": [
    {
     "data": {
      "text/plain": [
       "Text(0.5, 1.0, 'all solvers')"
      ]
     },
     "execution_count": 79,
     "metadata": {},
     "output_type": "execute_result"
    },
    {
     "data": {
      "image/png": "[encoded data removed]",
      "text/plain": [
       "<Figure size 1080x360 with 2 Axes>"
      ]
     },
     "metadata": {
      "needs_background": "light"
     },
     "output_type": "display_data"
    }
   ],
   "source": [
    "fig, axes = plt.subplots(1, 2, figsize=(15, 5))\n",
    "fig.suptitle('memory compared between classical CO semantics in 2019')\n",
    "\n",
    "sns.barplot(ax=axes[0], x='track', y='memory', data=df_2019_CO_correct)\n",
    "axes[0].set_title('just score 1 solvers')\n",
    "\n",
    "sns.barplot(ax=axes[1], x='track', y='memory', data=df_2019_CO)\n",
    "axes[1].set_title('all solvers')"
   ]
  },
  {
   "cell_type": "code",
   "execution_count": 82,
   "id": "4638a446",
   "metadata": {},
   "outputs": [
    {
     "data": {
      "text/plain": [
       "<matplotlib.legend.Legend at 0x21b098a65b0>"
      ]
     },
     "execution_count": 82,
     "metadata": {},
     "output_type": "execute_result"
    },
    {
     "data": {
      "image/png": "[encoded data removed]",
      "text/plain": [
       "<Figure size 400x320 with 1 Axes>"
      ]
     },
     "metadata": {
      "needs_background": "light"
     },
     "output_type": "display_data"
    }
   ],
   "source": [
    "fig, ax = plt.subplots(figsize=(5, 4), dpi=80)\n",
    "ax = sns.countplot(data=df_2019_CO,y='track', hue='status',ax=ax)\n",
    "plt.xlabel('solvers count')\n",
    "plt.ylabel('track')\n",
    "plt.title('status count compared between classical CO track in 2019')\n",
    "plt.legend(loc='center left', bbox_to_anchor=(1, 0.5))"
   ]
  },
  {
   "cell_type": "markdown",
   "id": "117f881a",
   "metadata": {},
   "source": [
    "### PR Track"
   ]
  },
  {
   "cell_type": "code",
   "execution_count": 83,
   "id": "41ea2e8b",
   "metadata": {},
   "outputs": [],
   "source": [
    "df_2019_PR = pd.read_csv('C:/Users/DELL/ICCMA/data/2019-PR.csv')"
   ]
  },
  {
   "cell_type": "code",
   "execution_count": 84,
   "id": "242d942a",
   "metadata": {},
   "outputs": [
    {
     "name": "stdout",
     "output_type": "stream",
     "text": [
      "<class 'pandas.core.frame.DataFrame'>\n",
      "RangeIndex: 9128 entries, 0 to 9127\n",
      "Data columns (total 8 columns):\n",
      " #   Column     Non-Null Count  Dtype  \n",
      "---  ------     --------------  -----  \n",
      " 0   year       9128 non-null   int64  \n",
      " 1   solver     9128 non-null   object \n",
      " 2   instances  9128 non-null   object \n",
      " 3   track      9128 non-null   object \n",
      " 4   cpu-time   9128 non-null   float64\n",
      " 5   memory     9128 non-null   float64\n",
      " 6   status     9128 non-null   object \n",
      " 7   score      9128 non-null   int64  \n",
      "dtypes: float64(2), int64(2), object(4)\n",
      "memory usage: 570.6+ KB\n"
     ]
    }
   ],
   "source": [
    "df_2019_PR.info()"
   ]
  },
  {
   "cell_type": "code",
   "execution_count": 85,
   "id": "642ff209",
   "metadata": {},
   "outputs": [
    {
     "data": {
      "text/html": [
       "<div>\n",
       "<style scoped>\n",
       "    .dataframe tbody tr th:only-of-type {\n",
       "        vertical-align: middle;\n",
       "    }\n",
       "\n",
       "    .dataframe tbody tr th {\n",
       "        vertical-align: top;\n",
       "    }\n",
       "\n",
       "    .dataframe thead th {\n",
       "        text-align: right;\n",
       "    }\n",
       "</style>\n",
       "<table border=\"1\" class=\"dataframe\">\n",
       "  <thead>\n",
       "    <tr style=\"text-align: right;\">\n",
       "      <th></th>\n",
       "      <th>year</th>\n",
       "      <th>solver</th>\n",
       "      <th>instances</th>\n",
       "      <th>track</th>\n",
       "      <th>cpu-time</th>\n",
       "      <th>memory</th>\n",
       "      <th>status</th>\n",
       "      <th>score</th>\n",
       "    </tr>\n",
       "  </thead>\n",
       "  <tbody>\n",
       "    <tr>\n",
       "      <th>0</th>\n",
       "      <td>2019</td>\n",
       "      <td>aspartix19</td>\n",
       "      <td>A-1-admbuster_1000.tgf</td>\n",
       "      <td>SE-PR</td>\n",
       "      <td>0.491</td>\n",
       "      <td>2904064.0</td>\n",
       "      <td>COMPLETED</td>\n",
       "      <td>1</td>\n",
       "    </tr>\n",
       "    <tr>\n",
       "      <th>1</th>\n",
       "      <td>2019</td>\n",
       "      <td>aspartix19</td>\n",
       "      <td>A-1-admbuster_2000.tgf</td>\n",
       "      <td>SE-PR</td>\n",
       "      <td>0.554</td>\n",
       "      <td>2899968.0</td>\n",
       "      <td>COMPLETED</td>\n",
       "      <td>1</td>\n",
       "    </tr>\n",
       "    <tr>\n",
       "      <th>2</th>\n",
       "      <td>2019</td>\n",
       "      <td>aspartix19</td>\n",
       "      <td>A-1-admbuster_4000.tgf</td>\n",
       "      <td>SE-PR</td>\n",
       "      <td>0.578</td>\n",
       "      <td>2904064.0</td>\n",
       "      <td>COMPLETED</td>\n",
       "      <td>1</td>\n",
       "    </tr>\n",
       "    <tr>\n",
       "      <th>3</th>\n",
       "      <td>2019</td>\n",
       "      <td>aspartix19</td>\n",
       "      <td>A-1-admbuster_6000.tgf</td>\n",
       "      <td>SE-PR</td>\n",
       "      <td>0.727</td>\n",
       "      <td>2908160.0</td>\n",
       "      <td>COMPLETED</td>\n",
       "      <td>1</td>\n",
       "    </tr>\n",
       "    <tr>\n",
       "      <th>4</th>\n",
       "      <td>2019</td>\n",
       "      <td>aspartix19</td>\n",
       "      <td>A-1-afinput_exp_acyclic_depvary_step3_batch_yy...</td>\n",
       "      <td>SE-PR</td>\n",
       "      <td>0.382</td>\n",
       "      <td>2912256.0</td>\n",
       "      <td>COMPLETED</td>\n",
       "      <td>1</td>\n",
       "    </tr>\n",
       "  </tbody>\n",
       "</table>\n",
       "</div>"
      ],
      "text/plain": [
       "   year      solver                                          instances  track  \\\n",
       "0  2019  aspartix19                             A-1-admbuster_1000.tgf  SE-PR   \n",
       "1  2019  aspartix19                             A-1-admbuster_2000.tgf  SE-PR   \n",
       "2  2019  aspartix19                             A-1-admbuster_4000.tgf  SE-PR   \n",
       "3  2019  aspartix19                             A-1-admbuster_6000.tgf  SE-PR   \n",
       "4  2019  aspartix19  A-1-afinput_exp_acyclic_depvary_step3_batch_yy...  SE-PR   \n",
       "\n",
       "   cpu-time     memory     status  score  \n",
       "0     0.491  2904064.0  COMPLETED      1  \n",
       "1     0.554  2899968.0  COMPLETED      1  \n",
       "2     0.578  2904064.0  COMPLETED      1  \n",
       "3     0.727  2908160.0  COMPLETED      1  \n",
       "4     0.382  2912256.0  COMPLETED      1  "
      ]
     },
     "execution_count": 85,
     "metadata": {},
     "output_type": "execute_result"
    }
   ],
   "source": [
    "df_2019_PR.head()"
   ]
  },
  {
   "cell_type": "code",
   "execution_count": 86,
   "id": "b2f7e2ac",
   "metadata": {},
   "outputs": [
    {
     "data": {
      "text/html": [
       "<div>\n",
       "<style scoped>\n",
       "    .dataframe tbody tr th:only-of-type {\n",
       "        vertical-align: middle;\n",
       "    }\n",
       "\n",
       "    .dataframe tbody tr th {\n",
       "        vertical-align: top;\n",
       "    }\n",
       "\n",
       "    .dataframe thead th {\n",
       "        text-align: right;\n",
       "    }\n",
       "</style>\n",
       "<table border=\"1\" class=\"dataframe\">\n",
       "  <thead>\n",
       "    <tr style=\"text-align: right;\">\n",
       "      <th></th>\n",
       "      <th>year</th>\n",
       "      <th>cpu-time</th>\n",
       "      <th>memory</th>\n",
       "      <th>score</th>\n",
       "    </tr>\n",
       "  </thead>\n",
       "  <tbody>\n",
       "    <tr>\n",
       "      <th>count</th>\n",
       "      <td>9128.0</td>\n",
       "      <td>9128.000000</td>\n",
       "      <td>9.128000e+03</td>\n",
       "      <td>9128.000000</td>\n",
       "    </tr>\n",
       "    <tr>\n",
       "      <th>mean</th>\n",
       "      <td>2019.0</td>\n",
       "      <td>68.160511</td>\n",
       "      <td>1.910355e+09</td>\n",
       "      <td>0.706398</td>\n",
       "    </tr>\n",
       "    <tr>\n",
       "      <th>std</th>\n",
       "      <td>0.0</td>\n",
       "      <td>183.631907</td>\n",
       "      <td>1.844922e+10</td>\n",
       "      <td>1.075803</td>\n",
       "    </tr>\n",
       "    <tr>\n",
       "      <th>min</th>\n",
       "      <td>2019.0</td>\n",
       "      <td>0.219000</td>\n",
       "      <td>2.875392e+06</td>\n",
       "      <td>-5.000000</td>\n",
       "    </tr>\n",
       "    <tr>\n",
       "      <th>25%</th>\n",
       "      <td>2019.0</td>\n",
       "      <td>0.330000</td>\n",
       "      <td>2.883584e+06</td>\n",
       "      <td>1.000000</td>\n",
       "    </tr>\n",
       "    <tr>\n",
       "      <th>50%</th>\n",
       "      <td>2019.0</td>\n",
       "      <td>0.644000</td>\n",
       "      <td>2.887680e+06</td>\n",
       "      <td>1.000000</td>\n",
       "    </tr>\n",
       "    <tr>\n",
       "      <th>75%</th>\n",
       "      <td>2019.0</td>\n",
       "      <td>6.878500</td>\n",
       "      <td>2.908160e+06</td>\n",
       "      <td>1.000000</td>\n",
       "    </tr>\n",
       "    <tr>\n",
       "      <th>max</th>\n",
       "      <td>2019.0</td>\n",
       "      <td>665.137000</td>\n",
       "      <td>4.760000e+11</td>\n",
       "      <td>1.000000</td>\n",
       "    </tr>\n",
       "  </tbody>\n",
       "</table>\n",
       "</div>"
      ],
      "text/plain": [
       "         year     cpu-time        memory        score\n",
       "count  9128.0  9128.000000  9.128000e+03  9128.000000\n",
       "mean   2019.0    68.160511  1.910355e+09     0.706398\n",
       "std       0.0   183.631907  1.844922e+10     1.075803\n",
       "min    2019.0     0.219000  2.875392e+06    -5.000000\n",
       "25%    2019.0     0.330000  2.883584e+06     1.000000\n",
       "50%    2019.0     0.644000  2.887680e+06     1.000000\n",
       "75%    2019.0     6.878500  2.908160e+06     1.000000\n",
       "max    2019.0   665.137000  4.760000e+11     1.000000"
      ]
     },
     "execution_count": 86,
     "metadata": {},
     "output_type": "execute_result"
    }
   ],
   "source": [
    "df_2019_PR.describe()"
   ]
  },
  {
   "cell_type": "code",
   "execution_count": 87,
   "id": "d026c0e8",
   "metadata": {},
   "outputs": [
    {
     "data": {
      "text/plain": [
       "track\n",
       "DC-PR     39.540853\n",
       "DS-PR     34.753486\n",
       "EE-PR    121.722031\n",
       "SE-PR     76.625674\n",
       "Name: cpu-time, dtype: float64"
      ]
     },
     "execution_count": 87,
     "metadata": {},
     "output_type": "execute_result"
    }
   ],
   "source": [
    "df_2019_PR.groupby('track')['cpu-time'].mean()"
   ]
  },
  {
   "cell_type": "code",
   "execution_count": 88,
   "id": "6811e188",
   "metadata": {},
   "outputs": [],
   "source": [
    "df_2019_PR_correct = df_2019_PR.loc[df_2019_PR['score']==1]"
   ]
  },
  {
   "cell_type": "code",
   "execution_count": 89,
   "id": "44b04056",
   "metadata": {},
   "outputs": [
    {
     "data": {
      "text/html": [
       "<div>\n",
       "<style scoped>\n",
       "    .dataframe tbody tr th:only-of-type {\n",
       "        vertical-align: middle;\n",
       "    }\n",
       "\n",
       "    .dataframe tbody tr th {\n",
       "        vertical-align: top;\n",
       "    }\n",
       "\n",
       "    .dataframe thead th {\n",
       "        text-align: right;\n",
       "    }\n",
       "</style>\n",
       "<table border=\"1\" class=\"dataframe\">\n",
       "  <thead>\n",
       "    <tr style=\"text-align: right;\">\n",
       "      <th></th>\n",
       "      <th>count</th>\n",
       "      <th>mean</th>\n",
       "      <th>std</th>\n",
       "      <th>min</th>\n",
       "      <th>25%</th>\n",
       "      <th>50%</th>\n",
       "      <th>75%</th>\n",
       "      <th>max</th>\n",
       "    </tr>\n",
       "    <tr>\n",
       "      <th>track</th>\n",
       "      <th></th>\n",
       "      <th></th>\n",
       "      <th></th>\n",
       "      <th></th>\n",
       "      <th></th>\n",
       "      <th></th>\n",
       "      <th></th>\n",
       "      <th></th>\n",
       "    </tr>\n",
       "  </thead>\n",
       "  <tbody>\n",
       "    <tr>\n",
       "      <th>DC-PR</th>\n",
       "      <td>2094.0</td>\n",
       "      <td>1.523732e+08</td>\n",
       "      <td>7.740071e+08</td>\n",
       "      <td>2875392.0</td>\n",
       "      <td>2883584.0</td>\n",
       "      <td>2887680.0</td>\n",
       "      <td>2891776.0</td>\n",
       "      <td>9.459491e+09</td>\n",
       "    </tr>\n",
       "    <tr>\n",
       "      <th>DS-PR</th>\n",
       "      <td>2077.0</td>\n",
       "      <td>5.714107e+07</td>\n",
       "      <td>5.327237e+08</td>\n",
       "      <td>2875392.0</td>\n",
       "      <td>2883584.0</td>\n",
       "      <td>2887680.0</td>\n",
       "      <td>2891776.0</td>\n",
       "      <td>1.038751e+10</td>\n",
       "    </tr>\n",
       "    <tr>\n",
       "      <th>EE-PR</th>\n",
       "      <td>1810.0</td>\n",
       "      <td>7.909189e+08</td>\n",
       "      <td>4.426115e+09</td>\n",
       "      <td>2875392.0</td>\n",
       "      <td>2883584.0</td>\n",
       "      <td>2887680.0</td>\n",
       "      <td>2904064.0</td>\n",
       "      <td>6.911248e+10</td>\n",
       "    </tr>\n",
       "    <tr>\n",
       "      <th>SE-PR</th>\n",
       "      <td>1912.0</td>\n",
       "      <td>1.730773e+09</td>\n",
       "      <td>1.752243e+10</td>\n",
       "      <td>2875392.0</td>\n",
       "      <td>2883584.0</td>\n",
       "      <td>2887680.0</td>\n",
       "      <td>2904064.0</td>\n",
       "      <td>3.570000e+11</td>\n",
       "    </tr>\n",
       "  </tbody>\n",
       "</table>\n",
       "</div>"
      ],
      "text/plain": [
       "        count          mean           std        min        25%        50%  \\\n",
       "track                                                                        \n",
       "DC-PR  2094.0  1.523732e+08  7.740071e+08  2875392.0  2883584.0  2887680.0   \n",
       "DS-PR  2077.0  5.714107e+07  5.327237e+08  2875392.0  2883584.0  2887680.0   \n",
       "EE-PR  1810.0  7.909189e+08  4.426115e+09  2875392.0  2883584.0  2887680.0   \n",
       "SE-PR  1912.0  1.730773e+09  1.752243e+10  2875392.0  2883584.0  2887680.0   \n",
       "\n",
       "             75%           max  \n",
       "track                           \n",
       "DC-PR  2891776.0  9.459491e+09  \n",
       "DS-PR  2891776.0  1.038751e+10  \n",
       "EE-PR  2904064.0  6.911248e+10  \n",
       "SE-PR  2904064.0  3.570000e+11  "
      ]
     },
     "execution_count": 89,
     "metadata": {},
     "output_type": "execute_result"
    }
   ],
   "source": [
    "df_2019_PR_correct.groupby('track')['memory'].describe()"
   ]
  },
  {
   "cell_type": "code",
   "execution_count": 90,
   "id": "6a76e5dc",
   "metadata": {},
   "outputs": [
    {
     "data": {
      "text/plain": [
       "Text(0.5, 1.0, 'all solvers')"
      ]
     },
     "execution_count": 90,
     "metadata": {},
     "output_type": "execute_result"
    },
    {
     "data": {
      "image/png": "[encoded data removed]",
      "text/plain": [
       "<Figure size 1080x360 with 2 Axes>"
      ]
     },
     "metadata": {
      "needs_background": "light"
     },
     "output_type": "display_data"
    }
   ],
   "source": [
    "fig, axes = plt.subplots(1, 2, figsize=(15, 5))\n",
    "fig.suptitle('CPU-time compared between classical PR semantics in 2019')\n",
    "\n",
    "sns.barplot(ax=axes[0], x='track', y='cpu-time', data=df_2019_PR_correct)\n",
    "axes[0].set_title('just score 1 solvers')\n",
    "\n",
    "sns.barplot(ax=axes[1], x='track', y='cpu-time', data=df_2019_PR)\n",
    "axes[1].set_title('all solvers')"
   ]
  },
  {
   "cell_type": "code",
   "execution_count": 91,
   "id": "6d46532b",
   "metadata": {},
   "outputs": [
    {
     "data": {
      "text/plain": [
       "Text(0.5, 1.0, 'all solvers')"
      ]
     },
     "execution_count": 91,
     "metadata": {},
     "output_type": "execute_result"
    },
    {
     "data": {
      "image/png": "[encoded data removed]",
      "text/plain": [
       "<Figure size 1080x360 with 2 Axes>"
      ]
     },
     "metadata": {
      "needs_background": "light"
     },
     "output_type": "display_data"
    }
   ],
   "source": [
    "fig, axes = plt.subplots(1, 2, figsize=(15, 5))\n",
    "fig.suptitle('memory compared between classical PR semantics in 2019')\n",
    "\n",
    "sns.barplot(ax=axes[0], x='track', y='memory', data=df_2019_PR_correct)\n",
    "axes[0].set_title('just score 1 solvers')\n",
    "\n",
    "sns.barplot(ax=axes[1], x='track', y='memory', data=df_2019_PR)\n",
    "axes[1].set_title('all solvers')"
   ]
  },
  {
   "cell_type": "code",
   "execution_count": 92,
   "id": "5c5f30a5",
   "metadata": {},
   "outputs": [
    {
     "data": {
      "text/plain": [
       "<matplotlib.legend.Legend at 0x21b0b5b62b0>"
      ]
     },
     "execution_count": 92,
     "metadata": {},
     "output_type": "execute_result"
    },
    {
     "data": {
      "image/png": "[encoded data removed]",
      "text/plain": [
       "<Figure size 400x320 with 1 Axes>"
      ]
     },
     "metadata": {
      "needs_background": "light"
     },
     "output_type": "display_data"
    }
   ],
   "source": [
    "fig, ax = plt.subplots(figsize=(5, 4), dpi=80)\n",
    "p = sns.countplot(data=df_2019_PR,y='track', hue='status',ax=ax)\n",
    "plt.xlabel('solvers count')\n",
    "plt.ylabel('track')\n",
    "plt.title('status count compared between classical PR track in 2019')\n",
    "plt.legend(loc='center left', bbox_to_anchor=(1, 0.5))"
   ]
  },
  {
   "cell_type": "code",
   "execution_count": 93,
   "id": "0ea45c51",
   "metadata": {},
   "outputs": [
    {
     "data": {
      "text/plain": [
       "<matplotlib.legend.Legend at 0x21b0a377550>"
      ]
     },
     "execution_count": 93,
     "metadata": {},
     "output_type": "execute_result"
    },
    {
     "data": {
      "image/png": "[encoded data removed]",
      "text/plain": [
       "<Figure size 1080x360 with 2 Axes>"
      ]
     },
     "metadata": {
      "needs_background": "light"
     },
     "output_type": "display_data"
    }
   ],
   "source": [
    "fig, axes = plt.subplots(1, 2, figsize=(15, 5))\n",
    "fig.suptitle('status count compared between classical track in 2019')\n",
    "\n",
    "sns.countplot(ax=axes[0], data=df_2019_CO, y='track', hue='status')\n",
    "axes[0].set_title('CO track')\n",
    "\n",
    "sns.countplot(ax=axes[1], data=df_2019_PR, y='track', hue='status')\n",
    "axes[1].set_title('PR track')\n",
    "axes[1].legend(loc='center left', bbox_to_anchor=(1, 0.5))"
   ]
  },
  {
   "cell_type": "markdown",
   "id": "e083e40e",
   "metadata": {},
   "source": [
    "## 2021 Classical Track"
   ]
  },
  {
   "cell_type": "code",
   "execution_count": 94,
   "id": "f2a2b36d",
   "metadata": {},
   "outputs": [],
   "source": [
    "df_2021_all = pd.read_csv('C:/Users/DELL/ICCMA/data/ICCMA_2021_exact_track.csv')"
   ]
  },
  {
   "cell_type": "code",
   "execution_count": 95,
   "id": "0b32873c",
   "metadata": {},
   "outputs": [
    {
     "name": "stdout",
     "output_type": "stream",
     "text": [
      "<class 'pandas.core.frame.DataFrame'>\n",
      "RangeIndex: 81593 entries, 0 to 81592\n",
      "Data columns (total 8 columns):\n",
      " #   Column     Non-Null Count  Dtype  \n",
      "---  ------     --------------  -----  \n",
      " 0   year       81593 non-null  int64  \n",
      " 1   solver     81593 non-null  object \n",
      " 2   instances  81593 non-null  object \n",
      " 3   track      81593 non-null  object \n",
      " 4   cpu-time   81593 non-null  float64\n",
      " 5   memory     81593 non-null  int64  \n",
      " 6   status     81593 non-null  object \n",
      " 7   score      81593 non-null  int64  \n",
      "dtypes: float64(1), int64(3), object(4)\n",
      "memory usage: 5.0+ MB\n"
     ]
    }
   ],
   "source": [
    "df_2021_all.info()"
   ]
  },
  {
   "cell_type": "code",
   "execution_count": 96,
   "id": "f072128a",
   "metadata": {},
   "outputs": [
    {
     "data": {
      "text/html": [
       "<div>\n",
       "<style scoped>\n",
       "    .dataframe tbody tr th:only-of-type {\n",
       "        vertical-align: middle;\n",
       "    }\n",
       "\n",
       "    .dataframe tbody tr th {\n",
       "        vertical-align: top;\n",
       "    }\n",
       "\n",
       "    .dataframe thead th {\n",
       "        text-align: right;\n",
       "    }\n",
       "</style>\n",
       "<table border=\"1\" class=\"dataframe\">\n",
       "  <thead>\n",
       "    <tr style=\"text-align: right;\">\n",
       "      <th></th>\n",
       "      <th>year</th>\n",
       "      <th>solver</th>\n",
       "      <th>instances</th>\n",
       "      <th>track</th>\n",
       "      <th>cpu-time</th>\n",
       "      <th>memory</th>\n",
       "      <th>status</th>\n",
       "      <th>score</th>\n",
       "    </tr>\n",
       "  </thead>\n",
       "  <tbody>\n",
       "    <tr>\n",
       "      <th>0</th>\n",
       "      <td>2021</td>\n",
       "      <td>ConArg</td>\n",
       "      <td>2021/be_7_3_10</td>\n",
       "      <td>DS-STG</td>\n",
       "      <td>602.341</td>\n",
       "      <td>71723888</td>\n",
       "      <td>TIMEOUT</td>\n",
       "      <td>0</td>\n",
       "    </tr>\n",
       "    <tr>\n",
       "      <th>1</th>\n",
       "      <td>2021</td>\n",
       "      <td>ConArg</td>\n",
       "      <td>2021/be_8_5_10</td>\n",
       "      <td>DS-STG</td>\n",
       "      <td>602.268</td>\n",
       "      <td>64331108</td>\n",
       "      <td>TIMEOUT</td>\n",
       "      <td>0</td>\n",
       "    </tr>\n",
       "    <tr>\n",
       "      <th>2</th>\n",
       "      <td>2021</td>\n",
       "      <td>ConArg</td>\n",
       "      <td>2021/e_5_6_8</td>\n",
       "      <td>DS-STG</td>\n",
       "      <td>602.233</td>\n",
       "      <td>64897592</td>\n",
       "      <td>TIMEOUT</td>\n",
       "      <td>0</td>\n",
       "    </tr>\n",
       "    <tr>\n",
       "      <th>3</th>\n",
       "      <td>2021</td>\n",
       "      <td>ConArg</td>\n",
       "      <td>2021/be_8_6_6</td>\n",
       "      <td>DS-STG</td>\n",
       "      <td>605.152</td>\n",
       "      <td>61158420</td>\n",
       "      <td>TIMEOUT</td>\n",
       "      <td>0</td>\n",
       "    </tr>\n",
       "    <tr>\n",
       "      <th>4</th>\n",
       "      <td>2021</td>\n",
       "      <td>ConArg</td>\n",
       "      <td>2021/be_8_2_6</td>\n",
       "      <td>DS-STG</td>\n",
       "      <td>603.274</td>\n",
       "      <td>71160856</td>\n",
       "      <td>TIMEOUT</td>\n",
       "      <td>0</td>\n",
       "    </tr>\n",
       "  </tbody>\n",
       "</table>\n",
       "</div>"
      ],
      "text/plain": [
       "   year  solver       instances   track  cpu-time    memory   status  score\n",
       "0  2021  ConArg  2021/be_7_3_10  DS-STG   602.341  71723888  TIMEOUT      0\n",
       "1  2021  ConArg  2021/be_8_5_10  DS-STG   602.268  64331108  TIMEOUT      0\n",
       "2  2021  ConArg    2021/e_5_6_8  DS-STG   602.233  64897592  TIMEOUT      0\n",
       "3  2021  ConArg   2021/be_8_6_6  DS-STG   605.152  61158420  TIMEOUT      0\n",
       "4  2021  ConArg   2021/be_8_2_6  DS-STG   603.274  71160856  TIMEOUT      0"
      ]
     },
     "execution_count": 96,
     "metadata": {},
     "output_type": "execute_result"
    }
   ],
   "source": [
    "df_2021_all.head()"
   ]
  },
  {
   "cell_type": "code",
   "execution_count": 97,
   "id": "5d7ee1c0",
   "metadata": {},
   "outputs": [
    {
     "data": {
      "text/plain": [
       "array(['TIMEOUT', 'COMPLETED', 'OUT_OF_MEMORY', 'WRONG'], dtype=object)"
      ]
     },
     "execution_count": 97,
     "metadata": {},
     "output_type": "execute_result"
    }
   ],
   "source": [
    "df_2021_all.status.unique()"
   ]
  },
  {
   "cell_type": "code",
   "execution_count": 98,
   "id": "6a357394",
   "metadata": {},
   "outputs": [
    {
     "data": {
      "text/html": [
       "<div>\n",
       "<style scoped>\n",
       "    .dataframe tbody tr th:only-of-type {\n",
       "        vertical-align: middle;\n",
       "    }\n",
       "\n",
       "    .dataframe tbody tr th {\n",
       "        vertical-align: top;\n",
       "    }\n",
       "\n",
       "    .dataframe thead th {\n",
       "        text-align: right;\n",
       "    }\n",
       "</style>\n",
       "<table border=\"1\" class=\"dataframe\">\n",
       "  <thead>\n",
       "    <tr style=\"text-align: right;\">\n",
       "      <th></th>\n",
       "      <th>year</th>\n",
       "      <th>solver</th>\n",
       "      <th>instances</th>\n",
       "      <th>track</th>\n",
       "      <th>cpu-time</th>\n",
       "      <th>memory</th>\n",
       "      <th>status</th>\n",
       "      <th>score</th>\n",
       "    </tr>\n",
       "  </thead>\n",
       "  <tbody>\n",
       "    <tr>\n",
       "      <th>48467</th>\n",
       "      <td>2021</td>\n",
       "      <td>?-TOKSIA</td>\n",
       "      <td>2021/be_10_6_10</td>\n",
       "      <td>DS-ST</td>\n",
       "      <td>378.220</td>\n",
       "      <td>10634764</td>\n",
       "      <td>WRONG</td>\n",
       "      <td>0</td>\n",
       "    </tr>\n",
       "    <tr>\n",
       "      <th>50043</th>\n",
       "      <td>2021</td>\n",
       "      <td>?-TOKSIA-parallel</td>\n",
       "      <td>2021/b_9_8_9</td>\n",
       "      <td>DS-ST</td>\n",
       "      <td>326.406</td>\n",
       "      <td>12491108</td>\n",
       "      <td>WRONG</td>\n",
       "      <td>0</td>\n",
       "    </tr>\n",
       "    <tr>\n",
       "      <th>50160</th>\n",
       "      <td>2021</td>\n",
       "      <td>?-TOKSIA-parallel</td>\n",
       "      <td>2021/e_10_10_10</td>\n",
       "      <td>DS-ST</td>\n",
       "      <td>428.080</td>\n",
       "      <td>23208660</td>\n",
       "      <td>WRONG</td>\n",
       "      <td>0</td>\n",
       "    </tr>\n",
       "    <tr>\n",
       "      <th>50224</th>\n",
       "      <td>2021</td>\n",
       "      <td>?-TOKSIA-parallel</td>\n",
       "      <td>2021/b_9_10_8</td>\n",
       "      <td>DS-ST</td>\n",
       "      <td>376.797</td>\n",
       "      <td>14539444</td>\n",
       "      <td>WRONG</td>\n",
       "      <td>0</td>\n",
       "    </tr>\n",
       "    <tr>\n",
       "      <th>73397</th>\n",
       "      <td>2021</td>\n",
       "      <td>?-TOKSIA-parallel</td>\n",
       "      <td>2021/e_10_7_10</td>\n",
       "      <td>DC-ST</td>\n",
       "      <td>382.408</td>\n",
       "      <td>20080760</td>\n",
       "      <td>WRONG</td>\n",
       "      <td>0</td>\n",
       "    </tr>\n",
       "  </tbody>\n",
       "</table>\n",
       "</div>"
      ],
      "text/plain": [
       "       year             solver        instances  track  cpu-time    memory  \\\n",
       "48467  2021           ?-TOKSIA  2021/be_10_6_10  DS-ST   378.220  10634764   \n",
       "50043  2021  ?-TOKSIA-parallel     2021/b_9_8_9  DS-ST   326.406  12491108   \n",
       "50160  2021  ?-TOKSIA-parallel  2021/e_10_10_10  DS-ST   428.080  23208660   \n",
       "50224  2021  ?-TOKSIA-parallel    2021/b_9_10_8  DS-ST   376.797  14539444   \n",
       "73397  2021  ?-TOKSIA-parallel   2021/e_10_7_10  DC-ST   382.408  20080760   \n",
       "\n",
       "      status  score  \n",
       "48467  WRONG      0  \n",
       "50043  WRONG      0  \n",
       "50160  WRONG      0  \n",
       "50224  WRONG      0  \n",
       "73397  WRONG      0  "
      ]
     },
     "execution_count": 98,
     "metadata": {},
     "output_type": "execute_result"
    }
   ],
   "source": [
    "df_2021_all[df_2021_all['status'] == 'WRONG']"
   ]
  },
  {
   "cell_type": "code",
   "execution_count": 99,
   "id": "acef0e97",
   "metadata": {},
   "outputs": [],
   "source": [
    "dddd = df_2021_all.groupby(['track', 'status']).count()"
   ]
  },
  {
   "cell_type": "code",
   "execution_count": 100,
   "id": "a4cec467",
   "metadata": {},
   "outputs": [],
   "source": [
    "df_2021_CO = df_2021_all.loc[df_2021_all['track'].str.contains('CO')]"
   ]
  },
  {
   "cell_type": "code",
   "execution_count": 101,
   "id": "0e7f90ae",
   "metadata": {},
   "outputs": [],
   "source": [
    "df_2021_PR = df_2021_all.loc[df_2021_all['track'].str.contains('PR')]"
   ]
  },
  {
   "cell_type": "markdown",
   "id": "c75146a1",
   "metadata": {},
   "source": [
    "### CO Track"
   ]
  },
  {
   "cell_type": "code",
   "execution_count": 102,
   "id": "36bc70a0",
   "metadata": {},
   "outputs": [],
   "source": [
    "#df_2021_CO = df.loc[df['instance'].str.contains('2021')]"
   ]
  },
  {
   "cell_type": "code",
   "execution_count": 103,
   "id": "358110c2",
   "metadata": {},
   "outputs": [
    {
     "data": {
      "text/html": [
       "<div>\n",
       "<style scoped>\n",
       "    .dataframe tbody tr th:only-of-type {\n",
       "        vertical-align: middle;\n",
       "    }\n",
       "\n",
       "    .dataframe tbody tr th {\n",
       "        vertical-align: top;\n",
       "    }\n",
       "\n",
       "    .dataframe thead th {\n",
       "        text-align: right;\n",
       "    }\n",
       "</style>\n",
       "<table border=\"1\" class=\"dataframe\">\n",
       "  <thead>\n",
       "    <tr style=\"text-align: right;\">\n",
       "      <th></th>\n",
       "      <th>year</th>\n",
       "      <th>cpu-time</th>\n",
       "      <th>memory</th>\n",
       "      <th>score</th>\n",
       "    </tr>\n",
       "  </thead>\n",
       "  <tbody>\n",
       "    <tr>\n",
       "      <th>count</th>\n",
       "      <td>18784.0</td>\n",
       "      <td>18784.000000</td>\n",
       "      <td>1.878400e+04</td>\n",
       "      <td>18784.000000</td>\n",
       "    </tr>\n",
       "    <tr>\n",
       "      <th>mean</th>\n",
       "      <td>2021.0</td>\n",
       "      <td>228.572570</td>\n",
       "      <td>1.009916e+07</td>\n",
       "      <td>0.639427</td>\n",
       "    </tr>\n",
       "    <tr>\n",
       "      <th>std</th>\n",
       "      <td>0.0</td>\n",
       "      <td>268.714546</td>\n",
       "      <td>1.708835e+07</td>\n",
       "      <td>0.480179</td>\n",
       "    </tr>\n",
       "    <tr>\n",
       "      <th>min</th>\n",
       "      <td>2021.0</td>\n",
       "      <td>0.002914</td>\n",
       "      <td>0.000000e+00</td>\n",
       "      <td>0.000000</td>\n",
       "    </tr>\n",
       "    <tr>\n",
       "      <th>25%</th>\n",
       "      <td>2021.0</td>\n",
       "      <td>6.404103</td>\n",
       "      <td>5.772080e+05</td>\n",
       "      <td>0.000000</td>\n",
       "    </tr>\n",
       "    <tr>\n",
       "      <th>50%</th>\n",
       "      <td>2021.0</td>\n",
       "      <td>45.496350</td>\n",
       "      <td>2.504076e+06</td>\n",
       "      <td>1.000000</td>\n",
       "    </tr>\n",
       "    <tr>\n",
       "      <th>75%</th>\n",
       "      <td>2021.0</td>\n",
       "      <td>600.055000</td>\n",
       "      <td>1.045590e+07</td>\n",
       "      <td>1.000000</td>\n",
       "    </tr>\n",
       "    <tr>\n",
       "      <th>max</th>\n",
       "      <td>2021.0</td>\n",
       "      <td>622.446000</td>\n",
       "      <td>1.006212e+08</td>\n",
       "      <td>1.000000</td>\n",
       "    </tr>\n",
       "  </tbody>\n",
       "</table>\n",
       "</div>"
      ],
      "text/plain": [
       "          year      cpu-time        memory         score\n",
       "count  18784.0  18784.000000  1.878400e+04  18784.000000\n",
       "mean    2021.0    228.572570  1.009916e+07      0.639427\n",
       "std        0.0    268.714546  1.708835e+07      0.480179\n",
       "min     2021.0      0.002914  0.000000e+00      0.000000\n",
       "25%     2021.0      6.404103  5.772080e+05      0.000000\n",
       "50%     2021.0     45.496350  2.504076e+06      1.000000\n",
       "75%     2021.0    600.055000  1.045590e+07      1.000000\n",
       "max     2021.0    622.446000  1.006212e+08      1.000000"
      ]
     },
     "execution_count": 103,
     "metadata": {},
     "output_type": "execute_result"
    }
   ],
   "source": [
    "df_2021_CO.describe()"
   ]
  },
  {
   "cell_type": "code",
   "execution_count": 104,
   "id": "dd881d18",
   "metadata": {},
   "outputs": [
    {
     "name": "stdout",
     "output_type": "stream",
     "text": [
      "<class 'pandas.core.frame.DataFrame'>\n",
      "Int64Index: 18784 entries, 13501 to 59873\n",
      "Data columns (total 8 columns):\n",
      " #   Column     Non-Null Count  Dtype  \n",
      "---  ------     --------------  -----  \n",
      " 0   year       18784 non-null  int64  \n",
      " 1   solver     18784 non-null  object \n",
      " 2   instances  18784 non-null  object \n",
      " 3   track      18784 non-null  object \n",
      " 4   cpu-time   18784 non-null  float64\n",
      " 5   memory     18784 non-null  int64  \n",
      " 6   status     18784 non-null  object \n",
      " 7   score      18784 non-null  int64  \n",
      "dtypes: float64(1), int64(3), object(4)\n",
      "memory usage: 1.3+ MB\n"
     ]
    }
   ],
   "source": [
    "df_2021_CO.info()"
   ]
  },
  {
   "cell_type": "code",
   "execution_count": 105,
   "id": "fdef7394",
   "metadata": {},
   "outputs": [],
   "source": [
    "df_2021_CO_correct = df_2021_CO.loc[df_2021_CO['score']==1]"
   ]
  },
  {
   "cell_type": "code",
   "execution_count": 106,
   "id": "aa32b927",
   "metadata": {},
   "outputs": [
    {
     "data": {
      "text/plain": [
       "track\n",
       "DC-CO    218.363537\n",
       "DS-CO    155.906450\n",
       "EE-CO    447.772749\n",
       "SE-CO     92.247544\n",
       "Name: cpu-time, dtype: float64"
      ]
     },
     "execution_count": 106,
     "metadata": {},
     "output_type": "execute_result"
    }
   ],
   "source": [
    "df_2021_CO.groupby('track')['cpu-time'].mean()"
   ]
  },
  {
   "cell_type": "code",
   "execution_count": 107,
   "id": "1bdda39e",
   "metadata": {},
   "outputs": [
    {
     "data": {
      "text/plain": [
       "track\n",
       "DC-CO    62.451553\n",
       "DS-CO    33.445595\n",
       "EE-CO    26.842040\n",
       "SE-CO    34.091973\n",
       "Name: cpu-time, dtype: float64"
      ]
     },
     "execution_count": 107,
     "metadata": {},
     "output_type": "execute_result"
    }
   ],
   "source": [
    "df_2021_CO_correct.groupby('track')['cpu-time'].mean()"
   ]
  },
  {
   "cell_type": "code",
   "execution_count": 108,
   "id": "a2a01279",
   "metadata": {},
   "outputs": [
    {
     "data": {
      "text/plain": [
       "Text(0.5, 1.0, 'all solvers')"
      ]
     },
     "execution_count": 108,
     "metadata": {},
     "output_type": "execute_result"
    },
    {
     "data": {
      "image/png": "[encoded data removed]",
      "text/plain": [
       "<Figure size 1080x360 with 2 Axes>"
      ]
     },
     "metadata": {
      "needs_background": "light"
     },
     "output_type": "display_data"
    }
   ],
   "source": [
    "fig, axes = plt.subplots(1, 2, figsize=(15, 5))\n",
    "fig.suptitle('CPU-time compared between classical CO semantics in 2021')\n",
    "\n",
    "sns.barplot(ax=axes[0], x='track', y='cpu-time', data=df_2021_CO_correct)\n",
    "axes[0].set_title('just score 1 solvers')\n",
    "\n",
    "sns.barplot(ax=axes[1], x='track', y='cpu-time', data=df_2021_CO)\n",
    "axes[1].set_title('all solvers')"
   ]
  },
  {
   "cell_type": "code",
   "execution_count": 109,
   "id": "6f1f076e",
   "metadata": {},
   "outputs": [
    {
     "data": {
      "text/plain": [
       "Text(0.5, 1.0, 'all solvers')"
      ]
     },
     "execution_count": 109,
     "metadata": {},
     "output_type": "execute_result"
    },
    {
     "data": {
      "image/png": "[encoded data removed]",
      "text/plain": [
       "<Figure size 1080x360 with 2 Axes>"
      ]
     },
     "metadata": {
      "needs_background": "light"
     },
     "output_type": "display_data"
    }
   ],
   "source": [
    "fig, axes = plt.subplots(1, 2, figsize=(15, 5))\n",
    "fig.suptitle('memory compared between classical CO semantics in 2021')\n",
    "\n",
    "sns.barplot(ax=axes[0], x='track', y='memory', data=df_2021_CO_correct)\n",
    "axes[0].set_title('just score 1 solvers')\n",
    "\n",
    "sns.barplot(ax=axes[1], x='track', y='memory', data=df_2021_CO)\n",
    "axes[1].set_title('all solvers')"
   ]
  },
  {
   "cell_type": "code",
   "execution_count": 110,
   "id": "752ffb41",
   "metadata": {},
   "outputs": [
    {
     "data": {
      "text/html": [
       "<div>\n",
       "<style scoped>\n",
       "    .dataframe tbody tr th:only-of-type {\n",
       "        vertical-align: middle;\n",
       "    }\n",
       "\n",
       "    .dataframe tbody tr th {\n",
       "        vertical-align: top;\n",
       "    }\n",
       "\n",
       "    .dataframe thead th {\n",
       "        text-align: right;\n",
       "    }\n",
       "</style>\n",
       "<table border=\"1\" class=\"dataframe\">\n",
       "  <thead>\n",
       "    <tr style=\"text-align: right;\">\n",
       "      <th></th>\n",
       "      <th></th>\n",
       "      <th>year</th>\n",
       "      <th>solver</th>\n",
       "      <th>instances</th>\n",
       "      <th>cpu-time</th>\n",
       "      <th>memory</th>\n",
       "      <th>score</th>\n",
       "    </tr>\n",
       "    <tr>\n",
       "      <th>track</th>\n",
       "      <th>status</th>\n",
       "      <th></th>\n",
       "      <th></th>\n",
       "      <th></th>\n",
       "      <th></th>\n",
       "      <th></th>\n",
       "      <th></th>\n",
       "    </tr>\n",
       "  </thead>\n",
       "  <tbody>\n",
       "    <tr>\n",
       "      <th rowspan=\"2\" valign=\"top\">DC-PR</th>\n",
       "      <th>COMPLETED</th>\n",
       "      <td>2695</td>\n",
       "      <td>2695</td>\n",
       "      <td>2695</td>\n",
       "      <td>2695</td>\n",
       "      <td>2695</td>\n",
       "      <td>2695</td>\n",
       "    </tr>\n",
       "    <tr>\n",
       "      <th>TIMEOUT</th>\n",
       "      <td>827</td>\n",
       "      <td>827</td>\n",
       "      <td>827</td>\n",
       "      <td>827</td>\n",
       "      <td>827</td>\n",
       "      <td>827</td>\n",
       "    </tr>\n",
       "    <tr>\n",
       "      <th rowspan=\"3\" valign=\"top\">DS-PR</th>\n",
       "      <th>COMPLETED</th>\n",
       "      <td>1571</td>\n",
       "      <td>1571</td>\n",
       "      <td>1571</td>\n",
       "      <td>1571</td>\n",
       "      <td>1571</td>\n",
       "      <td>1571</td>\n",
       "    </tr>\n",
       "    <tr>\n",
       "      <th>OUT_OF_MEMORY</th>\n",
       "      <td>39</td>\n",
       "      <td>39</td>\n",
       "      <td>39</td>\n",
       "      <td>39</td>\n",
       "      <td>39</td>\n",
       "      <td>39</td>\n",
       "    </tr>\n",
       "    <tr>\n",
       "      <th>TIMEOUT</th>\n",
       "      <td>1912</td>\n",
       "      <td>1912</td>\n",
       "      <td>1912</td>\n",
       "      <td>1912</td>\n",
       "      <td>1912</td>\n",
       "      <td>1912</td>\n",
       "    </tr>\n",
       "    <tr>\n",
       "      <th rowspan=\"3\" valign=\"top\">EE-PR</th>\n",
       "      <th>COMPLETED</th>\n",
       "      <td>640</td>\n",
       "      <td>640</td>\n",
       "      <td>640</td>\n",
       "      <td>640</td>\n",
       "      <td>640</td>\n",
       "      <td>640</td>\n",
       "    </tr>\n",
       "    <tr>\n",
       "      <th>OUT_OF_MEMORY</th>\n",
       "      <td>35</td>\n",
       "      <td>35</td>\n",
       "      <td>35</td>\n",
       "      <td>35</td>\n",
       "      <td>35</td>\n",
       "      <td>35</td>\n",
       "    </tr>\n",
       "    <tr>\n",
       "      <th>TIMEOUT</th>\n",
       "      <td>2847</td>\n",
       "      <td>2847</td>\n",
       "      <td>2847</td>\n",
       "      <td>2847</td>\n",
       "      <td>2847</td>\n",
       "      <td>2847</td>\n",
       "    </tr>\n",
       "    <tr>\n",
       "      <th rowspan=\"3\" valign=\"top\">SE-PR</th>\n",
       "      <th>COMPLETED</th>\n",
       "      <td>1469</td>\n",
       "      <td>1469</td>\n",
       "      <td>1469</td>\n",
       "      <td>1469</td>\n",
       "      <td>1469</td>\n",
       "      <td>1469</td>\n",
       "    </tr>\n",
       "    <tr>\n",
       "      <th>OUT_OF_MEMORY</th>\n",
       "      <td>25</td>\n",
       "      <td>25</td>\n",
       "      <td>25</td>\n",
       "      <td>25</td>\n",
       "      <td>25</td>\n",
       "      <td>25</td>\n",
       "    </tr>\n",
       "    <tr>\n",
       "      <th>TIMEOUT</th>\n",
       "      <td>2028</td>\n",
       "      <td>2028</td>\n",
       "      <td>2028</td>\n",
       "      <td>2028</td>\n",
       "      <td>2028</td>\n",
       "      <td>2028</td>\n",
       "    </tr>\n",
       "  </tbody>\n",
       "</table>\n",
       "</div>"
      ],
      "text/plain": [
       "                     year  solver  instances  cpu-time  memory  score\n",
       "track status                                                         \n",
       "DC-PR COMPLETED      2695    2695       2695      2695    2695   2695\n",
       "      TIMEOUT         827     827        827       827     827    827\n",
       "DS-PR COMPLETED      1571    1571       1571      1571    1571   1571\n",
       "      OUT_OF_MEMORY    39      39         39        39      39     39\n",
       "      TIMEOUT        1912    1912       1912      1912    1912   1912\n",
       "EE-PR COMPLETED       640     640        640       640     640    640\n",
       "      OUT_OF_MEMORY    35      35         35        35      35     35\n",
       "      TIMEOUT        2847    2847       2847      2847    2847   2847\n",
       "SE-PR COMPLETED      1469    1469       1469      1469    1469   1469\n",
       "      OUT_OF_MEMORY    25      25         25        25      25     25\n",
       "      TIMEOUT        2028    2028       2028      2028    2028   2028"
      ]
     },
     "execution_count": 110,
     "metadata": {},
     "output_type": "execute_result"
    }
   ],
   "source": [
    "df_2021_PR.groupby(['track', 'status']).count()"
   ]
  },
  {
   "cell_type": "code",
   "execution_count": 111,
   "id": "a6c3e98d",
   "metadata": {
    "scrolled": true
   },
   "outputs": [
    {
     "data": {
      "text/plain": [
       "<matplotlib.legend.Legend at 0x21b0bbd4850>"
      ]
     },
     "execution_count": 111,
     "metadata": {},
     "output_type": "execute_result"
    },
    {
     "data": {
      "image/png": "[encoded data removed]",
      "text/plain": [
       "<Figure size 400x320 with 1 Axes>"
      ]
     },
     "metadata": {
      "needs_background": "light"
     },
     "output_type": "display_data"
    }
   ],
   "source": [
    "fig, ax = plt.subplots(figsize=(5, 4), dpi=80)\n",
    "p = sns.countplot(data=df_2021_CO,y='track', hue='status',ax=ax)\n",
    "plt.xlabel('solvers count')\n",
    "plt.ylabel('track')\n",
    "plt.title('status count compared between classical CO track in 2021')\n",
    "plt.legend(loc='center left', bbox_to_anchor=(1, 0.5))"
   ]
  },
  {
   "cell_type": "markdown",
   "id": "3755e6a7",
   "metadata": {},
   "source": [
    "### PR Track"
   ]
  },
  {
   "cell_type": "code",
   "execution_count": 112,
   "id": "feb1b04a",
   "metadata": {},
   "outputs": [],
   "source": [
    "#df_2021_PR = df.loc[df['instance'].str.contains('2021')]"
   ]
  },
  {
   "cell_type": "code",
   "execution_count": 113,
   "id": "48b41eff",
   "metadata": {},
   "outputs": [],
   "source": [
    "#df_2021_PR.loc[df_2021_PR['track']=='CE-PR', 'track'] = 'EE-PR'"
   ]
  },
  {
   "cell_type": "code",
   "execution_count": 114,
   "id": "622594d1",
   "metadata": {},
   "outputs": [
    {
     "data": {
      "text/html": [
       "<div>\n",
       "<style scoped>\n",
       "    .dataframe tbody tr th:only-of-type {\n",
       "        vertical-align: middle;\n",
       "    }\n",
       "\n",
       "    .dataframe tbody tr th {\n",
       "        vertical-align: top;\n",
       "    }\n",
       "\n",
       "    .dataframe thead th {\n",
       "        text-align: right;\n",
       "    }\n",
       "</style>\n",
       "<table border=\"1\" class=\"dataframe\">\n",
       "  <thead>\n",
       "    <tr style=\"text-align: right;\">\n",
       "      <th></th>\n",
       "      <th>year</th>\n",
       "      <th>cpu-time</th>\n",
       "      <th>memory</th>\n",
       "      <th>score</th>\n",
       "    </tr>\n",
       "  </thead>\n",
       "  <tbody>\n",
       "    <tr>\n",
       "      <th>count</th>\n",
       "      <td>14088.0</td>\n",
       "      <td>14088.000000</td>\n",
       "      <td>1.408800e+04</td>\n",
       "      <td>14088.000000</td>\n",
       "    </tr>\n",
       "    <tr>\n",
       "      <th>mean</th>\n",
       "      <td>2021.0</td>\n",
       "      <td>331.821716</td>\n",
       "      <td>9.593253e+06</td>\n",
       "      <td>0.452513</td>\n",
       "    </tr>\n",
       "    <tr>\n",
       "      <th>std</th>\n",
       "      <td>0.0</td>\n",
       "      <td>265.856325</td>\n",
       "      <td>1.289538e+07</td>\n",
       "      <td>0.497758</td>\n",
       "    </tr>\n",
       "    <tr>\n",
       "      <th>min</th>\n",
       "      <td>2021.0</td>\n",
       "      <td>0.004608</td>\n",
       "      <td>0.000000e+00</td>\n",
       "      <td>0.000000</td>\n",
       "    </tr>\n",
       "    <tr>\n",
       "      <th>25%</th>\n",
       "      <td>2021.0</td>\n",
       "      <td>35.898825</td>\n",
       "      <td>1.218567e+06</td>\n",
       "      <td>0.000000</td>\n",
       "    </tr>\n",
       "    <tr>\n",
       "      <th>50%</th>\n",
       "      <td>2021.0</td>\n",
       "      <td>347.973000</td>\n",
       "      <td>4.362212e+06</td>\n",
       "      <td>0.000000</td>\n",
       "    </tr>\n",
       "    <tr>\n",
       "      <th>75%</th>\n",
       "      <td>2021.0</td>\n",
       "      <td>600.146000</td>\n",
       "      <td>1.422362e+07</td>\n",
       "      <td>1.000000</td>\n",
       "    </tr>\n",
       "    <tr>\n",
       "      <th>max</th>\n",
       "      <td>2021.0</td>\n",
       "      <td>610.684000</td>\n",
       "      <td>1.007204e+08</td>\n",
       "      <td>1.000000</td>\n",
       "    </tr>\n",
       "  </tbody>\n",
       "</table>\n",
       "</div>"
      ],
      "text/plain": [
       "          year      cpu-time        memory         score\n",
       "count  14088.0  14088.000000  1.408800e+04  14088.000000\n",
       "mean    2021.0    331.821716  9.593253e+06      0.452513\n",
       "std        0.0    265.856325  1.289538e+07      0.497758\n",
       "min     2021.0      0.004608  0.000000e+00      0.000000\n",
       "25%     2021.0     35.898825  1.218567e+06      0.000000\n",
       "50%     2021.0    347.973000  4.362212e+06      0.000000\n",
       "75%     2021.0    600.146000  1.422362e+07      1.000000\n",
       "max     2021.0    610.684000  1.007204e+08      1.000000"
      ]
     },
     "execution_count": 114,
     "metadata": {},
     "output_type": "execute_result"
    }
   ],
   "source": [
    "df_2021_PR.describe()"
   ]
  },
  {
   "cell_type": "code",
   "execution_count": 115,
   "id": "04e39dfc",
   "metadata": {},
   "outputs": [
    {
     "name": "stdout",
     "output_type": "stream",
     "text": [
      "<class 'pandas.core.frame.DataFrame'>\n",
      "Int64Index: 14088 entries, 2935 to 66330\n",
      "Data columns (total 8 columns):\n",
      " #   Column     Non-Null Count  Dtype  \n",
      "---  ------     --------------  -----  \n",
      " 0   year       14088 non-null  int64  \n",
      " 1   solver     14088 non-null  object \n",
      " 2   instances  14088 non-null  object \n",
      " 3   track      14088 non-null  object \n",
      " 4   cpu-time   14088 non-null  float64\n",
      " 5   memory     14088 non-null  int64  \n",
      " 6   status     14088 non-null  object \n",
      " 7   score      14088 non-null  int64  \n",
      "dtypes: float64(1), int64(3), object(4)\n",
      "memory usage: 990.6+ KB\n"
     ]
    }
   ],
   "source": [
    "df_2021_PR.info()"
   ]
  },
  {
   "cell_type": "code",
   "execution_count": 116,
   "id": "3c93595c",
   "metadata": {},
   "outputs": [],
   "source": [
    "df_2021_PR_correct = df_2021_PR.loc[df_2021_PR['score']==1]"
   ]
  },
  {
   "cell_type": "code",
   "execution_count": 117,
   "id": "44fdad7c",
   "metadata": {},
   "outputs": [
    {
     "data": {
      "text/plain": [
       "track\n",
       "DC-PR     69.355233\n",
       "DS-PR     94.216883\n",
       "EE-PR     24.339029\n",
       "SE-PR    111.523166\n",
       "Name: cpu-time, dtype: float64"
      ]
     },
     "execution_count": 117,
     "metadata": {},
     "output_type": "execute_result"
    }
   ],
   "source": [
    "df_2021_PR_correct.groupby('track')['cpu-time'].mean()"
   ]
  },
  {
   "cell_type": "code",
   "execution_count": 118,
   "id": "0dd6d844",
   "metadata": {},
   "outputs": [
    {
     "data": {
      "text/plain": [
       "Text(0.5, 1.0, 'all solvers')"
      ]
     },
     "execution_count": 118,
     "metadata": {},
     "output_type": "execute_result"
    },
    {
     "data": {
      "image/png": "[encoded data removed]",
      "text/plain": [
       "<Figure size 1080x360 with 2 Axes>"
      ]
     },
     "metadata": {
      "needs_background": "light"
     },
     "output_type": "display_data"
    }
   ],
   "source": [
    "fig, axes = plt.subplots(1, 2, figsize=(15, 5))\n",
    "fig.suptitle('CPU-time compared between classical PR semantics in 2021')\n",
    "\n",
    "sns.barplot(ax=axes[0], x='track', y='cpu-time', data=df_2021_PR_correct)\n",
    "axes[0].set_title('just score 1 solvers')\n",
    "\n",
    "sns.barplot(ax=axes[1], x='track', y='cpu-time', data=df_2021_PR)\n",
    "axes[1].set_title('all solvers')"
   ]
  },
  {
   "cell_type": "code",
   "execution_count": 119,
   "id": "e313e1df",
   "metadata": {},
   "outputs": [
    {
     "data": {
      "text/plain": [
       "Text(0.5, 1.0, 'all solvers')"
      ]
     },
     "execution_count": 119,
     "metadata": {},
     "output_type": "execute_result"
    },
    {
     "data": {
      "image/png": "[encoded data removed]",
      "text/plain": [
       "<Figure size 1080x360 with 2 Axes>"
      ]
     },
     "metadata": {
      "needs_background": "light"
     },
     "output_type": "display_data"
    }
   ],
   "source": [
    "fig, axes = plt.subplots(1, 2, figsize=(15, 5))\n",
    "fig.suptitle('memory compared between classical PR semantics in 2021')\n",
    "\n",
    "sns.barplot(ax=axes[0], x='track', y='memory', data=df_2021_PR_correct)\n",
    "axes[0].set_title('just score 1 solvers')\n",
    "\n",
    "sns.barplot(ax=axes[1], x='track', y='memory', data=df_2021_PR)\n",
    "axes[1].set_title('all solvers')"
   ]
  },
  {
   "cell_type": "code",
   "execution_count": 120,
   "id": "1c1e6e15",
   "metadata": {},
   "outputs": [
    {
     "data": {
      "text/plain": [
       "Text(0.5, 1.05, 'memory compared between classical PR track in 2021')"
      ]
     },
     "execution_count": 120,
     "metadata": {},
     "output_type": "execute_result"
    },
    {
     "data": {
      "image/png": "[encoded data removed]",
      "text/plain": [
       "<Figure size 400x320 with 1 Axes>"
      ]
     },
     "metadata": {
      "needs_background": "light"
     },
     "output_type": "display_data"
    }
   ],
   "source": [
    "fig, ax = plt.subplots(figsize=(5, 4), dpi=80)\n",
    "ax = sns.barplot(x='track', y='memory', data=df_2021_PR)\n",
    "plt.title('memory compared between classical PR track in 2021', y=1.05, fontsize = 12)"
   ]
  },
  {
   "cell_type": "code",
   "execution_count": 121,
   "id": "ca2cf835",
   "metadata": {},
   "outputs": [
    {
     "data": {
      "text/html": [
       "<div>\n",
       "<style scoped>\n",
       "    .dataframe tbody tr th:only-of-type {\n",
       "        vertical-align: middle;\n",
       "    }\n",
       "\n",
       "    .dataframe tbody tr th {\n",
       "        vertical-align: top;\n",
       "    }\n",
       "\n",
       "    .dataframe thead th {\n",
       "        text-align: right;\n",
       "    }\n",
       "</style>\n",
       "<table border=\"1\" class=\"dataframe\">\n",
       "  <thead>\n",
       "    <tr style=\"text-align: right;\">\n",
       "      <th></th>\n",
       "      <th>year</th>\n",
       "      <th>solver</th>\n",
       "      <th>instances</th>\n",
       "      <th>track</th>\n",
       "      <th>cpu-time</th>\n",
       "      <th>memory</th>\n",
       "      <th>score</th>\n",
       "    </tr>\n",
       "    <tr>\n",
       "      <th>status</th>\n",
       "      <th></th>\n",
       "      <th></th>\n",
       "      <th></th>\n",
       "      <th></th>\n",
       "      <th></th>\n",
       "      <th></th>\n",
       "      <th></th>\n",
       "    </tr>\n",
       "  </thead>\n",
       "  <tbody>\n",
       "    <tr>\n",
       "      <th>COMPLETED</th>\n",
       "      <td>6375</td>\n",
       "      <td>6375</td>\n",
       "      <td>6375</td>\n",
       "      <td>6375</td>\n",
       "      <td>6375</td>\n",
       "      <td>6375</td>\n",
       "      <td>6375</td>\n",
       "    </tr>\n",
       "    <tr>\n",
       "      <th>OUT_OF_MEMORY</th>\n",
       "      <td>99</td>\n",
       "      <td>99</td>\n",
       "      <td>99</td>\n",
       "      <td>99</td>\n",
       "      <td>99</td>\n",
       "      <td>99</td>\n",
       "      <td>99</td>\n",
       "    </tr>\n",
       "    <tr>\n",
       "      <th>TIMEOUT</th>\n",
       "      <td>7614</td>\n",
       "      <td>7614</td>\n",
       "      <td>7614</td>\n",
       "      <td>7614</td>\n",
       "      <td>7614</td>\n",
       "      <td>7614</td>\n",
       "      <td>7614</td>\n",
       "    </tr>\n",
       "  </tbody>\n",
       "</table>\n",
       "</div>"
      ],
      "text/plain": [
       "               year  solver  instances  track  cpu-time  memory  score\n",
       "status                                                                \n",
       "COMPLETED      6375    6375       6375   6375      6375    6375   6375\n",
       "OUT_OF_MEMORY    99      99         99     99        99      99     99\n",
       "TIMEOUT        7614    7614       7614   7614      7614    7614   7614"
      ]
     },
     "execution_count": 121,
     "metadata": {},
     "output_type": "execute_result"
    }
   ],
   "source": [
    "df_2021_PR.groupby('status').count()"
   ]
  },
  {
   "cell_type": "code",
   "execution_count": 122,
   "id": "5a258ccc",
   "metadata": {},
   "outputs": [
    {
     "data": {
      "text/plain": [
       "<matplotlib.legend.Legend at 0x21b0c688cd0>"
      ]
     },
     "execution_count": 122,
     "metadata": {},
     "output_type": "execute_result"
    },
    {
     "data": {
      "image/png": "[encoded data removed]",
      "text/plain": [
       "<Figure size 400x320 with 1 Axes>"
      ]
     },
     "metadata": {
      "needs_background": "light"
     },
     "output_type": "display_data"
    }
   ],
   "source": [
    "fig, ax = plt.subplots(figsize=(5, 4), dpi=80)\n",
    "p = sns.countplot(data=df_2021_PR,y='track', hue='status',ax=ax)\n",
    "plt.xlabel('solvers count')\n",
    "plt.ylabel('track')\n",
    "plt.title('status count compared between classical PR track in 2021')\n",
    "plt.legend(loc='center left', bbox_to_anchor=(1, 0.5))"
   ]
  },
  {
   "cell_type": "code",
   "execution_count": 123,
   "id": "d1ccef74",
   "metadata": {},
   "outputs": [
    {
     "data": {
      "text/plain": [
       "<matplotlib.legend.Legend at 0x21b0c74c6d0>"
      ]
     },
     "execution_count": 123,
     "metadata": {},
     "output_type": "execute_result"
    },
    {
     "data": {
      "image/png": "[encoded data removed]",
      "text/plain": [
       "<Figure size 1080x360 with 2 Axes>"
      ]
     },
     "metadata": {
      "needs_background": "light"
     },
     "output_type": "display_data"
    }
   ],
   "source": [
    "fig, axes = plt.subplots(1, 2, figsize=(15, 5))\n",
    "fig.suptitle('status count compared between classical track in 2021')\n",
    "\n",
    "sns.countplot(ax=axes[0], data=df_2021_CO, y='track', hue='status')\n",
    "axes[0].set_title('CO track')\n",
    "\n",
    "sns.countplot(ax=axes[1], data=df_2021_PR, y='track', hue='status')\n",
    "axes[1].set_title('PR track')\n",
    "axes[1].legend(loc='center left', bbox_to_anchor=(1, 0.5))"
   ]
  },
  {
   "cell_type": "markdown",
   "id": "7e0fbf9a",
   "metadata": {},
   "source": [
    "## Specific track compared through years"
   ]
  },
  {
   "cell_type": "code",
   "execution_count": 124,
   "id": "72800fba",
   "metadata": {},
   "outputs": [
    {
     "data": {
      "text/plain": [
       "array(['SE-CO', 'DC-CO', 'EE-CO', 'DS-CO'], dtype=object)"
      ]
     },
     "execution_count": 124,
     "metadata": {},
     "output_type": "execute_result"
    }
   ],
   "source": [
    "df_2015_CO.track.unique()"
   ]
  },
  {
   "cell_type": "code",
   "execution_count": 125,
   "id": "91c37bdb",
   "metadata": {},
   "outputs": [],
   "source": [
    "df_whole_year_CO = pd.concat([df_2015_CO,df_2017_CO,df_2019_CO,df_2021_CO],axis=0,ignore_index=True)"
   ]
  },
  {
   "cell_type": "code",
   "execution_count": 126,
   "id": "18f7d0c0",
   "metadata": {},
   "outputs": [],
   "source": [
    "df_memory_year_CO =  pd.concat([df_2019_CO,df_2021_CO],axis=0,ignore_index=True)"
   ]
  },
  {
   "cell_type": "code",
   "execution_count": 127,
   "id": "f1cc04e5",
   "metadata": {},
   "outputs": [],
   "source": [
    "df_whole_year_CO_correct = pd.concat([df_2015_CO_correct,df_2017_CO_correct,df_2019_CO_correct,df_2021_CO_correct],axis=0,ignore_index=True)"
   ]
  },
  {
   "cell_type": "code",
   "execution_count": 128,
   "id": "287f7a18",
   "metadata": {},
   "outputs": [],
   "source": [
    "df_memory_year_CO_correct = pd.concat([df_2019_CO_correct,df_2021_CO_correct],axis=0,ignore_index=True)"
   ]
  },
  {
   "cell_type": "code",
   "execution_count": 129,
   "id": "f4da21dd",
   "metadata": {},
   "outputs": [
    {
     "data": {
      "text/plain": [
       "Text(0.5, 1.0, 'all solvers')"
      ]
     },
     "execution_count": 129,
     "metadata": {},
     "output_type": "execute_result"
    },
    {
     "data": {
      "image/png": "[encoded data removed]",
      "text/plain": [
       "<Figure size 1080x360 with 2 Axes>"
      ]
     },
     "metadata": {
      "needs_background": "light"
     },
     "output_type": "display_data"
    }
   ],
   "source": [
    "fig, axes = plt.subplots(1, 2, figsize=(15, 5))\n",
    "fig.suptitle('memory compared between CO track between 2019 and 2021')\n",
    "\n",
    "sns.barplot(ax=axes[0], x='year', y='memory', hue='track',data=df_memory_year_CO_correct)\n",
    "axes[0].set_title('just score 1 solvers')\n",
    "\n",
    "sns.barplot(ax=axes[1], x='year', y='memory',hue='track', data=df_memory_year_CO)\n",
    "axes[1].set_title('all solvers')"
   ]
  },
  {
   "cell_type": "code",
   "execution_count": 130,
   "id": "f2816cec",
   "metadata": {},
   "outputs": [
    {
     "name": "stdout",
     "output_type": "stream",
     "text": [
      "<class 'pandas.core.frame.DataFrame'>\n",
      "RangeIndex: 62698 entries, 0 to 62697\n",
      "Data columns (total 10 columns):\n",
      " #   Column     Non-Null Count  Dtype  \n",
      "---  ------     --------------  -----  \n",
      " 0   year       62698 non-null  int64  \n",
      " 1   solver     62698 non-null  object \n",
      " 2   track      62698 non-null  object \n",
      " 3   instances  62698 non-null  object \n",
      " 4   judgment   14208 non-null  object \n",
      " 5   cpu-time   62698 non-null  float64\n",
      " 6   status     62698 non-null  object \n",
      " 7   score      62698 non-null  int64  \n",
      " 8   answer     9800 non-null   object \n",
      " 9   memory     28890 non-null  float64\n",
      "dtypes: float64(2), int64(2), object(6)\n",
      "memory usage: 4.8+ MB\n"
     ]
    }
   ],
   "source": [
    "df_whole_year_CO.info()"
   ]
  },
  {
   "cell_type": "code",
   "execution_count": 131,
   "id": "c6525f8a",
   "metadata": {},
   "outputs": [
    {
     "data": {
      "text/html": [
       "<div>\n",
       "<style scoped>\n",
       "    .dataframe tbody tr th:only-of-type {\n",
       "        vertical-align: middle;\n",
       "    }\n",
       "\n",
       "    .dataframe tbody tr th {\n",
       "        vertical-align: top;\n",
       "    }\n",
       "\n",
       "    .dataframe thead th {\n",
       "        text-align: right;\n",
       "    }\n",
       "</style>\n",
       "<table border=\"1\" class=\"dataframe\">\n",
       "  <thead>\n",
       "    <tr style=\"text-align: right;\">\n",
       "      <th></th>\n",
       "      <th>year</th>\n",
       "      <th>solver</th>\n",
       "      <th>track</th>\n",
       "      <th>instances</th>\n",
       "      <th>judgment</th>\n",
       "      <th>cpu-time</th>\n",
       "      <th>status</th>\n",
       "      <th>score</th>\n",
       "      <th>answer</th>\n",
       "      <th>memory</th>\n",
       "    </tr>\n",
       "  </thead>\n",
       "  <tbody>\n",
       "    <tr>\n",
       "      <th>0</th>\n",
       "      <td>2015</td>\n",
       "      <td>05-Dungell</td>\n",
       "      <td>SE-CO</td>\n",
       "      <td>2015/testset1_gr_small/g_101552__1909__1_1_1__...</td>\n",
       "      <td>incorrect</td>\n",
       "      <td>-0.001</td>\n",
       "      <td>timeout or crashed</td>\n",
       "      <td>0</td>\n",
       "      <td>NaN</td>\n",
       "      <td>NaN</td>\n",
       "    </tr>\n",
       "    <tr>\n",
       "      <th>1</th>\n",
       "      <td>2015</td>\n",
       "      <td>12-ASGL</td>\n",
       "      <td>SE-CO</td>\n",
       "      <td>2015/testset1_gr_small/g_101552__1909__1_1_1__...</td>\n",
       "      <td>correct</td>\n",
       "      <td>0.370</td>\n",
       "      <td>completed</td>\n",
       "      <td>1</td>\n",
       "      <td>NaN</td>\n",
       "      <td>NaN</td>\n",
       "    </tr>\n",
       "    <tr>\n",
       "      <th>2</th>\n",
       "      <td>2015</td>\n",
       "      <td>03-ArgTools</td>\n",
       "      <td>SE-CO</td>\n",
       "      <td>2015/testset1_gr_small/g_101552__1909__1_1_1__...</td>\n",
       "      <td>correct</td>\n",
       "      <td>1.380</td>\n",
       "      <td>completed</td>\n",
       "      <td>1</td>\n",
       "      <td>NaN</td>\n",
       "      <td>NaN</td>\n",
       "    </tr>\n",
       "    <tr>\n",
       "      <th>3</th>\n",
       "      <td>2015</td>\n",
       "      <td>16-Carneades</td>\n",
       "      <td>SE-CO</td>\n",
       "      <td>2015/testset1_gr_small/g_101552__1909__1_1_1__...</td>\n",
       "      <td>incorrect</td>\n",
       "      <td>-0.001</td>\n",
       "      <td>timeout or crashed</td>\n",
       "      <td>0</td>\n",
       "      <td>NaN</td>\n",
       "      <td>NaN</td>\n",
       "    </tr>\n",
       "    <tr>\n",
       "      <th>4</th>\n",
       "      <td>2015</td>\n",
       "      <td>08-CoQuiAAS</td>\n",
       "      <td>SE-CO</td>\n",
       "      <td>2015/testset1_gr_small/g_101552__1909__1_1_1__...</td>\n",
       "      <td>correct</td>\n",
       "      <td>0.040</td>\n",
       "      <td>completed</td>\n",
       "      <td>1</td>\n",
       "      <td>NaN</td>\n",
       "      <td>NaN</td>\n",
       "    </tr>\n",
       "  </tbody>\n",
       "</table>\n",
       "</div>"
      ],
      "text/plain": [
       "   year        solver  track  \\\n",
       "0  2015    05-Dungell  SE-CO   \n",
       "1  2015       12-ASGL  SE-CO   \n",
       "2  2015   03-ArgTools  SE-CO   \n",
       "3  2015  16-Carneades  SE-CO   \n",
       "4  2015   08-CoQuiAAS  SE-CO   \n",
       "\n",
       "                                           instances   judgment  cpu-time  \\\n",
       "0  2015/testset1_gr_small/g_101552__1909__1_1_1__...  incorrect    -0.001   \n",
       "1  2015/testset1_gr_small/g_101552__1909__1_1_1__...    correct     0.370   \n",
       "2  2015/testset1_gr_small/g_101552__1909__1_1_1__...    correct     1.380   \n",
       "3  2015/testset1_gr_small/g_101552__1909__1_1_1__...  incorrect    -0.001   \n",
       "4  2015/testset1_gr_small/g_101552__1909__1_1_1__...    correct     0.040   \n",
       "\n",
       "               status  score answer  memory  \n",
       "0  timeout or crashed      0    NaN     NaN  \n",
       "1           completed      1    NaN     NaN  \n",
       "2           completed      1    NaN     NaN  \n",
       "3  timeout or crashed      0    NaN     NaN  \n",
       "4           completed      1    NaN     NaN  "
      ]
     },
     "execution_count": 131,
     "metadata": {},
     "output_type": "execute_result"
    }
   ],
   "source": [
    "df_whole_year_CO.head()"
   ]
  },
  {
   "cell_type": "code",
   "execution_count": 132,
   "id": "7af6ebad",
   "metadata": {},
   "outputs": [
    {
     "data": {
      "text/plain": [
       "array(['SE-CO', 'DC-CO', 'EE-CO', 'DS-CO'], dtype=object)"
      ]
     },
     "execution_count": 132,
     "metadata": {},
     "output_type": "execute_result"
    }
   ],
   "source": [
    "df_whole_year_CO['track'].unique()"
   ]
  },
  {
   "cell_type": "code",
   "execution_count": 133,
   "id": "6e542540",
   "metadata": {},
   "outputs": [],
   "source": [
    "df_whole_year_PR = pd.concat([df_2015_PR,df_2017_PR,df_2019_PR,df_2021_PR],axis=0,ignore_index=True)"
   ]
  },
  {
   "cell_type": "code",
   "execution_count": 134,
   "id": "8597810f",
   "metadata": {},
   "outputs": [],
   "source": [
    "df_memory_year_PR = pd.concat([df_2019_PR,df_2021_PR],axis=0,ignore_index=True)"
   ]
  },
  {
   "cell_type": "code",
   "execution_count": 135,
   "id": "f47eae9b",
   "metadata": {},
   "outputs": [],
   "source": [
    "df_whole_year_PR_correct = pd.concat([df_2015_PR_correct,df_2017_PR_correct,df_2019_PR_correct,df_2021_PR_correct],axis=0,ignore_index=True)"
   ]
  },
  {
   "cell_type": "code",
   "execution_count": 136,
   "id": "928ee033",
   "metadata": {},
   "outputs": [],
   "source": [
    "df_memory_year_PR_correct = pd.concat([df_2019_PR_correct,df_2021_PR_correct],axis=0,ignore_index=True)"
   ]
  },
  {
   "cell_type": "code",
   "execution_count": 137,
   "id": "7db21a24",
   "metadata": {},
   "outputs": [
    {
     "data": {
      "text/plain": [
       "Text(0.5, 1.0, 'all solvers')"
      ]
     },
     "execution_count": 137,
     "metadata": {},
     "output_type": "execute_result"
    },
    {
     "data": {
      "image/png": "[encoded data removed]",
      "text/plain": [
       "<Figure size 1080x360 with 2 Axes>"
      ]
     },
     "metadata": {
      "needs_background": "light"
     },
     "output_type": "display_data"
    }
   ],
   "source": [
    "fig, axes = plt.subplots(1, 2, figsize=(15, 5))\n",
    "fig.suptitle('memory compared between PR track between 2019 and 2021')\n",
    "\n",
    "sns.barplot(ax=axes[0], x='year', y='memory', hue='track',data=df_memory_year_PR_correct)\n",
    "axes[0].set_title('just score 1 solvers')\n",
    "\n",
    "sns.barplot(ax=axes[1], x='year', y='memory',hue='track', data=df_memory_year_PR)\n",
    "axes[1].set_title('all solvers')"
   ]
  },
  {
   "cell_type": "code",
   "execution_count": 138,
   "id": "0ae7cd29",
   "metadata": {},
   "outputs": [
    {
     "data": {
      "text/plain": [
       "array([2015, 2017, 2019, 2021], dtype=int64)"
      ]
     },
     "execution_count": 138,
     "metadata": {},
     "output_type": "execute_result"
    }
   ],
   "source": [
    "df_whole_year_PR['year'].unique()"
   ]
  },
  {
   "cell_type": "code",
   "execution_count": 139,
   "id": "21617a13",
   "metadata": {},
   "outputs": [
    {
     "data": {
      "text/html": [
       "<div>\n",
       "<style scoped>\n",
       "    .dataframe tbody tr th:only-of-type {\n",
       "        vertical-align: middle;\n",
       "    }\n",
       "\n",
       "    .dataframe tbody tr th {\n",
       "        vertical-align: top;\n",
       "    }\n",
       "\n",
       "    .dataframe thead th {\n",
       "        text-align: right;\n",
       "    }\n",
       "</style>\n",
       "<table border=\"1\" class=\"dataframe\">\n",
       "  <thead>\n",
       "    <tr style=\"text-align: right;\">\n",
       "      <th></th>\n",
       "      <th>year</th>\n",
       "      <th>solver</th>\n",
       "      <th>track</th>\n",
       "      <th>instances</th>\n",
       "      <th>judgment</th>\n",
       "      <th>cpu-time</th>\n",
       "      <th>status</th>\n",
       "      <th>score</th>\n",
       "      <th>answer</th>\n",
       "      <th>memory</th>\n",
       "    </tr>\n",
       "  </thead>\n",
       "  <tbody>\n",
       "    <tr>\n",
       "      <th>0</th>\n",
       "      <td>2015</td>\n",
       "      <td>04-Cegartix</td>\n",
       "      <td>EE-PR</td>\n",
       "      <td>2015/testset1_gr_small/g_101552__1909__1_1_1__...</td>\n",
       "      <td>correct</td>\n",
       "      <td>0.94</td>\n",
       "      <td>completed</td>\n",
       "      <td>1.0</td>\n",
       "      <td>NaN</td>\n",
       "      <td>NaN</td>\n",
       "    </tr>\n",
       "    <tr>\n",
       "      <th>1</th>\n",
       "      <td>2015</td>\n",
       "      <td>11-GRIS</td>\n",
       "      <td>EE-PR</td>\n",
       "      <td>2015/testset1_gr_small/g_101552__1909__1_1_1__...</td>\n",
       "      <td>correct</td>\n",
       "      <td>7.86</td>\n",
       "      <td>completed</td>\n",
       "      <td>1.0</td>\n",
       "      <td>NaN</td>\n",
       "      <td>NaN</td>\n",
       "    </tr>\n",
       "    <tr>\n",
       "      <th>2</th>\n",
       "      <td>2015</td>\n",
       "      <td>08-CoQuiAAS</td>\n",
       "      <td>EE-PR</td>\n",
       "      <td>2015/testset1_gr_small/g_101552__1909__1_1_1__...</td>\n",
       "      <td>correct</td>\n",
       "      <td>0.03</td>\n",
       "      <td>completed</td>\n",
       "      <td>1.0</td>\n",
       "      <td>NaN</td>\n",
       "      <td>NaN</td>\n",
       "    </tr>\n",
       "    <tr>\n",
       "      <th>3</th>\n",
       "      <td>2015</td>\n",
       "      <td>02-ArgSemSAT</td>\n",
       "      <td>EE-PR</td>\n",
       "      <td>2015/testset1_gr_small/g_101552__1909__1_1_1__...</td>\n",
       "      <td>correct</td>\n",
       "      <td>0.96</td>\n",
       "      <td>completed</td>\n",
       "      <td>1.0</td>\n",
       "      <td>NaN</td>\n",
       "      <td>NaN</td>\n",
       "    </tr>\n",
       "    <tr>\n",
       "      <th>4</th>\n",
       "      <td>2015</td>\n",
       "      <td>06-ZJU-ARG.sh</td>\n",
       "      <td>EE-PR</td>\n",
       "      <td>2015/testset1_gr_small/g_101552__1909__1_1_1__...</td>\n",
       "      <td>correct</td>\n",
       "      <td>1.98</td>\n",
       "      <td>completed</td>\n",
       "      <td>1.0</td>\n",
       "      <td>NaN</td>\n",
       "      <td>NaN</td>\n",
       "    </tr>\n",
       "  </tbody>\n",
       "</table>\n",
       "</div>"
      ],
      "text/plain": [
       "   year         solver  track  \\\n",
       "0  2015    04-Cegartix  EE-PR   \n",
       "1  2015        11-GRIS  EE-PR   \n",
       "2  2015    08-CoQuiAAS  EE-PR   \n",
       "3  2015   02-ArgSemSAT  EE-PR   \n",
       "4  2015  06-ZJU-ARG.sh  EE-PR   \n",
       "\n",
       "                                           instances judgment  cpu-time  \\\n",
       "0  2015/testset1_gr_small/g_101552__1909__1_1_1__...  correct      0.94   \n",
       "1  2015/testset1_gr_small/g_101552__1909__1_1_1__...  correct      7.86   \n",
       "2  2015/testset1_gr_small/g_101552__1909__1_1_1__...  correct      0.03   \n",
       "3  2015/testset1_gr_small/g_101552__1909__1_1_1__...  correct      0.96   \n",
       "4  2015/testset1_gr_small/g_101552__1909__1_1_1__...  correct      1.98   \n",
       "\n",
       "      status  score answer  memory  \n",
       "0  completed    1.0    NaN     NaN  \n",
       "1  completed    1.0    NaN     NaN  \n",
       "2  completed    1.0    NaN     NaN  \n",
       "3  completed    1.0    NaN     NaN  \n",
       "4  completed    1.0    NaN     NaN  "
      ]
     },
     "execution_count": 139,
     "metadata": {},
     "output_type": "execute_result"
    }
   ],
   "source": [
    "df_whole_year_PR.head()"
   ]
  },
  {
   "cell_type": "markdown",
   "id": "5866c6e2",
   "metadata": {},
   "source": [
    "## EE-CO track"
   ]
  },
  {
   "cell_type": "code",
   "execution_count": 140,
   "id": "88d15766",
   "metadata": {},
   "outputs": [],
   "source": [
    "df_whole_EE_CO = df_whole_year_CO.loc[df_whole_year_CO['track'] == 'EE-CO']"
   ]
  },
  {
   "cell_type": "code",
   "execution_count": 141,
   "id": "3e4ad5e2",
   "metadata": {},
   "outputs": [],
   "source": [
    "df_whole_EE_CO_correct = df_whole_year_CO_correct.loc[df_whole_year_CO_correct['track'] == 'EE-CO']"
   ]
  },
  {
   "cell_type": "code",
   "execution_count": 142,
   "id": "7934386f",
   "metadata": {},
   "outputs": [
    {
     "data": {
      "text/plain": [
       "Text(0.5, 1.0, 'all solvers')"
      ]
     },
     "execution_count": 142,
     "metadata": {},
     "output_type": "execute_result"
    },
    {
     "data": {
      "image/png": "[encoded data removed]",
      "text/plain": [
       "<Figure size 1080x360 with 2 Axes>"
      ]
     },
     "metadata": {
      "needs_background": "light"
     },
     "output_type": "display_data"
    }
   ],
   "source": [
    "fig, axes = plt.subplots(1, 2, figsize=(15, 5))\n",
    "fig.suptitle('CPU-time compared between EE-CO track through years')\n",
    "\n",
    "sns.barplot(ax=axes[0], x='year', y='cpu-time', data=df_whole_EE_CO_correct)\n",
    "axes[0].set_title('just score 1 solvers')\n",
    "\n",
    "sns.barplot(ax=axes[1], x='year', y='cpu-time', data=df_whole_EE_CO)\n",
    "axes[1].set_title('all solvers')"
   ]
  },
  {
   "cell_type": "markdown",
   "id": "a550b4ba",
   "metadata": {},
   "source": [
    "## SE-CO track"
   ]
  },
  {
   "cell_type": "code",
   "execution_count": 143,
   "id": "1753c699",
   "metadata": {},
   "outputs": [],
   "source": [
    "df_whole_SE_CO = df_whole_year_CO.loc[df_whole_year_CO['track'] == 'SE-CO']"
   ]
  },
  {
   "cell_type": "code",
   "execution_count": 144,
   "id": "e0cb7d3e",
   "metadata": {},
   "outputs": [],
   "source": [
    "df_whole_SE_CO_correct = df_whole_year_CO_correct.loc[df_whole_year_CO_correct['track'] == 'SE-CO']"
   ]
  },
  {
   "cell_type": "code",
   "execution_count": 145,
   "id": "0a1c4727",
   "metadata": {},
   "outputs": [
    {
     "data": {
      "text/html": [
       "<div>\n",
       "<style scoped>\n",
       "    .dataframe tbody tr th:only-of-type {\n",
       "        vertical-align: middle;\n",
       "    }\n",
       "\n",
       "    .dataframe tbody tr th {\n",
       "        vertical-align: top;\n",
       "    }\n",
       "\n",
       "    .dataframe thead th {\n",
       "        text-align: right;\n",
       "    }\n",
       "</style>\n",
       "<table border=\"1\" class=\"dataframe\">\n",
       "  <thead>\n",
       "    <tr style=\"text-align: right;\">\n",
       "      <th></th>\n",
       "      <th>year</th>\n",
       "      <th>solver</th>\n",
       "      <th>track</th>\n",
       "      <th>instances</th>\n",
       "      <th>judgment</th>\n",
       "      <th>cpu-time</th>\n",
       "      <th>status</th>\n",
       "      <th>score</th>\n",
       "      <th>answer</th>\n",
       "      <th>memory</th>\n",
       "    </tr>\n",
       "  </thead>\n",
       "  <tbody>\n",
       "    <tr>\n",
       "      <th>0</th>\n",
       "      <td>2015</td>\n",
       "      <td>05-Dungell</td>\n",
       "      <td>SE-CO</td>\n",
       "      <td>2015/testset1_gr_small/g_101552__1909__1_1_1__...</td>\n",
       "      <td>incorrect</td>\n",
       "      <td>-0.001</td>\n",
       "      <td>timeout or crashed</td>\n",
       "      <td>0</td>\n",
       "      <td>NaN</td>\n",
       "      <td>NaN</td>\n",
       "    </tr>\n",
       "    <tr>\n",
       "      <th>1</th>\n",
       "      <td>2015</td>\n",
       "      <td>12-ASGL</td>\n",
       "      <td>SE-CO</td>\n",
       "      <td>2015/testset1_gr_small/g_101552__1909__1_1_1__...</td>\n",
       "      <td>correct</td>\n",
       "      <td>0.370</td>\n",
       "      <td>completed</td>\n",
       "      <td>1</td>\n",
       "      <td>NaN</td>\n",
       "      <td>NaN</td>\n",
       "    </tr>\n",
       "    <tr>\n",
       "      <th>2</th>\n",
       "      <td>2015</td>\n",
       "      <td>03-ArgTools</td>\n",
       "      <td>SE-CO</td>\n",
       "      <td>2015/testset1_gr_small/g_101552__1909__1_1_1__...</td>\n",
       "      <td>correct</td>\n",
       "      <td>1.380</td>\n",
       "      <td>completed</td>\n",
       "      <td>1</td>\n",
       "      <td>NaN</td>\n",
       "      <td>NaN</td>\n",
       "    </tr>\n",
       "    <tr>\n",
       "      <th>3</th>\n",
       "      <td>2015</td>\n",
       "      <td>16-Carneades</td>\n",
       "      <td>SE-CO</td>\n",
       "      <td>2015/testset1_gr_small/g_101552__1909__1_1_1__...</td>\n",
       "      <td>incorrect</td>\n",
       "      <td>-0.001</td>\n",
       "      <td>timeout or crashed</td>\n",
       "      <td>0</td>\n",
       "      <td>NaN</td>\n",
       "      <td>NaN</td>\n",
       "    </tr>\n",
       "    <tr>\n",
       "      <th>4</th>\n",
       "      <td>2015</td>\n",
       "      <td>08-CoQuiAAS</td>\n",
       "      <td>SE-CO</td>\n",
       "      <td>2015/testset1_gr_small/g_101552__1909__1_1_1__...</td>\n",
       "      <td>correct</td>\n",
       "      <td>0.040</td>\n",
       "      <td>completed</td>\n",
       "      <td>1</td>\n",
       "      <td>NaN</td>\n",
       "      <td>NaN</td>\n",
       "    </tr>\n",
       "  </tbody>\n",
       "</table>\n",
       "</div>"
      ],
      "text/plain": [
       "   year        solver  track  \\\n",
       "0  2015    05-Dungell  SE-CO   \n",
       "1  2015       12-ASGL  SE-CO   \n",
       "2  2015   03-ArgTools  SE-CO   \n",
       "3  2015  16-Carneades  SE-CO   \n",
       "4  2015   08-CoQuiAAS  SE-CO   \n",
       "\n",
       "                                           instances   judgment  cpu-time  \\\n",
       "0  2015/testset1_gr_small/g_101552__1909__1_1_1__...  incorrect    -0.001   \n",
       "1  2015/testset1_gr_small/g_101552__1909__1_1_1__...    correct     0.370   \n",
       "2  2015/testset1_gr_small/g_101552__1909__1_1_1__...    correct     1.380   \n",
       "3  2015/testset1_gr_small/g_101552__1909__1_1_1__...  incorrect    -0.001   \n",
       "4  2015/testset1_gr_small/g_101552__1909__1_1_1__...    correct     0.040   \n",
       "\n",
       "               status  score answer  memory  \n",
       "0  timeout or crashed      0    NaN     NaN  \n",
       "1           completed      1    NaN     NaN  \n",
       "2           completed      1    NaN     NaN  \n",
       "3  timeout or crashed      0    NaN     NaN  \n",
       "4           completed      1    NaN     NaN  "
      ]
     },
     "execution_count": 145,
     "metadata": {},
     "output_type": "execute_result"
    }
   ],
   "source": [
    "df_whole_SE_CO.head()"
   ]
  },
  {
   "cell_type": "code",
   "execution_count": 146,
   "id": "75674f59",
   "metadata": {},
   "outputs": [
    {
     "data": {
      "text/plain": [
       "Text(0.5, 1.0, 'all solvers')"
      ]
     },
     "execution_count": 146,
     "metadata": {},
     "output_type": "execute_result"
    },
    {
     "data": {
      "image/png": "[encoded data removed]",
      "text/plain": [
       "<Figure size 1080x360 with 2 Axes>"
      ]
     },
     "metadata": {
      "needs_background": "light"
     },
     "output_type": "display_data"
    }
   ],
   "source": [
    "fig, axes = plt.subplots(1, 2, figsize=(15, 5))\n",
    "fig.suptitle('CPU-time compared between SE-CO track through years')\n",
    "\n",
    "sns.barplot(ax=axes[0], x='year', y='cpu-time', data=df_whole_SE_CO_correct)\n",
    "axes[0].set_title('just score 1 solvers')\n",
    "\n",
    "sns.barplot(ax=axes[1], x='year', y='cpu-time', data=df_whole_SE_CO)\n",
    "axes[1].set_title('all solvers')"
   ]
  },
  {
   "cell_type": "markdown",
   "id": "5e371d09",
   "metadata": {},
   "source": [
    "## DS-CO track"
   ]
  },
  {
   "cell_type": "code",
   "execution_count": 147,
   "id": "c7ac461c",
   "metadata": {},
   "outputs": [],
   "source": [
    "df_whole_DS_CO = df_whole_year_CO.loc[df_whole_year_CO['track'] == 'DS-CO']"
   ]
  },
  {
   "cell_type": "code",
   "execution_count": 148,
   "id": "5654ed11",
   "metadata": {},
   "outputs": [],
   "source": [
    "df_whole_DS_CO_correct = df_whole_year_CO_correct.loc[df_whole_year_CO_correct['track'] == 'DS-CO']"
   ]
  },
  {
   "cell_type": "code",
   "execution_count": 149,
   "id": "b243b902",
   "metadata": {},
   "outputs": [
    {
     "data": {
      "text/plain": [
       "Text(0.5, 1.0, 'all solvers')"
      ]
     },
     "execution_count": 149,
     "metadata": {},
     "output_type": "execute_result"
    },
    {
     "data": {
      "image/png": "[encoded data removed]",
      "text/plain": [
       "<Figure size 1080x360 with 2 Axes>"
      ]
     },
     "metadata": {
      "needs_background": "light"
     },
     "output_type": "display_data"
    }
   ],
   "source": [
    "fig, axes = plt.subplots(1, 2, figsize=(15, 5))\n",
    "fig.suptitle('CPU-time compared between DS-CO track through years')\n",
    "\n",
    "sns.barplot(ax=axes[0], x='year', y='cpu-time', data=df_whole_DS_CO_correct)\n",
    "axes[0].set_title('just score 1 solvers')\n",
    "\n",
    "sns.barplot(ax=axes[1], x='year', y='cpu-time', data=df_whole_DS_CO)\n",
    "axes[1].set_title('all solvers')"
   ]
  },
  {
   "cell_type": "markdown",
   "id": "0900db11",
   "metadata": {},
   "source": [
    "Unlike the rest of several tracks, in the ds-co track, the average cpu-time in 2021 is greater than in 2017"
   ]
  },
  {
   "cell_type": "markdown",
   "id": "d1f62b48",
   "metadata": {},
   "source": [
    "## DC-CO track"
   ]
  },
  {
   "cell_type": "code",
   "execution_count": 150,
   "id": "e2bf5cac",
   "metadata": {},
   "outputs": [],
   "source": [
    "df_whole_DC_CO = df_whole_year_CO.loc[df_whole_year_CO['track'] == 'DC-CO']"
   ]
  },
  {
   "cell_type": "code",
   "execution_count": 151,
   "id": "afdd1cba",
   "metadata": {},
   "outputs": [],
   "source": [
    "df_whole_DC_CO_correct = df_whole_year_CO_correct.loc[df_whole_year_CO_correct['track'] == 'DC-CO']"
   ]
  },
  {
   "cell_type": "code",
   "execution_count": 152,
   "id": "71be1024",
   "metadata": {},
   "outputs": [
    {
     "data": {
      "text/plain": [
       "Text(0.5, 1.0, 'all solvers')"
      ]
     },
     "execution_count": 152,
     "metadata": {},
     "output_type": "execute_result"
    },
    {
     "data": {
      "image/png": "[encoded data removed]",
      "text/plain": [
       "<Figure size 1080x360 with 2 Axes>"
      ]
     },
     "metadata": {
      "needs_background": "light"
     },
     "output_type": "display_data"
    }
   ],
   "source": [
    "fig, axes = plt.subplots(1, 2, figsize=(15, 5))\n",
    "fig.suptitle('CPU-time compared between DC-CO track through years')\n",
    "\n",
    "sns.barplot(ax=axes[0], x='year', y='cpu-time', data=df_whole_DC_CO_correct)\n",
    "axes[0].set_title('just score 1 solvers')\n",
    "\n",
    "sns.barplot(ax=axes[1], x='year', y='cpu-time', data=df_whole_DC_CO)\n",
    "axes[1].set_title('all solvers')"
   ]
  },
  {
   "cell_type": "markdown",
   "id": "ba4fd37d",
   "metadata": {},
   "source": [
    "## EE-PR track"
   ]
  },
  {
   "cell_type": "code",
   "execution_count": 153,
   "id": "f2a2e7bc",
   "metadata": {},
   "outputs": [],
   "source": [
    "df_whole_EE_PR = df_whole_year_PR.loc[df_whole_year_PR['track'] == 'EE-PR']"
   ]
  },
  {
   "cell_type": "code",
   "execution_count": 154,
   "id": "da03480f",
   "metadata": {},
   "outputs": [],
   "source": [
    "df_whole_EE_PR_correct = df_whole_year_PR_correct.loc[df_whole_year_PR_correct['track'] == 'EE-PR']"
   ]
  },
  {
   "cell_type": "code",
   "execution_count": 155,
   "id": "48f7c765",
   "metadata": {},
   "outputs": [
    {
     "data": {
      "text/plain": [
       "Text(0.5, 1.0, 'all solvers')"
      ]
     },
     "execution_count": 155,
     "metadata": {},
     "output_type": "execute_result"
    },
    {
     "data": {
      "image/png": "[encoded data removed]",
      "text/plain": [
       "<Figure size 1080x360 with 2 Axes>"
      ]
     },
     "metadata": {
      "needs_background": "light"
     },
     "output_type": "display_data"
    }
   ],
   "source": [
    "fig, axes = plt.subplots(1, 2, figsize=(15, 5))\n",
    "fig.suptitle('CPU-time compared between EE-PR track through years')\n",
    "\n",
    "sns.barplot(ax=axes[0], x='year', y='cpu-time', data=df_whole_EE_PR_correct)\n",
    "axes[0].set_title('just score 1 solvers')\n",
    "\n",
    "sns.barplot(ax=axes[1], x='year', y='cpu-time', data=df_whole_EE_PR)\n",
    "axes[1].set_title('all solvers')"
   ]
  },
  {
   "cell_type": "markdown",
   "id": "56c2cd7f",
   "metadata": {},
   "source": [
    "## SE-PR track"
   ]
  },
  {
   "cell_type": "code",
   "execution_count": 156,
   "id": "707d3d5d",
   "metadata": {},
   "outputs": [],
   "source": [
    "df_whole_SE_PR = df_whole_year_PR.loc[df_whole_year_PR['track'] == 'SE-PR']"
   ]
  },
  {
   "cell_type": "code",
   "execution_count": 157,
   "id": "c8d9651d",
   "metadata": {},
   "outputs": [],
   "source": [
    "df_whole_SE_PR_correct = df_whole_year_PR_correct.loc[df_whole_year_PR_correct['track'] == 'SE-PR']"
   ]
  },
  {
   "cell_type": "code",
   "execution_count": 158,
   "id": "ab10073b",
   "metadata": {},
   "outputs": [
    {
     "data": {
      "text/plain": [
       "Text(0.5, 1.0, 'all solvers')"
      ]
     },
     "execution_count": 158,
     "metadata": {},
     "output_type": "execute_result"
    },
    {
     "data": {
      "image/png": "[encoded data removed]",
      "text/plain": [
       "<Figure size 1080x360 with 2 Axes>"
      ]
     },
     "metadata": {
      "needs_background": "light"
     },
     "output_type": "display_data"
    }
   ],
   "source": [
    "fig, axes = plt.subplots(1, 2, figsize=(15, 5))\n",
    "fig.suptitle('CPU-time compared between SE-PR track through years')\n",
    "\n",
    "sns.barplot(ax=axes[0], x='year', y='cpu-time', data=df_whole_SE_PR_correct)\n",
    "axes[0].set_title('just score 1 solvers')\n",
    "\n",
    "sns.barplot(ax=axes[1], x='year', y='cpu-time', data=df_whole_SE_PR)\n",
    "axes[1].set_title('all solvers')"
   ]
  },
  {
   "cell_type": "markdown",
   "id": "fb1eda44",
   "metadata": {},
   "source": [
    "## DS-PR track"
   ]
  },
  {
   "cell_type": "code",
   "execution_count": 159,
   "id": "dad06f1e",
   "metadata": {},
   "outputs": [],
   "source": [
    "df_whole_DS_PR = df_whole_year_PR.loc[df_whole_year_PR['track'] == 'DS-PR']"
   ]
  },
  {
   "cell_type": "code",
   "execution_count": 160,
   "id": "b9e998ce",
   "metadata": {},
   "outputs": [],
   "source": [
    "df_whole_DS_PR_correct = df_whole_year_PR_correct.loc[df_whole_year_PR_correct['track'] == 'DS-PR']"
   ]
  },
  {
   "cell_type": "code",
   "execution_count": 161,
   "id": "6d8fe4a0",
   "metadata": {},
   "outputs": [
    {
     "data": {
      "text/plain": [
       "Text(0.5, 1.0, 'all solvers')"
      ]
     },
     "execution_count": 161,
     "metadata": {},
     "output_type": "execute_result"
    },
    {
     "data": {
      "image/png": "[encoded data removed]",
      "text/plain": [
       "<Figure size 1080x360 with 2 Axes>"
      ]
     },
     "metadata": {
      "needs_background": "light"
     },
     "output_type": "display_data"
    }
   ],
   "source": [
    "fig, axes = plt.subplots(1, 2, figsize=(15, 5))\n",
    "fig.suptitle('CPU-time compared between DS-PR track through years')\n",
    "\n",
    "sns.barplot(ax=axes[0], x='year', y='cpu-time', data=df_whole_DS_PR_correct)\n",
    "axes[0].set_title('just score 1 solvers')\n",
    "\n",
    "sns.barplot(ax=axes[1], x='year', y='cpu-time', data=df_whole_DS_PR)\n",
    "axes[1].set_title('all solvers')"
   ]
  },
  {
   "cell_type": "markdown",
   "id": "75444265",
   "metadata": {},
   "source": [
    "## DC-PR track"
   ]
  },
  {
   "cell_type": "code",
   "execution_count": 162,
   "id": "7f0ee1b3",
   "metadata": {},
   "outputs": [],
   "source": [
    "df_whole_DC_PR = df_whole_year_PR.loc[df_whole_year_PR['track'] == 'DC-PR']"
   ]
  },
  {
   "cell_type": "code",
   "execution_count": 163,
   "id": "7d4ba8fa",
   "metadata": {},
   "outputs": [],
   "source": [
    "df_whole_DC_PR_correct = df_whole_year_PR_correct.loc[df_whole_year_PR_correct['track'] == 'DC-PR']"
   ]
  },
  {
   "cell_type": "code",
   "execution_count": 164,
   "id": "06109a72",
   "metadata": {},
   "outputs": [
    {
     "data": {
      "text/plain": [
       "Text(0.5, 1.0, 'all solvers')"
      ]
     },
     "execution_count": 164,
     "metadata": {},
     "output_type": "execute_result"
    },
    {
     "data": {
      "image/png": "[encoded data removed]",
      "text/plain": [
       "<Figure size 1080x360 with 2 Axes>"
      ]
     },
     "metadata": {
      "needs_background": "light"
     },
     "output_type": "display_data"
    }
   ],
   "source": [
    "fig, axes = plt.subplots(1, 2, figsize=(15, 5))\n",
    "fig.suptitle('CPU-time compared between DC-PR track through years')\n",
    "\n",
    "sns.barplot(ax=axes[0], x='year', y='cpu-time', data=df_whole_DC_PR_correct)\n",
    "axes[0].set_title('just score 1 solvers')\n",
    "\n",
    "sns.barplot(ax=axes[1], x='year', y='cpu-time', data=df_whole_DC_PR)\n",
    "axes[1].set_title('all solvers')"
   ]
  },
  {
   "cell_type": "markdown",
   "id": "61ad915d",
   "metadata": {},
   "source": [
    "## The Complexity Classification of Instances"
   ]
  },
  {
   "cell_type": "markdown",
   "id": "d83281f8",
   "metadata": {},
   "source": [
    "- classification rules:\n",
    "    - [very easy] Instances completed by all systems in less than 6 seconds solving time. \n",
    "    - [easy] Instances completed by all systems in less than 60 seconds solving time. \n",
    "    - [medium] Instances completed by all systems in less than 10 minutes solving time. \n",
    "    - [hard] Instances completed by at least one system in 20 minutes (twice the timeout) solving time. \n",
    "    - [too hard] Instances such that none of the systems finished solving in 20 minutes. "
   ]
  },
  {
   "cell_type": "code",
   "execution_count": 165,
   "id": "e2854642",
   "metadata": {},
   "outputs": [],
   "source": [
    "df_com_merge_PR_c = pd.read_csv('C:/Users/DELL/ICCMA/data/df_com_merge_PR_c.csv')"
   ]
  },
  {
   "cell_type": "code",
   "execution_count": 166,
   "id": "9c0e2cdc",
   "metadata": {},
   "outputs": [
    {
     "data": {
      "text/html": [
       "<div>\n",
       "<style scoped>\n",
       "    .dataframe tbody tr th:only-of-type {\n",
       "        vertical-align: middle;\n",
       "    }\n",
       "\n",
       "    .dataframe tbody tr th {\n",
       "        vertical-align: top;\n",
       "    }\n",
       "\n",
       "    .dataframe thead th {\n",
       "        text-align: right;\n",
       "    }\n",
       "</style>\n",
       "<table border=\"1\" class=\"dataframe\">\n",
       "  <thead>\n",
       "    <tr style=\"text-align: right;\">\n",
       "      <th></th>\n",
       "      <th>Unnamed: 0</th>\n",
       "      <th>year</th>\n",
       "      <th>solver</th>\n",
       "      <th>track</th>\n",
       "      <th>instances</th>\n",
       "      <th>cpu-time</th>\n",
       "      <th>memory</th>\n",
       "      <th>totargs</th>\n",
       "      <th>totedges</th>\n",
       "      <th>density</th>\n",
       "      <th>totlayers</th>\n",
       "      <th>totsccs</th>\n",
       "      <th>totntsccs</th>\n",
       "      <th>avgntsize</th>\n",
       "      <th>maxsccsize</th>\n",
       "    </tr>\n",
       "  </thead>\n",
       "  <tbody>\n",
       "    <tr>\n",
       "      <th>0</th>\n",
       "      <td>0</td>\n",
       "      <td>2019</td>\n",
       "      <td>aspartix19</td>\n",
       "      <td>SE-PR</td>\n",
       "      <td>2019/instances/A-1-admbuster_1000.tgf</td>\n",
       "      <td>0.491</td>\n",
       "      <td>2904064.0</td>\n",
       "      <td>1000</td>\n",
       "      <td>1498</td>\n",
       "      <td>0.001498</td>\n",
       "      <td>1</td>\n",
       "      <td>1000</td>\n",
       "      <td>0</td>\n",
       "      <td>0.0</td>\n",
       "      <td>1</td>\n",
       "    </tr>\n",
       "    <tr>\n",
       "      <th>1</th>\n",
       "      <td>1</td>\n",
       "      <td>2019</td>\n",
       "      <td>coquiaas</td>\n",
       "      <td>SE-PR</td>\n",
       "      <td>2019/instances/A-1-admbuster_1000.tgf</td>\n",
       "      <td>0.322</td>\n",
       "      <td>2883584.0</td>\n",
       "      <td>1000</td>\n",
       "      <td>1498</td>\n",
       "      <td>0.001498</td>\n",
       "      <td>1</td>\n",
       "      <td>1000</td>\n",
       "      <td>0</td>\n",
       "      <td>0.0</td>\n",
       "      <td>1</td>\n",
       "    </tr>\n",
       "    <tr>\n",
       "      <th>2</th>\n",
       "      <td>2</td>\n",
       "      <td>2019</td>\n",
       "      <td>eqargsolver</td>\n",
       "      <td>SE-PR</td>\n",
       "      <td>2019/instances/A-1-admbuster_1000.tgf</td>\n",
       "      <td>0.311</td>\n",
       "      <td>2887680.0</td>\n",
       "      <td>1000</td>\n",
       "      <td>1498</td>\n",
       "      <td>0.001498</td>\n",
       "      <td>1</td>\n",
       "      <td>1000</td>\n",
       "      <td>0</td>\n",
       "      <td>0.0</td>\n",
       "      <td>1</td>\n",
       "    </tr>\n",
       "    <tr>\n",
       "      <th>3</th>\n",
       "      <td>3</td>\n",
       "      <td>2019</td>\n",
       "      <td>mu-toksia</td>\n",
       "      <td>SE-PR</td>\n",
       "      <td>2019/instances/A-1-admbuster_1000.tgf</td>\n",
       "      <td>0.270</td>\n",
       "      <td>2887680.0</td>\n",
       "      <td>1000</td>\n",
       "      <td>1498</td>\n",
       "      <td>0.001498</td>\n",
       "      <td>1</td>\n",
       "      <td>1000</td>\n",
       "      <td>0</td>\n",
       "      <td>0.0</td>\n",
       "      <td>1</td>\n",
       "    </tr>\n",
       "    <tr>\n",
       "      <th>4</th>\n",
       "      <td>4</td>\n",
       "      <td>2019</td>\n",
       "      <td>pyglaf</td>\n",
       "      <td>SE-PR</td>\n",
       "      <td>2019/instances/A-1-admbuster_1000.tgf</td>\n",
       "      <td>0.701</td>\n",
       "      <td>2875392.0</td>\n",
       "      <td>1000</td>\n",
       "      <td>1498</td>\n",
       "      <td>0.001498</td>\n",
       "      <td>1</td>\n",
       "      <td>1000</td>\n",
       "      <td>0</td>\n",
       "      <td>0.0</td>\n",
       "      <td>1</td>\n",
       "    </tr>\n",
       "  </tbody>\n",
       "</table>\n",
       "</div>"
      ],
      "text/plain": [
       "   Unnamed: 0  year       solver  track  \\\n",
       "0           0  2019   aspartix19  SE-PR   \n",
       "1           1  2019     coquiaas  SE-PR   \n",
       "2           2  2019  eqargsolver  SE-PR   \n",
       "3           3  2019    mu-toksia  SE-PR   \n",
       "4           4  2019       pyglaf  SE-PR   \n",
       "\n",
       "                               instances  cpu-time     memory  totargs  \\\n",
       "0  2019/instances/A-1-admbuster_1000.tgf     0.491  2904064.0     1000   \n",
       "1  2019/instances/A-1-admbuster_1000.tgf     0.322  2883584.0     1000   \n",
       "2  2019/instances/A-1-admbuster_1000.tgf     0.311  2887680.0     1000   \n",
       "3  2019/instances/A-1-admbuster_1000.tgf     0.270  2887680.0     1000   \n",
       "4  2019/instances/A-1-admbuster_1000.tgf     0.701  2875392.0     1000   \n",
       "\n",
       "   totedges   density  totlayers  totsccs  totntsccs  avgntsize  maxsccsize  \n",
       "0      1498  0.001498          1     1000          0        0.0           1  \n",
       "1      1498  0.001498          1     1000          0        0.0           1  \n",
       "2      1498  0.001498          1     1000          0        0.0           1  \n",
       "3      1498  0.001498          1     1000          0        0.0           1  \n",
       "4      1498  0.001498          1     1000          0        0.0           1  "
      ]
     },
     "execution_count": 166,
     "metadata": {},
     "output_type": "execute_result"
    }
   ],
   "source": [
    "# def complexity():\n",
    "df_com_merge_PR_c.head()"
   ]
  },
  {
   "cell_type": "code",
   "execution_count": null,
   "id": "b26f410a",
   "metadata": {},
   "outputs": [],
   "source": []
  }
 ],
 "metadata": {
  "kernelspec": {
   "display_name": "Python 3",
   "language": "python",
   "name": "python3"
  },
  "language_info": {
   "codemirror_mode": {
    "name": "ipython",
    "version": 3
   },
   "file_extension": ".py",
   "mimetype": "text/x-python",
   "name": "python",
   "nbconvert_exporter": "python",
   "pygments_lexer": "ipython3",
   "version": "3.8.8"
  },
  "vp": {
   "vp_config_version": "1.0.0",
   "vp_menu_width": 273,
   "vp_note_display": false,
   "vp_note_width": 0,
   "vp_position": {
    "width": 278
   },
   "vp_section_display": false,
   "vp_signature": "VisualPython"
  }
 },
 "nbformat": 4,
 "nbformat_minor": 5
}
